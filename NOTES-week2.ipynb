{
  "cells": [
    {
      "cell_type": "markdown",
      "metadata": {
        "id": "ulDUX-tcqJct"
      },
      "source": [
        "---\n",
        "<h1><center>  Lab 2: Introduction to Python - Part 2 </center>\n",
        "    <img src=\"https://files.realpython.com/media/real-python-video-courses-title-wide.daf71ae6460c.png\" width=\"400\">"
      ]
    },
    {
      "cell_type": "markdown",
      "metadata": {
        "id": "JvELcjZ9BHDf"
      },
      "source": [
        "> ```Created by Jinnie Shin (jinnie.shin@coe.ufl.edu)```\\\n",
        "> ```Date: ```\n",
        "---"
      ]
    },
    {
      "cell_type": "markdown",
      "metadata": {
        "id": "J48Y-2CNqBkk"
      },
      "source": [
        "<img src=\"https://encrypted-tbn0.gstatic.com/images?q=tbn:ANd9GcQmNf86oJnfhpkPA9LnrFnAbfwF2VywPYpB_w&usqp=CAU\" align=\"left\" width=\"70\" height=\"70\" align=\"left\">\n",
        "\n",
        " ### Required Packages or Dependencies"
      ]
    },
    {
      "cell_type": "code",
      "execution_count": 1,
      "metadata": {
        "id": "pDQGRYORlqZ4"
      },
      "outputs": [],
      "source": [
        "import ipywidgets as widgets\n",
        "from ipywidgets import interact, interact_manual\n",
        "from IPython.core.interactiveshell import InteractiveShell\n",
        "InteractiveShell.ast_node_interactivity = \"all\"\n",
        "import matplotlib.pyplot as plt\n",
        "import pandas as pd\n",
        "import os"
      ]
    },
    {
      "cell_type": "markdown",
      "metadata": {
        "id": "ysZL0WTb0Kqo"
      },
      "source": [
        "## 1. Importing a data file with ```Pandas```\n"
      ]
    },
    {
      "cell_type": "markdown",
      "metadata": {
        "id": "WR56coay1KVn"
      },
      "source": [
        "### 1.1 load the house price dataset (csv file)\n",
        "\n",
        ">  We will use ```pandas.read_csv``` to open a csv file from a desingated directory.\n",
        ">  Excel files can be imported using ```pandas.read_excel```"
      ]
    },
    {
      "cell_type": "code",
      "execution_count": 11,
      "metadata": {
        "id": "aI6dSZTbrS6e"
      },
      "outputs": [],
      "source": [
        "df = pd.read_excel('training_set_rel3.xlsx')"
      ]
    },
    {
      "cell_type": "code",
      "execution_count": null,
      "metadata": {
        "colab": {
          "base_uri": "https://localhost:8080/",
          "referenced_widgets": [
            "be0693179fe64786b4c692b809541e70"
          ]
        },
        "id": "SiONb4MYtWJh",
        "outputId": "bfc6562f-abb7-4b72-bf85-99ecb7a89083"
      },
      "outputs": [
        {
          "data": {
            "application/vnd.jupyter.widget-view+json": {
              "model_id": "be0693179fe64786b4c692b809541e70",
              "version_major": 2,
              "version_minor": 0
            },
            "text/plain": [
              "interactive(children=(Text(value='essay_set', description='column'), IntSlider(value=8, description='x', max=2…"
            ]
          },
          "metadata": {},
          "output_type": "display_data"
        }
      ],
      "source": [
        "@interact\n",
        "def show_responses(column='essay_set', x=8):\n",
        "    return df.loc[df[column] == x ][:5][['essay_id', 'essay_set', 'essay', 'domain1_score']]"
      ]
    },
    {
      "cell_type": "markdown",
      "metadata": {
        "id": "7FYQACyqBHDm"
      },
      "source": [
        "## 2. Key Functions and Arguments in ```Pandas```\n",
        "> ```pandas``` provide various functions and extensions so that we could manipulate and implement learning models using ```dataframe``` or ```df``` as inputs."
      ]
    },
    {
      "cell_type": "code",
      "execution_count": 14,
      "metadata": {
        "colab": {
          "base_uri": "https://localhost:8080/"
        },
        "id": "nR39VPERmEd8",
        "outputId": "50d5214a-c37e-4863-9525-99b03706cd4b"
      },
      "outputs": [
        {
          "output_type": "execute_result",
          "data": {
            "text/plain": [
              "Index(['essay_id', 'essay_set', 'essay', 'rater1_domain1', 'rater2_domain1',\n",
              "       'rater3_domain1', 'domain1_score', 'rater1_domain2', 'rater2_domain2',\n",
              "       'domain2_score', 'rater1_trait1', 'rater1_trait2', 'rater1_trait3',\n",
              "       'rater1_trait4', 'rater1_trait5', 'rater1_trait6', 'rater2_trait1',\n",
              "       'rater2_trait2', 'rater2_trait3', 'rater2_trait4', 'rater2_trait5',\n",
              "       'rater2_trait6', 'rater3_trait1', 'rater3_trait2', 'rater3_trait3',\n",
              "       'rater3_trait4', 'rater3_trait5', 'rater3_trait6'],\n",
              "      dtype='object')"
            ]
          },
          "metadata": {},
          "execution_count": 14
        }
      ],
      "source": [
        "df.columns # list of column names"
      ]
    },
    {
      "cell_type": "code",
      "execution_count": 13,
      "metadata": {
        "colab": {
          "base_uri": "https://localhost:8080/"
        },
        "id": "2Q4Dfl-NnK88",
        "outputId": "e775ad6e-3d07-456b-cea7-2bf597615a24"
      },
      "outputs": [
        {
          "output_type": "execute_result",
          "data": {
            "text/plain": [
              "RangeIndex(start=0, stop=12978, step=1)"
            ]
          },
          "metadata": {},
          "execution_count": 13
        }
      ],
      "source": [
        "df.index # index number"
      ]
    },
    {
      "cell_type": "markdown",
      "metadata": {
        "id": "1imoioLrnqX5",
        "outputId": "9b884df7-d2e7-49a2-e056-de84febdffa2"
      },
      "source": [
        "> Dimension of the dataframe can be simply checked using ```len()``` or ```.shape()```"
      ]
    },
    {
      "cell_type": "code",
      "execution_count": 15,
      "metadata": {
        "colab": {
          "base_uri": "https://localhost:8080/"
        },
        "id": "8eKr9t5I0kLL",
        "outputId": "a158a612-6fc1-4382-f939-b55fa91adedf"
      },
      "outputs": [
        {
          "output_type": "stream",
          "name": "stdout",
          "text": [
            "12978\n",
            "28\n"
          ]
        }
      ],
      "source": [
        "print(len(df)) # the number of samples\n",
        "print(len(df.columns)) # the number of features"
      ]
    },
    {
      "cell_type": "code",
      "execution_count": 16,
      "metadata": {
        "colab": {
          "base_uri": "https://localhost:8080/"
        },
        "id": "GwE8XYrD4tuT",
        "outputId": "41781608-b6d9-401a-b5ce-e279c143ee39"
      },
      "outputs": [
        {
          "output_type": "execute_result",
          "data": {
            "text/plain": [
              "(12978, 28)"
            ]
          },
          "metadata": {},
          "execution_count": 16
        }
      ],
      "source": [
        "df.shape # (N samples X N columns)"
      ]
    },
    {
      "cell_type": "code",
      "execution_count": null,
      "metadata": {
        "colab": {
          "base_uri": "https://localhost:8080/"
        },
        "id": "LHm0FZCa08ZG",
        "outputId": "815d92f8-bab0-4d23-f2d0-588d61b58c4b"
      },
      "outputs": [
        {
          "name": "stdout",
          "output_type": "stream",
          "text": [
            "[]\n"
          ]
        }
      ],
      "source": [
        "new_list.clear() # clear the list\n",
        "print(new_list)"
      ]
    },
    {
      "cell_type": "markdown",
      "metadata": {
        "id": "-sVLmAui1u49"
      },
      "source": [
        "## 3. Subselecting or Slicing a dataframe <a class=\"anchor\" id=\"matrix\"></a>\n",
        "\n",
        "> Subselecting and extracting rows based on row numbers ```df.iloc[index]```"
      ]
    },
    {
      "cell_type": "code",
      "execution_count": null,
      "metadata": {
        "id": "HPv-hAFDBHDs",
        "outputId": "cce647d0-c9c7-4111-af76-a25b07b83d0f"
      },
      "outputs": [
        {
          "data": {
            "text/html": [
              "<div>\n",
              "<style scoped>\n",
              "    .dataframe tbody tr th:only-of-type {\n",
              "        vertical-align: middle;\n",
              "    }\n",
              "\n",
              "    .dataframe tbody tr th {\n",
              "        vertical-align: top;\n",
              "    }\n",
              "\n",
              "    .dataframe thead th {\n",
              "        text-align: right;\n",
              "    }\n",
              "</style>\n",
              "<table border=\"1\" class=\"dataframe\">\n",
              "  <thead>\n",
              "    <tr style=\"text-align: right;\">\n",
              "      <th></th>\n",
              "      <th>essay_id</th>\n",
              "      <th>essay_set</th>\n",
              "      <th>essay</th>\n",
              "      <th>rater1_domain1</th>\n",
              "      <th>rater2_domain1</th>\n",
              "      <th>rater3_domain1</th>\n",
              "      <th>domain1_score</th>\n",
              "      <th>rater1_domain2</th>\n",
              "      <th>rater2_domain2</th>\n",
              "      <th>domain2_score</th>\n",
              "      <th>...</th>\n",
              "      <th>rater2_trait3</th>\n",
              "      <th>rater2_trait4</th>\n",
              "      <th>rater2_trait5</th>\n",
              "      <th>rater2_trait6</th>\n",
              "      <th>rater3_trait1</th>\n",
              "      <th>rater3_trait2</th>\n",
              "      <th>rater3_trait3</th>\n",
              "      <th>rater3_trait4</th>\n",
              "      <th>rater3_trait5</th>\n",
              "      <th>rater3_trait6</th>\n",
              "    </tr>\n",
              "  </thead>\n",
              "  <tbody>\n",
              "    <tr>\n",
              "      <th>0</th>\n",
              "      <td>1</td>\n",
              "      <td>1</td>\n",
              "      <td>Dear local newspaper, I think effects computer...</td>\n",
              "      <td>4.0</td>\n",
              "      <td>4.0</td>\n",
              "      <td>NaN</td>\n",
              "      <td>8.0</td>\n",
              "      <td>NaN</td>\n",
              "      <td>NaN</td>\n",
              "      <td>NaN</td>\n",
              "      <td>...</td>\n",
              "      <td>NaN</td>\n",
              "      <td>NaN</td>\n",
              "      <td>NaN</td>\n",
              "      <td>NaN</td>\n",
              "      <td>NaN</td>\n",
              "      <td>NaN</td>\n",
              "      <td>NaN</td>\n",
              "      <td>NaN</td>\n",
              "      <td>NaN</td>\n",
              "      <td>NaN</td>\n",
              "    </tr>\n",
              "    <tr>\n",
              "      <th>1</th>\n",
              "      <td>2</td>\n",
              "      <td>1</td>\n",
              "      <td>Dear @CAPS1 @CAPS2, I believe that using compu...</td>\n",
              "      <td>5.0</td>\n",
              "      <td>4.0</td>\n",
              "      <td>NaN</td>\n",
              "      <td>9.0</td>\n",
              "      <td>NaN</td>\n",
              "      <td>NaN</td>\n",
              "      <td>NaN</td>\n",
              "      <td>...</td>\n",
              "      <td>NaN</td>\n",
              "      <td>NaN</td>\n",
              "      <td>NaN</td>\n",
              "      <td>NaN</td>\n",
              "      <td>NaN</td>\n",
              "      <td>NaN</td>\n",
              "      <td>NaN</td>\n",
              "      <td>NaN</td>\n",
              "      <td>NaN</td>\n",
              "      <td>NaN</td>\n",
              "    </tr>\n",
              "    <tr>\n",
              "      <th>2</th>\n",
              "      <td>3</td>\n",
              "      <td>1</td>\n",
              "      <td>Dear, @CAPS1 @CAPS2 @CAPS3 More and more peopl...</td>\n",
              "      <td>4.0</td>\n",
              "      <td>3.0</td>\n",
              "      <td>NaN</td>\n",
              "      <td>7.0</td>\n",
              "      <td>NaN</td>\n",
              "      <td>NaN</td>\n",
              "      <td>NaN</td>\n",
              "      <td>...</td>\n",
              "      <td>NaN</td>\n",
              "      <td>NaN</td>\n",
              "      <td>NaN</td>\n",
              "      <td>NaN</td>\n",
              "      <td>NaN</td>\n",
              "      <td>NaN</td>\n",
              "      <td>NaN</td>\n",
              "      <td>NaN</td>\n",
              "      <td>NaN</td>\n",
              "      <td>NaN</td>\n",
              "    </tr>\n",
              "    <tr>\n",
              "      <th>3</th>\n",
              "      <td>4</td>\n",
              "      <td>1</td>\n",
              "      <td>Dear Local Newspaper, @CAPS1 I have found that...</td>\n",
              "      <td>5.0</td>\n",
              "      <td>5.0</td>\n",
              "      <td>NaN</td>\n",
              "      <td>10.0</td>\n",
              "      <td>NaN</td>\n",
              "      <td>NaN</td>\n",
              "      <td>NaN</td>\n",
              "      <td>...</td>\n",
              "      <td>NaN</td>\n",
              "      <td>NaN</td>\n",
              "      <td>NaN</td>\n",
              "      <td>NaN</td>\n",
              "      <td>NaN</td>\n",
              "      <td>NaN</td>\n",
              "      <td>NaN</td>\n",
              "      <td>NaN</td>\n",
              "      <td>NaN</td>\n",
              "      <td>NaN</td>\n",
              "    </tr>\n",
              "    <tr>\n",
              "      <th>4</th>\n",
              "      <td>5</td>\n",
              "      <td>1</td>\n",
              "      <td>Dear @LOCATION1, I know having computers has a...</td>\n",
              "      <td>4.0</td>\n",
              "      <td>4.0</td>\n",
              "      <td>NaN</td>\n",
              "      <td>8.0</td>\n",
              "      <td>NaN</td>\n",
              "      <td>NaN</td>\n",
              "      <td>NaN</td>\n",
              "      <td>...</td>\n",
              "      <td>NaN</td>\n",
              "      <td>NaN</td>\n",
              "      <td>NaN</td>\n",
              "      <td>NaN</td>\n",
              "      <td>NaN</td>\n",
              "      <td>NaN</td>\n",
              "      <td>NaN</td>\n",
              "      <td>NaN</td>\n",
              "      <td>NaN</td>\n",
              "      <td>NaN</td>\n",
              "    </tr>\n",
              "    <tr>\n",
              "      <th>5</th>\n",
              "      <td>6</td>\n",
              "      <td>1</td>\n",
              "      <td>Dear @LOCATION1, I think that computers have a...</td>\n",
              "      <td>4.0</td>\n",
              "      <td>4.0</td>\n",
              "      <td>NaN</td>\n",
              "      <td>8.0</td>\n",
              "      <td>NaN</td>\n",
              "      <td>NaN</td>\n",
              "      <td>NaN</td>\n",
              "      <td>...</td>\n",
              "      <td>NaN</td>\n",
              "      <td>NaN</td>\n",
              "      <td>NaN</td>\n",
              "      <td>NaN</td>\n",
              "      <td>NaN</td>\n",
              "      <td>NaN</td>\n",
              "      <td>NaN</td>\n",
              "      <td>NaN</td>\n",
              "      <td>NaN</td>\n",
              "      <td>NaN</td>\n",
              "    </tr>\n",
              "    <tr>\n",
              "      <th>6</th>\n",
              "      <td>7</td>\n",
              "      <td>1</td>\n",
              "      <td>Did you know that more and more people these d...</td>\n",
              "      <td>5.0</td>\n",
              "      <td>5.0</td>\n",
              "      <td>NaN</td>\n",
              "      <td>10.0</td>\n",
              "      <td>NaN</td>\n",
              "      <td>NaN</td>\n",
              "      <td>NaN</td>\n",
              "      <td>...</td>\n",
              "      <td>NaN</td>\n",
              "      <td>NaN</td>\n",
              "      <td>NaN</td>\n",
              "      <td>NaN</td>\n",
              "      <td>NaN</td>\n",
              "      <td>NaN</td>\n",
              "      <td>NaN</td>\n",
              "      <td>NaN</td>\n",
              "      <td>NaN</td>\n",
              "      <td>NaN</td>\n",
              "    </tr>\n",
              "    <tr>\n",
              "      <th>7</th>\n",
              "      <td>8</td>\n",
              "      <td>1</td>\n",
              "      <td>@PERCENT1 of people agree that computers make ...</td>\n",
              "      <td>5.0</td>\n",
              "      <td>5.0</td>\n",
              "      <td>NaN</td>\n",
              "      <td>10.0</td>\n",
              "      <td>NaN</td>\n",
              "      <td>NaN</td>\n",
              "      <td>NaN</td>\n",
              "      <td>...</td>\n",
              "      <td>NaN</td>\n",
              "      <td>NaN</td>\n",
              "      <td>NaN</td>\n",
              "      <td>NaN</td>\n",
              "      <td>NaN</td>\n",
              "      <td>NaN</td>\n",
              "      <td>NaN</td>\n",
              "      <td>NaN</td>\n",
              "      <td>NaN</td>\n",
              "      <td>NaN</td>\n",
              "    </tr>\n",
              "    <tr>\n",
              "      <th>8</th>\n",
              "      <td>9</td>\n",
              "      <td>1</td>\n",
              "      <td>Dear reader, @ORGANIZATION1 has had a dramatic...</td>\n",
              "      <td>4.0</td>\n",
              "      <td>5.0</td>\n",
              "      <td>NaN</td>\n",
              "      <td>9.0</td>\n",
              "      <td>NaN</td>\n",
              "      <td>NaN</td>\n",
              "      <td>NaN</td>\n",
              "      <td>...</td>\n",
              "      <td>NaN</td>\n",
              "      <td>NaN</td>\n",
              "      <td>NaN</td>\n",
              "      <td>NaN</td>\n",
              "      <td>NaN</td>\n",
              "      <td>NaN</td>\n",
              "      <td>NaN</td>\n",
              "      <td>NaN</td>\n",
              "      <td>NaN</td>\n",
              "      <td>NaN</td>\n",
              "    </tr>\n",
              "    <tr>\n",
              "      <th>9</th>\n",
              "      <td>10</td>\n",
              "      <td>1</td>\n",
              "      <td>In the @LOCATION1 we have the technology of a ...</td>\n",
              "      <td>5.0</td>\n",
              "      <td>4.0</td>\n",
              "      <td>NaN</td>\n",
              "      <td>9.0</td>\n",
              "      <td>NaN</td>\n",
              "      <td>NaN</td>\n",
              "      <td>NaN</td>\n",
              "      <td>...</td>\n",
              "      <td>NaN</td>\n",
              "      <td>NaN</td>\n",
              "      <td>NaN</td>\n",
              "      <td>NaN</td>\n",
              "      <td>NaN</td>\n",
              "      <td>NaN</td>\n",
              "      <td>NaN</td>\n",
              "      <td>NaN</td>\n",
              "      <td>NaN</td>\n",
              "      <td>NaN</td>\n",
              "    </tr>\n",
              "  </tbody>\n",
              "</table>\n",
              "<p>10 rows × 28 columns</p>\n",
              "</div>"
            ],
            "text/plain": [
              "   essay_id  essay_set                                              essay  \\\n",
              "0         1          1  Dear local newspaper, I think effects computer...   \n",
              "1         2          1  Dear @CAPS1 @CAPS2, I believe that using compu...   \n",
              "2         3          1  Dear, @CAPS1 @CAPS2 @CAPS3 More and more peopl...   \n",
              "3         4          1  Dear Local Newspaper, @CAPS1 I have found that...   \n",
              "4         5          1  Dear @LOCATION1, I know having computers has a...   \n",
              "5         6          1  Dear @LOCATION1, I think that computers have a...   \n",
              "6         7          1  Did you know that more and more people these d...   \n",
              "7         8          1  @PERCENT1 of people agree that computers make ...   \n",
              "8         9          1  Dear reader, @ORGANIZATION1 has had a dramatic...   \n",
              "9        10          1  In the @LOCATION1 we have the technology of a ...   \n",
              "\n",
              "   rater1_domain1  rater2_domain1  rater3_domain1  domain1_score  \\\n",
              "0             4.0             4.0             NaN            8.0   \n",
              "1             5.0             4.0             NaN            9.0   \n",
              "2             4.0             3.0             NaN            7.0   \n",
              "3             5.0             5.0             NaN           10.0   \n",
              "4             4.0             4.0             NaN            8.0   \n",
              "5             4.0             4.0             NaN            8.0   \n",
              "6             5.0             5.0             NaN           10.0   \n",
              "7             5.0             5.0             NaN           10.0   \n",
              "8             4.0             5.0             NaN            9.0   \n",
              "9             5.0             4.0             NaN            9.0   \n",
              "\n",
              "   rater1_domain2  rater2_domain2  domain2_score  ...  rater2_trait3  \\\n",
              "0             NaN             NaN            NaN  ...            NaN   \n",
              "1             NaN             NaN            NaN  ...            NaN   \n",
              "2             NaN             NaN            NaN  ...            NaN   \n",
              "3             NaN             NaN            NaN  ...            NaN   \n",
              "4             NaN             NaN            NaN  ...            NaN   \n",
              "5             NaN             NaN            NaN  ...            NaN   \n",
              "6             NaN             NaN            NaN  ...            NaN   \n",
              "7             NaN             NaN            NaN  ...            NaN   \n",
              "8             NaN             NaN            NaN  ...            NaN   \n",
              "9             NaN             NaN            NaN  ...            NaN   \n",
              "\n",
              "   rater2_trait4  rater2_trait5  rater2_trait6  rater3_trait1  rater3_trait2  \\\n",
              "0            NaN            NaN            NaN            NaN            NaN   \n",
              "1            NaN            NaN            NaN            NaN            NaN   \n",
              "2            NaN            NaN            NaN            NaN            NaN   \n",
              "3            NaN            NaN            NaN            NaN            NaN   \n",
              "4            NaN            NaN            NaN            NaN            NaN   \n",
              "5            NaN            NaN            NaN            NaN            NaN   \n",
              "6            NaN            NaN            NaN            NaN            NaN   \n",
              "7            NaN            NaN            NaN            NaN            NaN   \n",
              "8            NaN            NaN            NaN            NaN            NaN   \n",
              "9            NaN            NaN            NaN            NaN            NaN   \n",
              "\n",
              "   rater3_trait3  rater3_trait4  rater3_trait5  rater3_trait6  \n",
              "0            NaN            NaN            NaN            NaN  \n",
              "1            NaN            NaN            NaN            NaN  \n",
              "2            NaN            NaN            NaN            NaN  \n",
              "3            NaN            NaN            NaN            NaN  \n",
              "4            NaN            NaN            NaN            NaN  \n",
              "5            NaN            NaN            NaN            NaN  \n",
              "6            NaN            NaN            NaN            NaN  \n",
              "7            NaN            NaN            NaN            NaN  \n",
              "8            NaN            NaN            NaN            NaN  \n",
              "9            NaN            NaN            NaN            NaN  \n",
              "\n",
              "[10 rows x 28 columns]"
            ]
          },
          "execution_count": 21,
          "metadata": {},
          "output_type": "execute_result"
        }
      ],
      "source": [
        "start_row = 0\n",
        "finish_row = 10\n",
        "df.iloc[start_row:finish_row] # Extract row 0 to row 10"
      ]
    },
    {
      "cell_type": "markdown",
      "metadata": {
        "id": "JIWu0d6kBHDt"
      },
      "source": [
        "> subselecting a row using index (i.e. ID) ```df.loc[index]```"
      ]
    },
    {
      "cell_type": "code",
      "execution_count": null,
      "metadata": {
        "id": "s3BOLm2hBHDt",
        "outputId": "ee2db7cd-9ec7-4556-d0d4-f6adb2bdaddc"
      },
      "outputs": [
        {
          "data": {
            "text/plain": [
              "essay_id                                                         10\n",
              "essay_set                                                         1\n",
              "essay             In the @LOCATION1 we have the technology of a ...\n",
              "rater1_domain1                                                  5.0\n",
              "rater2_domain1                                                  4.0\n",
              "rater3_domain1                                                  NaN\n",
              "domain1_score                                                   9.0\n",
              "rater1_domain2                                                  NaN\n",
              "rater2_domain2                                                  NaN\n",
              "domain2_score                                                   NaN\n",
              "rater1_trait1                                                   NaN\n",
              "rater1_trait2                                                   NaN\n",
              "rater1_trait3                                                   NaN\n",
              "rater1_trait4                                                   NaN\n",
              "rater1_trait5                                                   NaN\n",
              "rater1_trait6                                                   NaN\n",
              "rater2_trait1                                                   NaN\n",
              "rater2_trait2                                                   NaN\n",
              "rater2_trait3                                                   NaN\n",
              "rater2_trait4                                                   NaN\n",
              "rater2_trait5                                                   NaN\n",
              "rater2_trait6                                                   NaN\n",
              "rater3_trait1                                                   NaN\n",
              "rater3_trait2                                                   NaN\n",
              "rater3_trait3                                                   NaN\n",
              "rater3_trait4                                                   NaN\n",
              "rater3_trait5                                                   NaN\n",
              "rater3_trait6                                                   NaN\n",
              "Name: 9, dtype: object"
            ]
          },
          "execution_count": 22,
          "metadata": {},
          "output_type": "execute_result"
        }
      ],
      "source": [
        "row_index = 9\n",
        "df.loc[row_index] # Extract row with the ID 9\n",
        "## iloc is the index name (some people use student ID as this)\n",
        "## loc is always the index position/location"
      ]
    },
    {
      "cell_type": "markdown",
      "metadata": {
        "id": "jAeFBHT4BHDu"
      },
      "source": [
        "> Let's call the ```domain1_score``` column and look at the descriptive statistics using ```df.describe()```"
      ]
    },
    {
      "cell_type": "code",
      "execution_count": 22,
      "metadata": {
        "id": "qZuCPlDgBHDu",
        "outputId": "d86ad24c-f88c-4ec7-e60f-3d3c4ab34c8c",
        "colab": {
          "base_uri": "https://localhost:8080/"
        }
      },
      "outputs": [
        {
          "output_type": "execute_result",
          "data": {
            "text/plain": [
              "count    1800.000000\n",
              "mean        3.333889\n",
              "std         0.729103\n",
              "min         1.000000\n",
              "25%         3.000000\n",
              "50%         3.000000\n",
              "75%         4.000000\n",
              "max         4.000000\n",
              "Name: domain2_score, dtype: float64"
            ]
          },
          "metadata": {},
          "execution_count": 22
        },
        {
          "output_type": "stream",
          "name": "stdout",
          "text": [
            "54\n"
          ]
        }
      ],
      "source": [
        "# df['domain1_score'].describe() #you can either speciy the name of the column inside the square br\n",
        "df.domain2_score.describe() #or .[column name] if the column name is one-word, thus no white space.\n",
        "\n",
        "## Set function gets all unique values\n",
        "set(df.domain1_score)"
      ]
    },
    {
      "cell_type": "markdown",
      "metadata": {
        "id": "4i_LUaedBHDv"
      },
      "source": [
        ">   Let's extract rows based on column values, E.G., students who got score 9 or 5"
      ]
    },
    {
      "cell_type": "code",
      "execution_count": 24,
      "metadata": {
        "id": "ygp1K4TJBHDv",
        "outputId": "c397eb07-1a3b-446b-b00f-836c59e61cd9",
        "colab": {
          "base_uri": "https://localhost:8080/",
          "height": 830
        }
      },
      "outputs": [
        {
          "output_type": "stream",
          "name": "stdout",
          "text": [
            "54\n"
          ]
        },
        {
          "output_type": "execute_result",
          "data": {
            "text/plain": [
              "       essay_id  essay_set                                              essay  \\\n",
              "1             2          1  Dear @CAPS1 @CAPS2, I believe that using compu...   \n",
              "8             9          1  Dear reader, @ORGANIZATION1 has had a dramatic...   \n",
              "9            10          1  In the @LOCATION1 we have the technology of a ...   \n",
              "25           26          1  Do you think that computers are useless? Or do...   \n",
              "27           28          1  Dear Newspaper, Computers are high tec and hav...   \n",
              "...         ...        ...                                                ...   \n",
              "12082     19376          7  When my friend was getting his meds I waited u...   \n",
              "12156     19456          7  The time iwas patent was when I was in schol I...   \n",
              "12193     19497          7  I was patient when my mom when to the doctors ...   \n",
              "12196     19500          7  A time when my @CAPS1 was patient is to day la...   \n",
              "12238     19544          7  At the @CAPS1’s office. I had an @CAPS2 appoin...   \n",
              "\n",
              "       rater1_domain1  rater2_domain1  rater3_domain1  domain1_score  \\\n",
              "1                 5.0             4.0             NaN            9.0   \n",
              "8                 4.0             5.0             NaN            9.0   \n",
              "9                 5.0             4.0             NaN            9.0   \n",
              "25                5.0             4.0             NaN            9.0   \n",
              "27                5.0             4.0             NaN            9.0   \n",
              "...               ...             ...             ...            ...   \n",
              "12082             5.0             4.0             NaN            9.0   \n",
              "12156             4.0             5.0             NaN            9.0   \n",
              "12193             5.0             4.0             NaN            9.0   \n",
              "12196             5.0             4.0             NaN            9.0   \n",
              "12238             5.0             4.0             NaN            9.0   \n",
              "\n",
              "       rater1_domain2  rater2_domain2  domain2_score  ...  rater2_trait3  \\\n",
              "1                 NaN             NaN            NaN  ...            NaN   \n",
              "8                 NaN             NaN            NaN  ...            NaN   \n",
              "9                 NaN             NaN            NaN  ...            NaN   \n",
              "25                NaN             NaN            NaN  ...            NaN   \n",
              "27                NaN             NaN            NaN  ...            NaN   \n",
              "...               ...             ...            ...  ...            ...   \n",
              "12082             NaN             NaN            NaN  ...            1.0   \n",
              "12156             NaN             NaN            NaN  ...            1.0   \n",
              "12193             NaN             NaN            NaN  ...            1.0   \n",
              "12196             NaN             NaN            NaN  ...            1.0   \n",
              "12238             NaN             NaN            NaN  ...            1.0   \n",
              "\n",
              "       rater2_trait4  rater2_trait5  rater2_trait6  rater3_trait1  \\\n",
              "1                NaN            NaN            NaN            NaN   \n",
              "8                NaN            NaN            NaN            NaN   \n",
              "9                NaN            NaN            NaN            NaN   \n",
              "25               NaN            NaN            NaN            NaN   \n",
              "27               NaN            NaN            NaN            NaN   \n",
              "...              ...            ...            ...            ...   \n",
              "12082            1.0            NaN            NaN            NaN   \n",
              "12156            1.0            NaN            NaN            NaN   \n",
              "12193            1.0            NaN            NaN            NaN   \n",
              "12196            1.0            NaN            NaN            NaN   \n",
              "12238            1.0            NaN            NaN            NaN   \n",
              "\n",
              "       rater3_trait2  rater3_trait3  rater3_trait4  rater3_trait5  \\\n",
              "1                NaN            NaN            NaN            NaN   \n",
              "8                NaN            NaN            NaN            NaN   \n",
              "9                NaN            NaN            NaN            NaN   \n",
              "25               NaN            NaN            NaN            NaN   \n",
              "27               NaN            NaN            NaN            NaN   \n",
              "...              ...            ...            ...            ...   \n",
              "12082            NaN            NaN            NaN            NaN   \n",
              "12156            NaN            NaN            NaN            NaN   \n",
              "12193            NaN            NaN            NaN            NaN   \n",
              "12196            NaN            NaN            NaN            NaN   \n",
              "12238            NaN            NaN            NaN            NaN   \n",
              "\n",
              "       rater3_trait6  \n",
              "1                NaN  \n",
              "8                NaN  \n",
              "9                NaN  \n",
              "25               NaN  \n",
              "27               NaN  \n",
              "...              ...  \n",
              "12082            NaN  \n",
              "12156            NaN  \n",
              "12193            NaN  \n",
              "12196            NaN  \n",
              "12238            NaN  \n",
              "\n",
              "[479 rows x 28 columns]"
            ],
            "text/html": [
              "\n",
              "  <div id=\"df-c5850ecb-4fc8-4c19-aea7-22de73e898dc\" class=\"colab-df-container\">\n",
              "    <div>\n",
              "<style scoped>\n",
              "    .dataframe tbody tr th:only-of-type {\n",
              "        vertical-align: middle;\n",
              "    }\n",
              "\n",
              "    .dataframe tbody tr th {\n",
              "        vertical-align: top;\n",
              "    }\n",
              "\n",
              "    .dataframe thead th {\n",
              "        text-align: right;\n",
              "    }\n",
              "</style>\n",
              "<table border=\"1\" class=\"dataframe\">\n",
              "  <thead>\n",
              "    <tr style=\"text-align: right;\">\n",
              "      <th></th>\n",
              "      <th>essay_id</th>\n",
              "      <th>essay_set</th>\n",
              "      <th>essay</th>\n",
              "      <th>rater1_domain1</th>\n",
              "      <th>rater2_domain1</th>\n",
              "      <th>rater3_domain1</th>\n",
              "      <th>domain1_score</th>\n",
              "      <th>rater1_domain2</th>\n",
              "      <th>rater2_domain2</th>\n",
              "      <th>domain2_score</th>\n",
              "      <th>...</th>\n",
              "      <th>rater2_trait3</th>\n",
              "      <th>rater2_trait4</th>\n",
              "      <th>rater2_trait5</th>\n",
              "      <th>rater2_trait6</th>\n",
              "      <th>rater3_trait1</th>\n",
              "      <th>rater3_trait2</th>\n",
              "      <th>rater3_trait3</th>\n",
              "      <th>rater3_trait4</th>\n",
              "      <th>rater3_trait5</th>\n",
              "      <th>rater3_trait6</th>\n",
              "    </tr>\n",
              "  </thead>\n",
              "  <tbody>\n",
              "    <tr>\n",
              "      <th>1</th>\n",
              "      <td>2</td>\n",
              "      <td>1</td>\n",
              "      <td>Dear @CAPS1 @CAPS2, I believe that using compu...</td>\n",
              "      <td>5.0</td>\n",
              "      <td>4.0</td>\n",
              "      <td>NaN</td>\n",
              "      <td>9.0</td>\n",
              "      <td>NaN</td>\n",
              "      <td>NaN</td>\n",
              "      <td>NaN</td>\n",
              "      <td>...</td>\n",
              "      <td>NaN</td>\n",
              "      <td>NaN</td>\n",
              "      <td>NaN</td>\n",
              "      <td>NaN</td>\n",
              "      <td>NaN</td>\n",
              "      <td>NaN</td>\n",
              "      <td>NaN</td>\n",
              "      <td>NaN</td>\n",
              "      <td>NaN</td>\n",
              "      <td>NaN</td>\n",
              "    </tr>\n",
              "    <tr>\n",
              "      <th>8</th>\n",
              "      <td>9</td>\n",
              "      <td>1</td>\n",
              "      <td>Dear reader, @ORGANIZATION1 has had a dramatic...</td>\n",
              "      <td>4.0</td>\n",
              "      <td>5.0</td>\n",
              "      <td>NaN</td>\n",
              "      <td>9.0</td>\n",
              "      <td>NaN</td>\n",
              "      <td>NaN</td>\n",
              "      <td>NaN</td>\n",
              "      <td>...</td>\n",
              "      <td>NaN</td>\n",
              "      <td>NaN</td>\n",
              "      <td>NaN</td>\n",
              "      <td>NaN</td>\n",
              "      <td>NaN</td>\n",
              "      <td>NaN</td>\n",
              "      <td>NaN</td>\n",
              "      <td>NaN</td>\n",
              "      <td>NaN</td>\n",
              "      <td>NaN</td>\n",
              "    </tr>\n",
              "    <tr>\n",
              "      <th>9</th>\n",
              "      <td>10</td>\n",
              "      <td>1</td>\n",
              "      <td>In the @LOCATION1 we have the technology of a ...</td>\n",
              "      <td>5.0</td>\n",
              "      <td>4.0</td>\n",
              "      <td>NaN</td>\n",
              "      <td>9.0</td>\n",
              "      <td>NaN</td>\n",
              "      <td>NaN</td>\n",
              "      <td>NaN</td>\n",
              "      <td>...</td>\n",
              "      <td>NaN</td>\n",
              "      <td>NaN</td>\n",
              "      <td>NaN</td>\n",
              "      <td>NaN</td>\n",
              "      <td>NaN</td>\n",
              "      <td>NaN</td>\n",
              "      <td>NaN</td>\n",
              "      <td>NaN</td>\n",
              "      <td>NaN</td>\n",
              "      <td>NaN</td>\n",
              "    </tr>\n",
              "    <tr>\n",
              "      <th>25</th>\n",
              "      <td>26</td>\n",
              "      <td>1</td>\n",
              "      <td>Do you think that computers are useless? Or do...</td>\n",
              "      <td>5.0</td>\n",
              "      <td>4.0</td>\n",
              "      <td>NaN</td>\n",
              "      <td>9.0</td>\n",
              "      <td>NaN</td>\n",
              "      <td>NaN</td>\n",
              "      <td>NaN</td>\n",
              "      <td>...</td>\n",
              "      <td>NaN</td>\n",
              "      <td>NaN</td>\n",
              "      <td>NaN</td>\n",
              "      <td>NaN</td>\n",
              "      <td>NaN</td>\n",
              "      <td>NaN</td>\n",
              "      <td>NaN</td>\n",
              "      <td>NaN</td>\n",
              "      <td>NaN</td>\n",
              "      <td>NaN</td>\n",
              "    </tr>\n",
              "    <tr>\n",
              "      <th>27</th>\n",
              "      <td>28</td>\n",
              "      <td>1</td>\n",
              "      <td>Dear Newspaper, Computers are high tec and hav...</td>\n",
              "      <td>5.0</td>\n",
              "      <td>4.0</td>\n",
              "      <td>NaN</td>\n",
              "      <td>9.0</td>\n",
              "      <td>NaN</td>\n",
              "      <td>NaN</td>\n",
              "      <td>NaN</td>\n",
              "      <td>...</td>\n",
              "      <td>NaN</td>\n",
              "      <td>NaN</td>\n",
              "      <td>NaN</td>\n",
              "      <td>NaN</td>\n",
              "      <td>NaN</td>\n",
              "      <td>NaN</td>\n",
              "      <td>NaN</td>\n",
              "      <td>NaN</td>\n",
              "      <td>NaN</td>\n",
              "      <td>NaN</td>\n",
              "    </tr>\n",
              "    <tr>\n",
              "      <th>...</th>\n",
              "      <td>...</td>\n",
              "      <td>...</td>\n",
              "      <td>...</td>\n",
              "      <td>...</td>\n",
              "      <td>...</td>\n",
              "      <td>...</td>\n",
              "      <td>...</td>\n",
              "      <td>...</td>\n",
              "      <td>...</td>\n",
              "      <td>...</td>\n",
              "      <td>...</td>\n",
              "      <td>...</td>\n",
              "      <td>...</td>\n",
              "      <td>...</td>\n",
              "      <td>...</td>\n",
              "      <td>...</td>\n",
              "      <td>...</td>\n",
              "      <td>...</td>\n",
              "      <td>...</td>\n",
              "      <td>...</td>\n",
              "      <td>...</td>\n",
              "    </tr>\n",
              "    <tr>\n",
              "      <th>12082</th>\n",
              "      <td>19376</td>\n",
              "      <td>7</td>\n",
              "      <td>When my friend was getting his meds I waited u...</td>\n",
              "      <td>5.0</td>\n",
              "      <td>4.0</td>\n",
              "      <td>NaN</td>\n",
              "      <td>9.0</td>\n",
              "      <td>NaN</td>\n",
              "      <td>NaN</td>\n",
              "      <td>NaN</td>\n",
              "      <td>...</td>\n",
              "      <td>1.0</td>\n",
              "      <td>1.0</td>\n",
              "      <td>NaN</td>\n",
              "      <td>NaN</td>\n",
              "      <td>NaN</td>\n",
              "      <td>NaN</td>\n",
              "      <td>NaN</td>\n",
              "      <td>NaN</td>\n",
              "      <td>NaN</td>\n",
              "      <td>NaN</td>\n",
              "    </tr>\n",
              "    <tr>\n",
              "      <th>12156</th>\n",
              "      <td>19456</td>\n",
              "      <td>7</td>\n",
              "      <td>The time iwas patent was when I was in schol I...</td>\n",
              "      <td>4.0</td>\n",
              "      <td>5.0</td>\n",
              "      <td>NaN</td>\n",
              "      <td>9.0</td>\n",
              "      <td>NaN</td>\n",
              "      <td>NaN</td>\n",
              "      <td>NaN</td>\n",
              "      <td>...</td>\n",
              "      <td>1.0</td>\n",
              "      <td>1.0</td>\n",
              "      <td>NaN</td>\n",
              "      <td>NaN</td>\n",
              "      <td>NaN</td>\n",
              "      <td>NaN</td>\n",
              "      <td>NaN</td>\n",
              "      <td>NaN</td>\n",
              "      <td>NaN</td>\n",
              "      <td>NaN</td>\n",
              "    </tr>\n",
              "    <tr>\n",
              "      <th>12193</th>\n",
              "      <td>19497</td>\n",
              "      <td>7</td>\n",
              "      <td>I was patient when my mom when to the doctors ...</td>\n",
              "      <td>5.0</td>\n",
              "      <td>4.0</td>\n",
              "      <td>NaN</td>\n",
              "      <td>9.0</td>\n",
              "      <td>NaN</td>\n",
              "      <td>NaN</td>\n",
              "      <td>NaN</td>\n",
              "      <td>...</td>\n",
              "      <td>1.0</td>\n",
              "      <td>1.0</td>\n",
              "      <td>NaN</td>\n",
              "      <td>NaN</td>\n",
              "      <td>NaN</td>\n",
              "      <td>NaN</td>\n",
              "      <td>NaN</td>\n",
              "      <td>NaN</td>\n",
              "      <td>NaN</td>\n",
              "      <td>NaN</td>\n",
              "    </tr>\n",
              "    <tr>\n",
              "      <th>12196</th>\n",
              "      <td>19500</td>\n",
              "      <td>7</td>\n",
              "      <td>A time when my @CAPS1 was patient is to day la...</td>\n",
              "      <td>5.0</td>\n",
              "      <td>4.0</td>\n",
              "      <td>NaN</td>\n",
              "      <td>9.0</td>\n",
              "      <td>NaN</td>\n",
              "      <td>NaN</td>\n",
              "      <td>NaN</td>\n",
              "      <td>...</td>\n",
              "      <td>1.0</td>\n",
              "      <td>1.0</td>\n",
              "      <td>NaN</td>\n",
              "      <td>NaN</td>\n",
              "      <td>NaN</td>\n",
              "      <td>NaN</td>\n",
              "      <td>NaN</td>\n",
              "      <td>NaN</td>\n",
              "      <td>NaN</td>\n",
              "      <td>NaN</td>\n",
              "    </tr>\n",
              "    <tr>\n",
              "      <th>12238</th>\n",
              "      <td>19544</td>\n",
              "      <td>7</td>\n",
              "      <td>At the @CAPS1’s office. I had an @CAPS2 appoin...</td>\n",
              "      <td>5.0</td>\n",
              "      <td>4.0</td>\n",
              "      <td>NaN</td>\n",
              "      <td>9.0</td>\n",
              "      <td>NaN</td>\n",
              "      <td>NaN</td>\n",
              "      <td>NaN</td>\n",
              "      <td>...</td>\n",
              "      <td>1.0</td>\n",
              "      <td>1.0</td>\n",
              "      <td>NaN</td>\n",
              "      <td>NaN</td>\n",
              "      <td>NaN</td>\n",
              "      <td>NaN</td>\n",
              "      <td>NaN</td>\n",
              "      <td>NaN</td>\n",
              "      <td>NaN</td>\n",
              "      <td>NaN</td>\n",
              "    </tr>\n",
              "  </tbody>\n",
              "</table>\n",
              "<p>479 rows × 28 columns</p>\n",
              "</div>\n",
              "    <div class=\"colab-df-buttons\">\n",
              "\n",
              "  <div class=\"colab-df-container\">\n",
              "    <button class=\"colab-df-convert\" onclick=\"convertToInteractive('df-c5850ecb-4fc8-4c19-aea7-22de73e898dc')\"\n",
              "            title=\"Convert this dataframe to an interactive table.\"\n",
              "            style=\"display:none;\">\n",
              "\n",
              "  <svg xmlns=\"http://www.w3.org/2000/svg\" height=\"24px\" viewBox=\"0 -960 960 960\">\n",
              "    <path d=\"M120-120v-720h720v720H120Zm60-500h600v-160H180v160Zm220 220h160v-160H400v160Zm0 220h160v-160H400v160ZM180-400h160v-160H180v160Zm440 0h160v-160H620v160ZM180-180h160v-160H180v160Zm440 0h160v-160H620v160Z\"/>\n",
              "  </svg>\n",
              "    </button>\n",
              "\n",
              "  <style>\n",
              "    .colab-df-container {\n",
              "      display:flex;\n",
              "      gap: 12px;\n",
              "    }\n",
              "\n",
              "    .colab-df-convert {\n",
              "      background-color: #E8F0FE;\n",
              "      border: none;\n",
              "      border-radius: 50%;\n",
              "      cursor: pointer;\n",
              "      display: none;\n",
              "      fill: #1967D2;\n",
              "      height: 32px;\n",
              "      padding: 0 0 0 0;\n",
              "      width: 32px;\n",
              "    }\n",
              "\n",
              "    .colab-df-convert:hover {\n",
              "      background-color: #E2EBFA;\n",
              "      box-shadow: 0px 1px 2px rgba(60, 64, 67, 0.3), 0px 1px 3px 1px rgba(60, 64, 67, 0.15);\n",
              "      fill: #174EA6;\n",
              "    }\n",
              "\n",
              "    .colab-df-buttons div {\n",
              "      margin-bottom: 4px;\n",
              "    }\n",
              "\n",
              "    [theme=dark] .colab-df-convert {\n",
              "      background-color: #3B4455;\n",
              "      fill: #D2E3FC;\n",
              "    }\n",
              "\n",
              "    [theme=dark] .colab-df-convert:hover {\n",
              "      background-color: #434B5C;\n",
              "      box-shadow: 0px 1px 3px 1px rgba(0, 0, 0, 0.15);\n",
              "      filter: drop-shadow(0px 1px 2px rgba(0, 0, 0, 0.3));\n",
              "      fill: #FFFFFF;\n",
              "    }\n",
              "  </style>\n",
              "\n",
              "    <script>\n",
              "      const buttonEl =\n",
              "        document.querySelector('#df-c5850ecb-4fc8-4c19-aea7-22de73e898dc button.colab-df-convert');\n",
              "      buttonEl.style.display =\n",
              "        google.colab.kernel.accessAllowed ? 'block' : 'none';\n",
              "\n",
              "      async function convertToInteractive(key) {\n",
              "        const element = document.querySelector('#df-c5850ecb-4fc8-4c19-aea7-22de73e898dc');\n",
              "        const dataTable =\n",
              "          await google.colab.kernel.invokeFunction('convertToInteractive',\n",
              "                                                    [key], {});\n",
              "        if (!dataTable) return;\n",
              "\n",
              "        const docLinkHtml = 'Like what you see? Visit the ' +\n",
              "          '<a target=\"_blank\" href=https://colab.research.google.com/notebooks/data_table.ipynb>data table notebook</a>'\n",
              "          + ' to learn more about interactive tables.';\n",
              "        element.innerHTML = '';\n",
              "        dataTable['output_type'] = 'display_data';\n",
              "        await google.colab.output.renderOutput(dataTable, element);\n",
              "        const docLink = document.createElement('div');\n",
              "        docLink.innerHTML = docLinkHtml;\n",
              "        element.appendChild(docLink);\n",
              "      }\n",
              "    </script>\n",
              "  </div>\n",
              "\n",
              "\n",
              "<div id=\"df-7959a1c9-03f1-4bc7-b2f4-e8b868cfac1e\">\n",
              "  <button class=\"colab-df-quickchart\" onclick=\"quickchart('df-7959a1c9-03f1-4bc7-b2f4-e8b868cfac1e')\"\n",
              "            title=\"Suggest charts.\"\n",
              "            style=\"display:none;\">\n",
              "\n",
              "<svg xmlns=\"http://www.w3.org/2000/svg\" height=\"24px\"viewBox=\"0 0 24 24\"\n",
              "     width=\"24px\">\n",
              "    <g>\n",
              "        <path d=\"M19 3H5c-1.1 0-2 .9-2 2v14c0 1.1.9 2 2 2h14c1.1 0 2-.9 2-2V5c0-1.1-.9-2-2-2zM9 17H7v-7h2v7zm4 0h-2V7h2v10zm4 0h-2v-4h2v4z\"/>\n",
              "    </g>\n",
              "</svg>\n",
              "  </button>\n",
              "\n",
              "<style>\n",
              "  .colab-df-quickchart {\n",
              "      --bg-color: #E8F0FE;\n",
              "      --fill-color: #1967D2;\n",
              "      --hover-bg-color: #E2EBFA;\n",
              "      --hover-fill-color: #174EA6;\n",
              "      --disabled-fill-color: #AAA;\n",
              "      --disabled-bg-color: #DDD;\n",
              "  }\n",
              "\n",
              "  [theme=dark] .colab-df-quickchart {\n",
              "      --bg-color: #3B4455;\n",
              "      --fill-color: #D2E3FC;\n",
              "      --hover-bg-color: #434B5C;\n",
              "      --hover-fill-color: #FFFFFF;\n",
              "      --disabled-bg-color: #3B4455;\n",
              "      --disabled-fill-color: #666;\n",
              "  }\n",
              "\n",
              "  .colab-df-quickchart {\n",
              "    background-color: var(--bg-color);\n",
              "    border: none;\n",
              "    border-radius: 50%;\n",
              "    cursor: pointer;\n",
              "    display: none;\n",
              "    fill: var(--fill-color);\n",
              "    height: 32px;\n",
              "    padding: 0;\n",
              "    width: 32px;\n",
              "  }\n",
              "\n",
              "  .colab-df-quickchart:hover {\n",
              "    background-color: var(--hover-bg-color);\n",
              "    box-shadow: 0 1px 2px rgba(60, 64, 67, 0.3), 0 1px 3px 1px rgba(60, 64, 67, 0.15);\n",
              "    fill: var(--button-hover-fill-color);\n",
              "  }\n",
              "\n",
              "  .colab-df-quickchart-complete:disabled,\n",
              "  .colab-df-quickchart-complete:disabled:hover {\n",
              "    background-color: var(--disabled-bg-color);\n",
              "    fill: var(--disabled-fill-color);\n",
              "    box-shadow: none;\n",
              "  }\n",
              "\n",
              "  .colab-df-spinner {\n",
              "    border: 2px solid var(--fill-color);\n",
              "    border-color: transparent;\n",
              "    border-bottom-color: var(--fill-color);\n",
              "    animation:\n",
              "      spin 1s steps(1) infinite;\n",
              "  }\n",
              "\n",
              "  @keyframes spin {\n",
              "    0% {\n",
              "      border-color: transparent;\n",
              "      border-bottom-color: var(--fill-color);\n",
              "      border-left-color: var(--fill-color);\n",
              "    }\n",
              "    20% {\n",
              "      border-color: transparent;\n",
              "      border-left-color: var(--fill-color);\n",
              "      border-top-color: var(--fill-color);\n",
              "    }\n",
              "    30% {\n",
              "      border-color: transparent;\n",
              "      border-left-color: var(--fill-color);\n",
              "      border-top-color: var(--fill-color);\n",
              "      border-right-color: var(--fill-color);\n",
              "    }\n",
              "    40% {\n",
              "      border-color: transparent;\n",
              "      border-right-color: var(--fill-color);\n",
              "      border-top-color: var(--fill-color);\n",
              "    }\n",
              "    60% {\n",
              "      border-color: transparent;\n",
              "      border-right-color: var(--fill-color);\n",
              "    }\n",
              "    80% {\n",
              "      border-color: transparent;\n",
              "      border-right-color: var(--fill-color);\n",
              "      border-bottom-color: var(--fill-color);\n",
              "    }\n",
              "    90% {\n",
              "      border-color: transparent;\n",
              "      border-bottom-color: var(--fill-color);\n",
              "    }\n",
              "  }\n",
              "</style>\n",
              "\n",
              "  <script>\n",
              "    async function quickchart(key) {\n",
              "      const quickchartButtonEl =\n",
              "        document.querySelector('#' + key + ' button');\n",
              "      quickchartButtonEl.disabled = true;  // To prevent multiple clicks.\n",
              "      quickchartButtonEl.classList.add('colab-df-spinner');\n",
              "      try {\n",
              "        const charts = await google.colab.kernel.invokeFunction(\n",
              "            'suggestCharts', [key], {});\n",
              "      } catch (error) {\n",
              "        console.error('Error during call to suggestCharts:', error);\n",
              "      }\n",
              "      quickchartButtonEl.classList.remove('colab-df-spinner');\n",
              "      quickchartButtonEl.classList.add('colab-df-quickchart-complete');\n",
              "    }\n",
              "    (() => {\n",
              "      let quickchartButtonEl =\n",
              "        document.querySelector('#df-7959a1c9-03f1-4bc7-b2f4-e8b868cfac1e button');\n",
              "      quickchartButtonEl.style.display =\n",
              "        google.colab.kernel.accessAllowed ? 'block' : 'none';\n",
              "    })();\n",
              "  </script>\n",
              "</div>\n",
              "    </div>\n",
              "  </div>\n"
            ]
          },
          "metadata": {},
          "execution_count": 24
        }
      ],
      "source": [
        "print(len(set(df.domain1_score))) #  a total of 54 score categories\n",
        "\n",
        "## Return only rows where domain1 is 9\n",
        "# df[df['domain1_score']== 9]\n",
        "df[(df['domain1_score']== 9) | (df['domain1_score']== 5)]"
      ]
    },
    {
      "cell_type": "code",
      "source": [
        "## Create new df called perfect only with students scores essay set  1 and scored highest\n",
        "max_score = df.domain1_score.max()\n",
        "#perfect = df[(df['essay_set'] == 1) & (df['domain1_score'] == max_score)]\n",
        "\n",
        "perfect = df[(df['essay_set'] == 1) & (df['domain1_score'] == 12)]\n",
        "\n",
        "print(perfect)"
      ],
      "metadata": {
        "id": "e3FShFhDG-Iv",
        "outputId": "ba3b81ae-f7ac-4be3-a96e-43092eaefef9",
        "colab": {
          "base_uri": "https://localhost:8080/"
        }
      },
      "execution_count": 34,
      "outputs": [
        {
          "output_type": "stream",
          "name": "stdout",
          "text": [
            "      essay_id  essay_set                                              essay  \\\n",
            "15          16          1  Dear @ORGANIZATION1, The computer blinked to l...   \n",
            "36          37          1  Dear @ORGANIZATION1, @CAPS1 has been brought t...   \n",
            "69          70          1  Dear @CAPS1 @CAPS2, @CAPS3 life without comput...   \n",
            "117        118          1  Dear Local Newspaper @CAPS1, @CAPS2 our techno...   \n",
            "146        147          1  Hour after hour of gaming online and posting b...   \n",
            "153        154          1  Dear Local Newspaper, I believe that computers...   \n",
            "161        162          1  Since computers were invented, a colossal chan...   \n",
            "224        225          1  Computers, @CAPS1 how far we've come. Computer...   \n",
            "231        232          1  Lately, a technology buzz has hit all over the...   \n",
            "286        287          1  Dear The @CAPS1 @CAPS2, Your resources, your e...   \n",
            "319        321          1  Dear @CAPS1, @CAPS2 name is @PERSON1 and I wil...   \n",
            "343        346          1  Dear @LOCATION1, @CAPS1 a teanger growing up i...   \n",
            "388        391          1  People should ues computers, they do benefit t...   \n",
            "408        411          1  Dear @CAPS1 of my local newspaper, More and mo...   \n",
            "415        418          1  Dear @ORGANIZATION2, @CAPS1 name us @PERSON1 f...   \n",
            "469        472          1  @ORGANIZATION1, @CAPS1 technology majors suppo...   \n",
            "495        498          1  To whom @CAPS5 @MONTH1 concern at @CAPS1 @CAPS...   \n",
            "516        519          1  Dear Readers, Computers have a large presence ...   \n",
            "556        559          1  Dear Local newspaper, @CAPS1 a world filled wi...   \n",
            "696        699          1  Dear @CAPS1 Society: Computers are perhaps one...   \n",
            "814        817          1  Dear @ORGANIZATION1, A resent concern has buil...   \n",
            "844        847          1  @ORGANIZATION1, @CAPS1 not advance in technolo...   \n",
            "856        859          1  The innovation of computers was a great leap i...   \n",
            "865        868          1  @ORGANIZATION1, ore and more people use comput...   \n",
            "871        874          1  Almost every family has access to a computer. ...   \n",
            "929        932          1  Dear @CAPS1, @CAPS2 and kids of any age at thi...   \n",
            "938        941          1  @ORGANIZATION1, @CAPS1 computers benefit our s...   \n",
            "950        953          1  Dear @CAPS1 of @LOCATION1, @CAPS2 the world ha...   \n",
            "996        999          1  Dear Newspaper, @CAPS1 your life without compu...   \n",
            "997       1000          1  The effect computers have on humans is by far ...   \n",
            "1075      1078          1  Dear @CAPS1: you recently posed a question in ...   \n",
            "1129      1133          1  Dear @CAPS1 news editors, @CAPS2, my name is @...   \n",
            "1155      1159          1  In a study conducted by @ORGANIZATION1, @NUM1 ...   \n",
            "1166      1170          1  Dear @ORGANIZATION3, @CAPS1 has come to @CAPS2...   \n",
            "1167      1171          1  @ORGANIZATION1, @CAPS1? Are you there?\" \"@CAPS...   \n",
            "1197      1201          1  Dear editor, Computers are becoming more and m...   \n",
            "1245      1250          1  Dear The @CAPS1 newspaper, @CAPS2 in front of ...   \n",
            "1253      1258          1  Dear readers, On the current debate of the eff...   \n",
            "1366      1371          1  Dear Local Newspaper, I feel that negative eff...   \n",
            "1375      1380          1  Dear local newspaper, I has come to my attenti...   \n",
            "1410      1415          1  Dear computer experts, @CAPS1 this: A family o...   \n",
            "1438      1443          1  Computers have been one of technoligy's greate...   \n",
            "1442      1447          1  Dear @CAPS1 of the @CAPS2 @CAPS3 @CAPS4, compu...   \n",
            "1447      1452          1  Dear @PERSON4, I strongly believe that use of ...   \n",
            "1700      1705          1  Dear @CAPS1 @CAPS2, @CAPS3, walking into a roo...   \n",
            "1755      1760          1  I think we can all agree that computer usage i...   \n",
            "1758      1763          1  Dear Local Newspaper: @CAPS1 you know that ove...   \n",
            "\n",
            "      rater1_domain1  rater2_domain1  rater3_domain1  domain1_score  \\\n",
            "15               6.0             6.0             NaN           12.0   \n",
            "36               6.0             6.0             NaN           12.0   \n",
            "69               6.0             6.0             NaN           12.0   \n",
            "117              6.0             6.0             NaN           12.0   \n",
            "146              6.0             6.0             NaN           12.0   \n",
            "153              6.0             6.0             NaN           12.0   \n",
            "161              6.0             6.0             NaN           12.0   \n",
            "224              6.0             6.0             NaN           12.0   \n",
            "231              6.0             6.0             NaN           12.0   \n",
            "286              6.0             6.0             NaN           12.0   \n",
            "319              6.0             6.0             NaN           12.0   \n",
            "343              6.0             6.0             NaN           12.0   \n",
            "388              6.0             6.0             NaN           12.0   \n",
            "408              6.0             6.0             NaN           12.0   \n",
            "415              6.0             6.0             NaN           12.0   \n",
            "469              6.0             6.0             NaN           12.0   \n",
            "495              6.0             6.0             NaN           12.0   \n",
            "516              6.0             6.0             NaN           12.0   \n",
            "556              6.0             6.0             NaN           12.0   \n",
            "696              6.0             6.0             NaN           12.0   \n",
            "814              6.0             6.0             NaN           12.0   \n",
            "844              6.0             6.0             NaN           12.0   \n",
            "856              6.0             6.0             NaN           12.0   \n",
            "865              6.0             6.0             NaN           12.0   \n",
            "871              6.0             6.0             NaN           12.0   \n",
            "929              6.0             6.0             NaN           12.0   \n",
            "938              6.0             6.0             NaN           12.0   \n",
            "950              6.0             6.0             NaN           12.0   \n",
            "996              6.0             6.0             NaN           12.0   \n",
            "997              6.0             6.0             NaN           12.0   \n",
            "1075             6.0             6.0             NaN           12.0   \n",
            "1129             6.0             6.0             NaN           12.0   \n",
            "1155             6.0             6.0             NaN           12.0   \n",
            "1166             6.0             6.0             NaN           12.0   \n",
            "1167             6.0             6.0             NaN           12.0   \n",
            "1197             6.0             6.0             NaN           12.0   \n",
            "1245             6.0             6.0             NaN           12.0   \n",
            "1253             6.0             6.0             NaN           12.0   \n",
            "1366             6.0             6.0             NaN           12.0   \n",
            "1375             6.0             6.0             NaN           12.0   \n",
            "1410             6.0             6.0             NaN           12.0   \n",
            "1438             6.0             6.0             NaN           12.0   \n",
            "1442             6.0             6.0             NaN           12.0   \n",
            "1447             6.0             6.0             NaN           12.0   \n",
            "1700             6.0             6.0             NaN           12.0   \n",
            "1755             6.0             6.0             NaN           12.0   \n",
            "1758             6.0             6.0             NaN           12.0   \n",
            "\n",
            "      rater1_domain2  rater2_domain2  domain2_score  ...  rater2_trait3  \\\n",
            "15               NaN             NaN            NaN  ...            NaN   \n",
            "36               NaN             NaN            NaN  ...            NaN   \n",
            "69               NaN             NaN            NaN  ...            NaN   \n",
            "117              NaN             NaN            NaN  ...            NaN   \n",
            "146              NaN             NaN            NaN  ...            NaN   \n",
            "153              NaN             NaN            NaN  ...            NaN   \n",
            "161              NaN             NaN            NaN  ...            NaN   \n",
            "224              NaN             NaN            NaN  ...            NaN   \n",
            "231              NaN             NaN            NaN  ...            NaN   \n",
            "286              NaN             NaN            NaN  ...            NaN   \n",
            "319              NaN             NaN            NaN  ...            NaN   \n",
            "343              NaN             NaN            NaN  ...            NaN   \n",
            "388              NaN             NaN            NaN  ...            NaN   \n",
            "408              NaN             NaN            NaN  ...            NaN   \n",
            "415              NaN             NaN            NaN  ...            NaN   \n",
            "469              NaN             NaN            NaN  ...            NaN   \n",
            "495              NaN             NaN            NaN  ...            NaN   \n",
            "516              NaN             NaN            NaN  ...            NaN   \n",
            "556              NaN             NaN            NaN  ...            NaN   \n",
            "696              NaN             NaN            NaN  ...            NaN   \n",
            "814              NaN             NaN            NaN  ...            NaN   \n",
            "844              NaN             NaN            NaN  ...            NaN   \n",
            "856              NaN             NaN            NaN  ...            NaN   \n",
            "865              NaN             NaN            NaN  ...            NaN   \n",
            "871              NaN             NaN            NaN  ...            NaN   \n",
            "929              NaN             NaN            NaN  ...            NaN   \n",
            "938              NaN             NaN            NaN  ...            NaN   \n",
            "950              NaN             NaN            NaN  ...            NaN   \n",
            "996              NaN             NaN            NaN  ...            NaN   \n",
            "997              NaN             NaN            NaN  ...            NaN   \n",
            "1075             NaN             NaN            NaN  ...            NaN   \n",
            "1129             NaN             NaN            NaN  ...            NaN   \n",
            "1155             NaN             NaN            NaN  ...            NaN   \n",
            "1166             NaN             NaN            NaN  ...            NaN   \n",
            "1167             NaN             NaN            NaN  ...            NaN   \n",
            "1197             NaN             NaN            NaN  ...            NaN   \n",
            "1245             NaN             NaN            NaN  ...            NaN   \n",
            "1253             NaN             NaN            NaN  ...            NaN   \n",
            "1366             NaN             NaN            NaN  ...            NaN   \n",
            "1375             NaN             NaN            NaN  ...            NaN   \n",
            "1410             NaN             NaN            NaN  ...            NaN   \n",
            "1438             NaN             NaN            NaN  ...            NaN   \n",
            "1442             NaN             NaN            NaN  ...            NaN   \n",
            "1447             NaN             NaN            NaN  ...            NaN   \n",
            "1700             NaN             NaN            NaN  ...            NaN   \n",
            "1755             NaN             NaN            NaN  ...            NaN   \n",
            "1758             NaN             NaN            NaN  ...            NaN   \n",
            "\n",
            "      rater2_trait4  rater2_trait5  rater2_trait6  rater3_trait1  \\\n",
            "15              NaN            NaN            NaN            NaN   \n",
            "36              NaN            NaN            NaN            NaN   \n",
            "69              NaN            NaN            NaN            NaN   \n",
            "117             NaN            NaN            NaN            NaN   \n",
            "146             NaN            NaN            NaN            NaN   \n",
            "153             NaN            NaN            NaN            NaN   \n",
            "161             NaN            NaN            NaN            NaN   \n",
            "224             NaN            NaN            NaN            NaN   \n",
            "231             NaN            NaN            NaN            NaN   \n",
            "286             NaN            NaN            NaN            NaN   \n",
            "319             NaN            NaN            NaN            NaN   \n",
            "343             NaN            NaN            NaN            NaN   \n",
            "388             NaN            NaN            NaN            NaN   \n",
            "408             NaN            NaN            NaN            NaN   \n",
            "415             NaN            NaN            NaN            NaN   \n",
            "469             NaN            NaN            NaN            NaN   \n",
            "495             NaN            NaN            NaN            NaN   \n",
            "516             NaN            NaN            NaN            NaN   \n",
            "556             NaN            NaN            NaN            NaN   \n",
            "696             NaN            NaN            NaN            NaN   \n",
            "814             NaN            NaN            NaN            NaN   \n",
            "844             NaN            NaN            NaN            NaN   \n",
            "856             NaN            NaN            NaN            NaN   \n",
            "865             NaN            NaN            NaN            NaN   \n",
            "871             NaN            NaN            NaN            NaN   \n",
            "929             NaN            NaN            NaN            NaN   \n",
            "938             NaN            NaN            NaN            NaN   \n",
            "950             NaN            NaN            NaN            NaN   \n",
            "996             NaN            NaN            NaN            NaN   \n",
            "997             NaN            NaN            NaN            NaN   \n",
            "1075            NaN            NaN            NaN            NaN   \n",
            "1129            NaN            NaN            NaN            NaN   \n",
            "1155            NaN            NaN            NaN            NaN   \n",
            "1166            NaN            NaN            NaN            NaN   \n",
            "1167            NaN            NaN            NaN            NaN   \n",
            "1197            NaN            NaN            NaN            NaN   \n",
            "1245            NaN            NaN            NaN            NaN   \n",
            "1253            NaN            NaN            NaN            NaN   \n",
            "1366            NaN            NaN            NaN            NaN   \n",
            "1375            NaN            NaN            NaN            NaN   \n",
            "1410            NaN            NaN            NaN            NaN   \n",
            "1438            NaN            NaN            NaN            NaN   \n",
            "1442            NaN            NaN            NaN            NaN   \n",
            "1447            NaN            NaN            NaN            NaN   \n",
            "1700            NaN            NaN            NaN            NaN   \n",
            "1755            NaN            NaN            NaN            NaN   \n",
            "1758            NaN            NaN            NaN            NaN   \n",
            "\n",
            "      rater3_trait2  rater3_trait3  rater3_trait4  rater3_trait5  \\\n",
            "15              NaN            NaN            NaN            NaN   \n",
            "36              NaN            NaN            NaN            NaN   \n",
            "69              NaN            NaN            NaN            NaN   \n",
            "117             NaN            NaN            NaN            NaN   \n",
            "146             NaN            NaN            NaN            NaN   \n",
            "153             NaN            NaN            NaN            NaN   \n",
            "161             NaN            NaN            NaN            NaN   \n",
            "224             NaN            NaN            NaN            NaN   \n",
            "231             NaN            NaN            NaN            NaN   \n",
            "286             NaN            NaN            NaN            NaN   \n",
            "319             NaN            NaN            NaN            NaN   \n",
            "343             NaN            NaN            NaN            NaN   \n",
            "388             NaN            NaN            NaN            NaN   \n",
            "408             NaN            NaN            NaN            NaN   \n",
            "415             NaN            NaN            NaN            NaN   \n",
            "469             NaN            NaN            NaN            NaN   \n",
            "495             NaN            NaN            NaN            NaN   \n",
            "516             NaN            NaN            NaN            NaN   \n",
            "556             NaN            NaN            NaN            NaN   \n",
            "696             NaN            NaN            NaN            NaN   \n",
            "814             NaN            NaN            NaN            NaN   \n",
            "844             NaN            NaN            NaN            NaN   \n",
            "856             NaN            NaN            NaN            NaN   \n",
            "865             NaN            NaN            NaN            NaN   \n",
            "871             NaN            NaN            NaN            NaN   \n",
            "929             NaN            NaN            NaN            NaN   \n",
            "938             NaN            NaN            NaN            NaN   \n",
            "950             NaN            NaN            NaN            NaN   \n",
            "996             NaN            NaN            NaN            NaN   \n",
            "997             NaN            NaN            NaN            NaN   \n",
            "1075            NaN            NaN            NaN            NaN   \n",
            "1129            NaN            NaN            NaN            NaN   \n",
            "1155            NaN            NaN            NaN            NaN   \n",
            "1166            NaN            NaN            NaN            NaN   \n",
            "1167            NaN            NaN            NaN            NaN   \n",
            "1197            NaN            NaN            NaN            NaN   \n",
            "1245            NaN            NaN            NaN            NaN   \n",
            "1253            NaN            NaN            NaN            NaN   \n",
            "1366            NaN            NaN            NaN            NaN   \n",
            "1375            NaN            NaN            NaN            NaN   \n",
            "1410            NaN            NaN            NaN            NaN   \n",
            "1438            NaN            NaN            NaN            NaN   \n",
            "1442            NaN            NaN            NaN            NaN   \n",
            "1447            NaN            NaN            NaN            NaN   \n",
            "1700            NaN            NaN            NaN            NaN   \n",
            "1755            NaN            NaN            NaN            NaN   \n",
            "1758            NaN            NaN            NaN            NaN   \n",
            "\n",
            "      rater3_trait6  \n",
            "15              NaN  \n",
            "36              NaN  \n",
            "69              NaN  \n",
            "117             NaN  \n",
            "146             NaN  \n",
            "153             NaN  \n",
            "161             NaN  \n",
            "224             NaN  \n",
            "231             NaN  \n",
            "286             NaN  \n",
            "319             NaN  \n",
            "343             NaN  \n",
            "388             NaN  \n",
            "408             NaN  \n",
            "415             NaN  \n",
            "469             NaN  \n",
            "495             NaN  \n",
            "516             NaN  \n",
            "556             NaN  \n",
            "696             NaN  \n",
            "814             NaN  \n",
            "844             NaN  \n",
            "856             NaN  \n",
            "865             NaN  \n",
            "871             NaN  \n",
            "929             NaN  \n",
            "938             NaN  \n",
            "950             NaN  \n",
            "996             NaN  \n",
            "997             NaN  \n",
            "1075            NaN  \n",
            "1129            NaN  \n",
            "1155            NaN  \n",
            "1166            NaN  \n",
            "1167            NaN  \n",
            "1197            NaN  \n",
            "1245            NaN  \n",
            "1253            NaN  \n",
            "1366            NaN  \n",
            "1375            NaN  \n",
            "1410            NaN  \n",
            "1438            NaN  \n",
            "1442            NaN  \n",
            "1447            NaN  \n",
            "1700            NaN  \n",
            "1755            NaN  \n",
            "1758            NaN  \n",
            "\n",
            "[47 rows x 28 columns]\n"
          ]
        }
      ]
    },
    {
      "cell_type": "markdown",
      "metadata": {
        "id": "UV6OEGrdBHDw"
      },
      "source": [
        "## 4. Applying a ```function``` directly to the dataframe\n",
        "> We learned different types of string methods last time (e.g., ```string.lower()```). We will create a functionusing the string methods and directly apply it to the entities of the dataframe.\n",
        "    \n",
        "    > dataframe[column].apply(function)\n",
        "    > dataframe[column].apply(lambda x: function(x))"
      ]
    },
    {
      "cell_type": "markdown",
      "metadata": {
        "id": "xywU0X7nBHDx"
      },
      "source": [
        "> First we will create a ```function``` called ```split_words```"
      ]
    },
    {
      "cell_type": "code",
      "execution_count": 35,
      "metadata": {
        "id": "XsG48KH3BHDx",
        "outputId": "941878fe-5762-412b-ccda-5da8e20531af",
        "colab": {
          "base_uri": "https://localhost:8080/"
        }
      },
      "outputs": [
        {
          "output_type": "execute_result",
          "data": {
            "text/plain": [
              "['please', 'work', 'right', 'now!']"
            ]
          },
          "metadata": {},
          "execution_count": 35
        }
      ],
      "source": [
        "def split_words(string):\n",
        "    string = string.lower() #lowercase\n",
        "    ## make everything lower case\n",
        "    return string.split(' ') #split words into a list\n",
        "    ## split stirng by the space\n",
        "\n",
        "split_words(\"Please work right now!\")"
      ]
    },
    {
      "cell_type": "markdown",
      "metadata": {
        "id": "kADEWlpGBHDx"
      },
      "source": [
        "> Let's apply this function to the column ```essay``` (```df.essay``` or ```df['essay'] ```). We will use the `apply` function"
      ]
    },
    {
      "cell_type": "code",
      "execution_count": 37,
      "metadata": {
        "id": "EPt5uUKYBHDy",
        "outputId": "dd1a2709-a859-4eb3-903a-b952c361ace6",
        "colab": {
          "base_uri": "https://localhost:8080/"
        }
      },
      "outputs": [
        {
          "output_type": "execute_result",
          "data": {
            "text/plain": [
              "0        [dear, local, newspaper,, i, think, effects, c...\n",
              "1        [dear, @caps1, @caps2,, i, believe, that, usin...\n",
              "2        [dear,, @caps1, @caps2, @caps3, more, and, mor...\n",
              "3        [dear, local, newspaper,, @caps1, i, have, fou...\n",
              "4        [dear, @location1,, i, know, having, computers...\n",
              "                               ...                        \n",
              "12973    [, in, most, stories, mothers, and, daughters,...\n",
              "12974    [, i, never, understood, the, meaning, laughte...\n",
              "12975    [when, you, laugh,, is, @caps5, out, of, habit...\n",
              "12976    [, , , , , , , , , , , , , , , , , , , , , , ,...\n",
              "12977    [, many, people, believe, that, laughter, can,...\n",
              "Name: tokens, Length: 12978, dtype: object"
            ]
          },
          "metadata": {},
          "execution_count": 37
        }
      ],
      "source": [
        "df['tokens'] = df.essay.apply(split_words)\n",
        "df.tokens"
      ]
    },
    {
      "cell_type": "markdown",
      "metadata": {
        "id": "Rii9y_d3BHDy"
      },
      "source": [
        "<img src=\"https://i.pinimg.com/736x/2e/aa/7d/2eaa7d5021ca7c3c98bc93b98b9646fe.jpg\" align=\"left\" width=\"70\" height=\"70\" align=\"left\">\n",
        "\n",
        "\n",
        "### Task 1: Define a function and apply it to a dataframe\n",
        "> Q1: Let's define another function (`count`) that counts the number of unique words in a list. \\\n",
        "> Q2: Let's apply the `count` function to `df['essay_list']`\n",
        "    >- *What is the index number of the response with the most unique number of words?* `.argmax()`\n",
        "    > Q3: Define a new `count` function that excludes the masked words (e.g.,`['@caps1', '@caps2', '@caps3', '@location1', '@location2', '@organization1', '@organization2']`"
      ]
    },
    {
      "cell_type": "code",
      "execution_count": 38,
      "metadata": {
        "id": "pT2iimdGBHDz"
      },
      "outputs": [],
      "source": [
        "################### Your Code Here ############################\n",
        "#Q1 ANSWER\n",
        "def count(lst):\n",
        "    temp = set(lst)\n",
        "\n",
        "    return len(list(temp))\n",
        "###############################################################"
      ]
    },
    {
      "cell_type": "code",
      "execution_count": 40,
      "metadata": {
        "id": "vCAZcMJLBHD0"
      },
      "outputs": [],
      "source": [
        "################### Your Code Here ############################\n",
        "#Q2 ANSWER\n",
        "df['word_count'] = df.tokens.apply(count)\n",
        "\n",
        "###############################################################"
      ]
    },
    {
      "cell_type": "code",
      "execution_count": 45,
      "metadata": {
        "id": "sOdFtRFoBHD0",
        "outputId": "09482349-551f-4b94-e922-b7b3fddbe88b",
        "colab": {
          "base_uri": "https://localhost:8080/"
        }
      },
      "outputs": [
        {
          "output_type": "execute_result",
          "data": {
            "text/plain": [
              "0        None\n",
              "1        None\n",
              "2        None\n",
              "3        None\n",
              "4        None\n",
              "         ... \n",
              "12973    None\n",
              "12974    None\n",
              "12975    None\n",
              "12976    None\n",
              "12977    None\n",
              "Name: tokens, Length: 12978, dtype: object"
            ]
          },
          "metadata": {},
          "execution_count": 45
        }
      ],
      "source": [
        "################### Your Code Here ############################\n",
        "import re\n",
        "\n",
        "#Q3 ANSWER\n",
        "def count_new(lst):\n",
        "    new_list = [i for i in lst if '@' not in i]\n",
        "    temp = set(new_list)\n",
        "    return\n",
        "\n",
        "df.tokens.apply(count_new)\n",
        "###############################################################"
      ]
    },
    {
      "cell_type": "markdown",
      "metadata": {
        "id": "KmmEfYVQBHD2"
      },
      "source": [
        "## 5. *Preliminary* Descriptive Analysis with `Pandas`\n",
        "\n",
        "> Basic descriptive statistics using `df.max()`, `df.min()`, `df.mean()`, `df.mode()`"
      ]
    },
    {
      "cell_type": "code",
      "execution_count": 46,
      "metadata": {
        "id": "MsH9mcR4BHD3",
        "outputId": "c7be49a1-21e6-45ba-eb3c-051b8cf16609",
        "colab": {
          "base_uri": "https://localhost:8080/"
        }
      },
      "outputs": [
        {
          "output_type": "stream",
          "name": "stdout",
          "text": [
            "2\n"
          ]
        }
      ],
      "source": [
        "df['word_count'] = df.tokens.apply(len)\n",
        "\n",
        "print(df.word_count.min())"
      ]
    },
    {
      "cell_type": "code",
      "execution_count": 47,
      "metadata": {
        "id": "aExBbzq0BHD4",
        "outputId": "5a1cd990-b204-4a09-ea3c-5201aca10680",
        "colab": {
          "base_uri": "https://localhost:8080/"
        }
      },
      "outputs": [
        {
          "output_type": "stream",
          "name": "stdout",
          "text": [
            "1119\n"
          ]
        }
      ],
      "source": [
        "print(df.word_count.max())"
      ]
    },
    {
      "cell_type": "code",
      "execution_count": 48,
      "metadata": {
        "id": "E2-lNy3YBHD5",
        "outputId": "36c4bea1-0ca0-45c6-bfea-e6ea70708573",
        "colab": {
          "base_uri": "https://localhost:8080/"
        }
      },
      "outputs": [
        {
          "output_type": "stream",
          "name": "stdout",
          "text": [
            "227.03575281245185\n"
          ]
        }
      ],
      "source": [
        "print(df.word_count.mean())"
      ]
    },
    {
      "cell_type": "code",
      "execution_count": 49,
      "metadata": {
        "id": "ye5V-BfgBHD6",
        "outputId": "aef41481-45d1-4dc5-9ab9-90498dc717d9",
        "colab": {
          "base_uri": "https://localhost:8080/"
        }
      },
      "outputs": [
        {
          "output_type": "stream",
          "name": "stdout",
          "text": [
            "0    133\n",
            "Name: word_count, dtype: int64\n"
          ]
        }
      ],
      "source": [
        "print(df.word_count.mode())"
      ]
    },
    {
      "cell_type": "markdown",
      "metadata": {
        "id": "u9FuxRXHBHD7"
      },
      "source": [
        "> Correlation Analysis using `df.corr()`"
      ]
    },
    {
      "cell_type": "code",
      "execution_count": null,
      "metadata": {
        "id": "HWM4-THkBHD8",
        "outputId": "12d9c0bc-37d9-4927-ab8f-6b24cf31544a"
      },
      "outputs": [
        {
          "name": "stdout",
          "output_type": "stream",
          "text": [
            "correlation coefficient for essay set:  1\n",
            "0.83\n",
            "correlation coefficient for essay set:  2\n",
            "0.7\n",
            "correlation coefficient for essay set:  3\n",
            "0.71\n",
            "correlation coefficient for essay set:  4\n",
            "0.74\n",
            "correlation coefficient for essay set:  5\n",
            "0.82\n",
            "correlation coefficient for essay set:  6\n",
            "0.71\n",
            "correlation coefficient for essay set:  7\n",
            "0.71\n",
            "correlation coefficient for essay set:  8\n",
            "0.64\n"
          ]
        }
      ],
      "source": [
        "# correlation beween X(word count) Y (domain1_score)\n",
        "for i in list(set(df.essay_set)):\n",
        "    value = df[df.essay_set==i].corr()['word_count']['domain1_score']\n",
        "    print('correlation coefficient for essay set: ', i)\n",
        "    print(round(value,2))"
      ]
    },
    {
      "cell_type": "code",
      "execution_count": null,
      "metadata": {
        "id": "rgA60vTOBHD9"
      },
      "outputs": [],
      "source": []
    }
  ],
  "metadata": {
    "colab": {
      "name": "week 1-intro to python - PART 1",
      "provenance": []
    },
    "kernelspec": {
      "display_name": "Python 3",
      "language": "python",
      "name": "python3"
    },
    "language_info": {
      "codemirror_mode": {
        "name": "ipython",
        "version": 3
      },
      "file_extension": ".py",
      "mimetype": "text/x-python",
      "name": "python",
      "nbconvert_exporter": "python",
      "pygments_lexer": "ipython3",
      "version": "3.8.8"
    }
  },
  "nbformat": 4,
  "nbformat_minor": 0
}