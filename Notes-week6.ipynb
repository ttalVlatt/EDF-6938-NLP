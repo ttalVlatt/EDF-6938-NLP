{
  "cells": [
    {
      "cell_type": "markdown",
      "id": "530144c4",
      "metadata": {
        "id": "530144c4"
      },
      "source": [
        "---\n",
        "<h1><center>  lab 6 : Text Feature Engineering </center>\n",
        "    \n",
        "<img src=\"data:image/png;base64,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\" width=\"350\">\n"
      ]
    },
    {
      "cell_type": "markdown",
      "id": "c3c7066e",
      "metadata": {
        "id": "c3c7066e"
      },
      "source": [
        "> `Created by: Jinnie Shin (jinnie.shin@ualberta.ca)`\\\n",
        "> `Date: `\n",
        "---\n",
        "<img src=\"https://encrypted-tbn0.gstatic.com/images?q=tbn:ANd9GcQmNf86oJnfhpkPA9LnrFnAbfwF2VywPYpB_w&usqp=CAU\" align=\"left\" width=\"70\" height=\"70\" align=\"left\">\n",
        "\n",
        " ### Required Packages or Dependencies"
      ]
    },
    {
      "cell_type": "code",
      "execution_count": 2,
      "id": "02eac3c7",
      "metadata": {
        "colab": {
          "base_uri": "https://localhost:8080/"
        },
        "id": "02eac3c7",
        "outputId": "ce6ebdcf-acc7-455c-b34a-f950b63d3bec"
      },
      "outputs": [
        {
          "output_type": "stream",
          "name": "stdout",
          "text": [
            "Collecting syllables\n",
            "  Downloading syllables-1.0.7-py3-none-any.whl (15 kB)\n",
            "Collecting cmudict<2.0.0,>=1.0.11 (from syllables)\n",
            "  Downloading cmudict-1.0.13-py3-none-any.whl (939 kB)\n",
            "\u001b[2K     \u001b[90m━━━━━━━━━━━━━━━━━━━━━━━━━━━━━━━━━━━━━━\u001b[0m \u001b[32m939.3/939.3 kB\u001b[0m \u001b[31m10.9 MB/s\u001b[0m eta \u001b[36m0:00:00\u001b[0m\n",
            "\u001b[?25hCollecting importlib-metadata<6.0.0,>=5.1.0 (from syllables)\n",
            "  Downloading importlib_metadata-5.2.0-py3-none-any.whl (21 kB)\n",
            "Collecting importlib-resources<6.0.0,>=5.10.1 (from cmudict<2.0.0,>=1.0.11->syllables)\n",
            "  Downloading importlib_resources-5.13.0-py3-none-any.whl (32 kB)\n",
            "Requirement already satisfied: zipp>=0.5 in /usr/local/lib/python3.10/dist-packages (from importlib-metadata<6.0.0,>=5.1.0->syllables) (3.16.2)\n",
            "Installing collected packages: importlib-resources, importlib-metadata, cmudict, syllables\n",
            "  Attempting uninstall: importlib-resources\n",
            "    Found existing installation: importlib-resources 6.0.1\n",
            "    Uninstalling importlib-resources-6.0.1:\n",
            "      Successfully uninstalled importlib-resources-6.0.1\n",
            "  Attempting uninstall: importlib-metadata\n",
            "    Found existing installation: importlib-metadata 6.8.0\n",
            "    Uninstalling importlib-metadata-6.8.0:\n",
            "      Successfully uninstalled importlib-metadata-6.8.0\n",
            "Successfully installed cmudict-1.0.13 importlib-metadata-5.2.0 importlib-resources-5.13.0 syllables-1.0.7\n"
          ]
        }
      ],
      "source": [
        "!pip install syllables #run this if you run into an error (download syllables)\n",
        "import syllables\n",
        "import numpy as np\n",
        "import pandas as pd"
      ]
    },
    {
      "cell_type": "markdown",
      "id": "98aabe31",
      "metadata": {
        "id": "98aabe31"
      },
      "source": [
        "\n",
        "## **REVIEW**: Dataset\n",
        "\n",
        "> Using the text_normalizer function we created last time, we will import `essay set 5`"
      ]
    },
    {
      "cell_type": "markdown",
      "id": "3d75c156",
      "metadata": {
        "id": "3d75c156"
      },
      "source": [
        "#### Essay Set 8\n",
        "`Prompt`: We all understand the benefits of laughter. For example, someone once said, \"Laughter is the shortest distance between two people.\" Many other people believe that laughter is an important part of any relationship. Tell a true story in which laughter was one element or part.\n",
        "\n",
        "\n",
        "| Type of response            | Persuasive/Narrative/Expository |\n",
        "|-----------------------------|---------------------------|\n",
        "| Grade level                 | `10`                       |\n",
        "| Total sample size           | `918`                |\n",
        "| Average length of responses | `650 words`                  |\n",
        "| Score range                 | `0-30`                       |"
      ]
    },
    {
      "cell_type": "code",
      "execution_count": 4,
      "id": "8288c594",
      "metadata": {
        "colab": {
          "base_uri": "https://localhost:8080/"
        },
        "id": "8288c594",
        "outputId": "ce5d681a-71df-4374-fbbf-30d5b7336b16"
      },
      "outputs": [
        {
          "output_type": "stream",
          "name": "stdout",
          "text": [
            " Softball has to be one of the single most greatest sports alive; playing softball in college has always been a goal of mine. I love the dirt that sticks to your face, the sweat dripping from your forehead, and the gallons and gallons of water you poor all over yourself to keep cool in the blistering @CAPS2. Although I love softball I feel that the memories you acquire from the times you have with your teammates, are the things you remember the most through out your softball career. I have always had great memories through softball many laughs, tears, and frustrations so when I had the opportunity to play on a top notch team I looked forward to all the many more memories I would have.  Hood @CAPS1 @CAPS2 was my team name, I had played almost four years with this local team. Many of these girls were like sisters to me they had treated me amazingly through out my years playing with them. I felt like I had my set team, I was going to play with these girls all though high school and we would become even closer. As my fifth year now approached I was looking forward to it, but when my dad came up with the idea that maybe I play for a team not as locally, that idea was also very enticing. I now faced a big dilemma either stay with the team I knew so well and continue to play with them until high school ended; or play with a team I knew nothing about, play with girls that might not like me, girls that were so much better then me, and looked down upon me. As I looked at the pros and cons of both teams I decided no; I would stay with the team that I knew so well and I would stay comfortable at where I was at. At that point softball was just around the corner and I began to reanalyze everything. Did I really want to stay and be comfortable? Or maybe challenge myself to become a better player; maybe i could work hard enough, and have college scouts take a look at me and hopefully have me play for them later. I then decided I would take a chance and try for this team.  As my dad and I drove to the field where I would try out for this team, my stomach was in knots. I wanted this team to like me, I was playing all the possible ways in my head I could greet them so i didn't sound snobby or a grump. The time moved quickly and I wished it would slow; my heart felt like it was beating a million times per second. I was so nervous my mouth began to feel sticky and have an odd taste to it, soon after my mouth became bone dry no taste, no flavor, just a sticky mess. The car then was stationary my dad looked at me and just said \"ready or not here we come\". Nervous began to take over my body my arms were shaking uncontrollably and I was second guessing every move I made, I even had troubles removing my seat belt.  As I approached the field it felt like time was in slow motion, walking by I saw all the girls turn there heads to see what new fresh meat had arrived. My first thought was to run; that was it I didn't want to go, I was done I wanted home I was ready to start my year with the @CAPS2, I just couldn't take it. Then as I walked onto the field they all grew a smile. Each and everyone of them told me their names, there favorite color, and a small fun fact about themselves. I found myself laughing through out my whole try out, there were no awkward moments and I enjoyed my time there. I couldn't wait to go back, I now had made new friends, friends I knew I would grow close with. My year with this team was amazing I have friendships with these girls that I never would have discovered if I hadn't gone. Those girls are like family, and the coaches even more so. Laughter played a very big role in the decision I made to play with this team, if I had just gone and tried out, and had I not had fun and laughed, I would have decided to play with the @CAPS2. I have had great memories with the @CAPS2, but also softball is all about going out discovering new friendships; therefore, enjoying the sport as well as the people.\n"
          ]
        }
      ],
      "source": [
        "data = pd.read_excel('training_set_rel3.xlsx')\n",
        "data = data[data.essay_set==8]\n",
        "print(data.iloc[1].essay)"
      ]
    },
    {
      "cell_type": "markdown",
      "id": "66fb145d",
      "metadata": {
        "id": "66fb145d"
      },
      "source": [
        "\n",
        "## 1. Extracting Descriptive Indices\n"
      ]
    },
    {
      "cell_type": "code",
      "execution_count": 13,
      "id": "70d8f0e0",
      "metadata": {
        "id": "70d8f0e0"
      },
      "outputs": [],
      "source": [
        "def descriptives(text):\n",
        "      ## the total number of sentences\n",
        "\n",
        "    # import nbimporter\n",
        "    # from week3 import text_normalize\n",
        "    # normalizer = text_normalize()\n",
        "\n",
        "    # sentences = normalizer.sent_tokenize(text)\n",
        "\n",
        "    import nltk\n",
        "    nltk.download(\"punkt\", quiet = True)\n",
        "    nltk.download(\"stopwords\", quiet = True)\n",
        "\n",
        "    sentences = nltk.tokenize.sent_tokenize(text)\n",
        "    n_sentences = len(sentences)\n",
        "\n",
        "      ## the total number of words (tokens)\n",
        "    words = nltk.tokenize.word_tokenize(text)\n",
        "    n_words = len(words)\n",
        "\n",
        "      ## the total number of unique vocabulary\n",
        "    unique_words = set(words)\n",
        "    n_unique_words = len(unique_words)\n",
        "\n",
        "      ## the total number of stop words\n",
        "    stop_words = list(set(nltk.corpus.stopwords.words('english')))\n",
        "    n_stopwords = len([i for i in words if i in stop_words])\n",
        "\n",
        "    n_content_words = n_words - n_stopwords\n",
        "\n",
        "      ## the total number of punctuation marks\n",
        "    n_punc = len([i for i in words if i in \"\"\"!\"#$%&'()*+,-./:;<=>?@[\\]^_`{|}~\"\"\"])\n",
        "\n",
        "      ## total number of syllables\n",
        "    n_syllables = np.sum([syllables.estimate(i) for i in words])\n",
        "\n",
        "    ############################ MINI TASK ###################################\n",
        "\n",
        "    #1. Total number of unique lemmas\n",
        "\n",
        "\n",
        "    #2. Total number of unique stems\n",
        "\n",
        "\n",
        "\n",
        "    ##########################################################################\n",
        "\n",
        "    return n_sentences, n_words, n_unique_words, n_stopwords, n_punc, n_syllables #, n_lemmas, n_stems"
      ]
    },
    {
      "cell_type": "markdown",
      "id": "430d1c2f",
      "metadata": {
        "id": "430d1c2f"
      },
      "source": [
        "> *Let's explore!*"
      ]
    },
    {
      "cell_type": "code",
      "execution_count": 7,
      "id": "96d9a80b",
      "metadata": {
        "colab": {
          "base_uri": "https://localhost:8080/"
        },
        "id": "96d9a80b",
        "outputId": "4072e13b-d589-4e33-ba65-a6bad3892002"
      },
      "outputs": [
        {
          "output_type": "stream",
          "name": "stderr",
          "text": [
            "[nltk_data] Downloading package punkt to /root/nltk_data...\n",
            "[nltk_data]   Unzipping tokenizers/punkt.zip.\n",
            "[nltk_data] Downloading package stopwords to /root/nltk_data...\n",
            "[nltk_data]   Unzipping corpora/stopwords.zip.\n"
          ]
        },
        {
          "output_type": "execute_result",
          "data": {
            "text/plain": [
              "(39, 835, 257, 285, 128, 1007)"
            ]
          },
          "metadata": {},
          "execution_count": 7
        }
      ],
      "source": [
        "text = data.iloc[0].essay\n",
        "\n",
        "descriptives(text)"
      ]
    },
    {
      "cell_type": "code",
      "source": [
        "data[\"desc\"] = data.essay.apply(str).apply(descriptives)"
      ],
      "metadata": {
        "id": "U2V_PfsVQvIc"
      },
      "id": "U2V_PfsVQvIc",
      "execution_count": 14,
      "outputs": []
    },
    {
      "cell_type": "markdown",
      "id": "4a131acb",
      "metadata": {
        "id": "4a131acb"
      },
      "source": [
        "<img src=\"https://i.pinimg.com/736x/2e/aa/7d/2eaa7d5021ca7c3c98bc93b98b9646fe.jpg\" align=\"left\" width=\"70\" height=\"70\" align=\"left\">\n",
        "\n",
        "> ## Task 1: Descriptive Indices\n",
        "\n",
        "> Q1. Let's apply the `descriptives` function to the entire dataframe (`data.essay`) and save them into a new column (`features`)"
      ]
    },
    {
      "cell_type": "code",
      "execution_count": 15,
      "id": "79c2cbdd",
      "metadata": {
        "id": "79c2cbdd",
        "outputId": "dd89d878-3d0d-4bff-9bdc-c9148e7e35f1",
        "colab": {
          "base_uri": "https://localhost:8080/"
        }
      },
      "outputs": [
        {
          "output_type": "execute_result",
          "data": {
            "text/plain": [
              "12255     (39, 835, 257, 285, 128, 1007)\n",
              "12256      (30, 863, 315, 348, 76, 1110)\n",
              "12257      (39, 969, 330, 373, 96, 1312)\n",
              "12258       (30, 765, 263, 376, 52, 962)\n",
              "12259       (26, 708, 210, 336, 59, 806)\n",
              "                      ...               \n",
              "12973    (27, 1007, 347, 385, 134, 1291)\n",
              "12974       (35, 666, 228, 256, 95, 806)\n",
              "12975     (41, 997, 377, 380, 152, 1378)\n",
              "12976       (39, 684, 258, 261, 99, 938)\n",
              "12977       (29, 541, 235, 204, 66, 768)\n",
              "Name: features, Length: 723, dtype: object"
            ]
          },
          "metadata": {},
          "execution_count": 15
        }
      ],
      "source": [
        "################# YOUR CODE HERE ############\n",
        "data['features'] = data.essay.apply(descriptives)\n",
        "data.features\n",
        "############################################"
      ]
    },
    {
      "cell_type": "markdown",
      "id": "a1ca0d4a",
      "metadata": {
        "id": "a1ca0d4a"
      },
      "source": [
        "## 2. Readability Indices"
      ]
    },
    {
      "cell_type": "code",
      "execution_count": 20,
      "id": "848f8b91",
      "metadata": {
        "id": "848f8b91"
      },
      "outputs": [],
      "source": [
        "class readability():\n",
        "\n",
        "    def __init__(self):\n",
        "        self.n_sent, self.n_word, self.n_unique, self.n_stop, self.n_punc, self.n_syll = descriptives(text)\n",
        "\n",
        "    def fr_score(self, text):\n",
        "        score = 206.835-1.015*(self.n_word/self.n_sent) - 84.6*(self.n_syll/self.n_word)\n",
        "        return score\n",
        "\n",
        "    def gf_score(self, text):\n",
        "        score = 0.4*((self.n_word/self.n_sent)+ 100*(self.n_word))\n",
        "        return score\n",
        "\n",
        "    def smog(self, text):\n",
        "        if self.n_sent > 30:\n",
        "            score = 1.0430*np.sqrt(self.n_syll*(30/self.n_sent))+3.1291\n",
        "            return score\n",
        "        else:\n",
        "            return print('total number of sentences are less than 30')"
      ]
    },
    {
      "cell_type": "code",
      "execution_count": 21,
      "id": "d1e9f770",
      "metadata": {
        "id": "d1e9f770",
        "outputId": "63242192-90cb-4bc1-da1f-c3d5fdbdc15f",
        "colab": {
          "base_uri": "https://localhost:8080/"
        }
      },
      "outputs": [
        {
          "output_type": "stream",
          "name": "stdout",
          "text": [
            "83.07700291724248\n",
            "33408.5641025641\n",
            "32.157785322254284\n"
          ]
        }
      ],
      "source": [
        "analyzer = readability()\n",
        "print(analyzer.fr_score(text))\n",
        "print(analyzer.gf_score(text))\n",
        "print(analyzer.smog(text))"
      ]
    },
    {
      "cell_type": "markdown",
      "id": "776af2b1",
      "metadata": {
        "id": "776af2b1"
      },
      "source": [
        "## 4. Computational Linguistic Features (Coh-Metrix)\n",
        "> More information about Coh-metrix is available at:"
      ]
    },
    {
      "cell_type": "code",
      "execution_count": null,
      "id": "bd8fc663",
      "metadata": {
        "id": "bd8fc663",
        "outputId": "236fde24-9516-46f9-84e3-3a774dcbc54b"
      },
      "outputs": [
        {
          "data": {
            "text/html": [
              "<div>\n",
              "<style scoped>\n",
              "    .dataframe tbody tr th:only-of-type {\n",
              "        vertical-align: middle;\n",
              "    }\n",
              "\n",
              "    .dataframe tbody tr th {\n",
              "        vertical-align: top;\n",
              "    }\n",
              "\n",
              "    .dataframe thead th {\n",
              "        text-align: right;\n",
              "    }\n",
              "</style>\n",
              "<table border=\"1\" class=\"dataframe\">\n",
              "  <thead>\n",
              "    <tr style=\"text-align: right;\">\n",
              "      <th></th>\n",
              "      <th>TextID</th>\n",
              "      <th>domain1_score</th>\n",
              "      <th>domain2_score</th>\n",
              "      <th>essay_id</th>\n",
              "      <th>essay_set</th>\n",
              "      <th>DESPC</th>\n",
              "      <th>DESSC</th>\n",
              "      <th>DESWC</th>\n",
              "      <th>DESPL</th>\n",
              "      <th>DESPLd</th>\n",
              "      <th>...</th>\n",
              "      <th>WRDCNCc</th>\n",
              "      <th>WRDIMGc</th>\n",
              "      <th>WRDMEAc</th>\n",
              "      <th>WRDPOLc</th>\n",
              "      <th>WRDHYPn</th>\n",
              "      <th>WRDHYPv</th>\n",
              "      <th>WRDHYPnv</th>\n",
              "      <th>RDFRE</th>\n",
              "      <th>RDFKGL</th>\n",
              "      <th>RDL2</th>\n",
              "    </tr>\n",
              "  </thead>\n",
              "  <tbody>\n",
              "    <tr>\n",
              "      <th>12255</th>\n",
              "      <td>C:\\Users\\minerva\\Dropbox (LAC)\\Coh-Metrix Cons...</td>\n",
              "      <td>34.0</td>\n",
              "      <td>NaN</td>\n",
              "      <td>20716</td>\n",
              "      <td>8</td>\n",
              "      <td>1</td>\n",
              "      <td>38</td>\n",
              "      <td>707</td>\n",
              "      <td>38</td>\n",
              "      <td>0</td>\n",
              "      <td>...</td>\n",
              "      <td>377.657013</td>\n",
              "      <td>423.114990</td>\n",
              "      <td>442.428986</td>\n",
              "      <td>4.543</td>\n",
              "      <td>5.187</td>\n",
              "      <td>1.755</td>\n",
              "      <td>1.299</td>\n",
              "      <td>87.954002</td>\n",
              "      <td>5.614</td>\n",
              "      <td>29.268999</td>\n",
              "    </tr>\n",
              "    <tr>\n",
              "      <th>12256</th>\n",
              "      <td>C:\\Users\\minerva\\Dropbox (LAC)\\Coh-Metrix Cons...</td>\n",
              "      <td>46.0</td>\n",
              "      <td>NaN</td>\n",
              "      <td>20717</td>\n",
              "      <td>8</td>\n",
              "      <td>1</td>\n",
              "      <td>30</td>\n",
              "      <td>785</td>\n",
              "      <td>30</td>\n",
              "      <td>0</td>\n",
              "      <td>...</td>\n",
              "      <td>361.216003</td>\n",
              "      <td>401.337006</td>\n",
              "      <td>425.963989</td>\n",
              "      <td>5.203</td>\n",
              "      <td>6.755</td>\n",
              "      <td>1.574</td>\n",
              "      <td>1.435</td>\n",
              "      <td>74.441002</td>\n",
              "      <td>9.377</td>\n",
              "      <td>26.313000</td>\n",
              "    </tr>\n",
              "    <tr>\n",
              "      <th>12257</th>\n",
              "      <td>C:\\Users\\minerva\\Dropbox (LAC)\\Coh-Metrix Cons...</td>\n",
              "      <td>40.0</td>\n",
              "      <td>NaN</td>\n",
              "      <td>20718</td>\n",
              "      <td>8</td>\n",
              "      <td>1</td>\n",
              "      <td>39</td>\n",
              "      <td>861</td>\n",
              "      <td>39</td>\n",
              "      <td>0</td>\n",
              "      <td>...</td>\n",
              "      <td>362.916992</td>\n",
              "      <td>402.194000</td>\n",
              "      <td>439.717011</td>\n",
              "      <td>4.861</td>\n",
              "      <td>6.612</td>\n",
              "      <td>1.485</td>\n",
              "      <td>1.452</td>\n",
              "      <td>72.500999</td>\n",
              "      <td>8.631</td>\n",
              "      <td>25.375999</td>\n",
              "    </tr>\n",
              "    <tr>\n",
              "      <th>12258</th>\n",
              "      <td>C:\\Users\\minerva\\Dropbox (LAC)\\Coh-Metrix Cons...</td>\n",
              "      <td>30.0</td>\n",
              "      <td>NaN</td>\n",
              "      <td>20719</td>\n",
              "      <td>8</td>\n",
              "      <td>1</td>\n",
              "      <td>27</td>\n",
              "      <td>708</td>\n",
              "      <td>27</td>\n",
              "      <td>0</td>\n",
              "      <td>...</td>\n",
              "      <td>362.027008</td>\n",
              "      <td>399.296997</td>\n",
              "      <td>417.182007</td>\n",
              "      <td>4.867</td>\n",
              "      <td>6.189</td>\n",
              "      <td>1.668</td>\n",
              "      <td>1.439</td>\n",
              "      <td>78.023003</td>\n",
              "      <td>8.891</td>\n",
              "      <td>24.730000</td>\n",
              "    </tr>\n",
              "  </tbody>\n",
              "</table>\n",
              "<p>4 rows × 113 columns</p>\n",
              "</div>"
            ],
            "text/plain": [
              "                                                  TextID  domain1_score  \\\n",
              "12255  C:\\Users\\minerva\\Dropbox (LAC)\\Coh-Metrix Cons...           34.0   \n",
              "12256  C:\\Users\\minerva\\Dropbox (LAC)\\Coh-Metrix Cons...           46.0   \n",
              "12257  C:\\Users\\minerva\\Dropbox (LAC)\\Coh-Metrix Cons...           40.0   \n",
              "12258  C:\\Users\\minerva\\Dropbox (LAC)\\Coh-Metrix Cons...           30.0   \n",
              "\n",
              "       domain2_score  essay_id  essay_set  DESPC  DESSC  DESWC  DESPL  DESPLd  \\\n",
              "12255            NaN     20716          8      1     38    707     38       0   \n",
              "12256            NaN     20717          8      1     30    785     30       0   \n",
              "12257            NaN     20718          8      1     39    861     39       0   \n",
              "12258            NaN     20719          8      1     27    708     27       0   \n",
              "\n",
              "       ...     WRDCNCc     WRDIMGc     WRDMEAc  WRDPOLc  WRDHYPn  WRDHYPv  \\\n",
              "12255  ...  377.657013  423.114990  442.428986    4.543    5.187    1.755   \n",
              "12256  ...  361.216003  401.337006  425.963989    5.203    6.755    1.574   \n",
              "12257  ...  362.916992  402.194000  439.717011    4.861    6.612    1.485   \n",
              "12258  ...  362.027008  399.296997  417.182007    4.867    6.189    1.668   \n",
              "\n",
              "       WRDHYPnv      RDFRE  RDFKGL       RDL2  \n",
              "12255     1.299  87.954002   5.614  29.268999  \n",
              "12256     1.435  74.441002   9.377  26.313000  \n",
              "12257     1.452  72.500999   8.631  25.375999  \n",
              "12258     1.439  78.023003   8.891  24.730000  \n",
              "\n",
              "[4 rows x 113 columns]"
            ]
          },
          "execution_count": 52,
          "metadata": {},
          "output_type": "execute_result"
        }
      ],
      "source": [
        "def coh_metrix():\n",
        "    features = pd.read_excel('features.xlsx')\n",
        "    features = features[features.essay_set ==8]\n",
        "\n",
        "    #descriptive indices\n",
        "    DI = features[['DESPC', 'DESSC', 'DESWC', 'DESPL', 'DESPLd', 'DESSL',\n",
        "               'DESSLd', 'DESWLsy', 'DESWLsyd', 'DESWLlt', 'DESWLltd']]\n",
        "    # various types of computational linguistic resources introduced as well :)\n",
        ""
      ]
    },
    {
      "cell_type": "markdown",
      "source": [
        "# 4. LFTK: Handcrafted Features in Computational Linguistics\n",
        "\n",
        "More information about LFTK is available at: https://github.com/brucewlee/lftk"
      ],
      "metadata": {
        "id": "FMliUEwLTbIU"
      },
      "id": "FMliUEwLTbIU"
    },
    {
      "cell_type": "code",
      "source": [
        "!pip install lftk\n",
        "\n",
        "!pip install spacy\n",
        "\n",
        "!python -m spacy download en_core_web_sm"
      ],
      "metadata": {
        "id": "huuChB7oTvhT"
      },
      "id": "huuChB7oTvhT",
      "execution_count": null,
      "outputs": []
    },
    {
      "cell_type": "code",
      "source": [
        "import spacy\n",
        "import lftk\n",
        "\n",
        "# load a trained pipeline of your choice from spacy\n",
        "# remember we already downloaed \"en_core_web_sm\" pipeline above?\n",
        "nlp = spacy.load(\"en_core_web_sm\")\n",
        "\n",
        "# create a spaCy doc object\n",
        "doc = nlp(\"I love research but my professor is strange.\")\n",
        "\n",
        "# initiate LFTK extractor by passing in doc\n",
        "# you can pass in a list of multiple docs\n",
        "LFTK = lftk.Extractor(docs = doc)\n",
        "\n",
        "# optionally, you can customize how LFTK extractor calculates handcrafted linguistic features\n",
        "# for example, include stop word? include puncutaion? maximum decimal digits?\n",
        "LFTK.customize(stop_words=True, punctuations=False, round_decimal=3)\n",
        "\n",
        "# now, extract the handcrafted linguistic features that you need\n",
        "# refer to them as feature keys\n",
        "\n",
        "## Database of all LFTK features available\n",
        "## https://docs.google.com/spreadsheets/d/1uXtQ1ah0OL9cmHp2Hey0QcHb4bifJcQFLvYlVIAWWwQ/edit#gid=693915416\n",
        "\n",
        "extracted_features = LFTK.extract(features = [\"a_word_ps\", \"a_kup_pw\", \"n_noun\"])\n",
        "\n",
        "# {'a_word_ps': 8.0, 'a_kup_pw': 5.754, 'n_noun': 2}\n",
        "print(extracted_features)"
      ],
      "metadata": {
        "id": "y6MnUCybTNtz",
        "outputId": "4a52f823-412e-4878-a89e-ac439a8d2a87",
        "colab": {
          "base_uri": "https://localhost:8080/"
        }
      },
      "id": "y6MnUCybTNtz",
      "execution_count": 23,
      "outputs": [
        {
          "output_type": "stream",
          "name": "stdout",
          "text": [
            "{'a_word_ps': 8.0, 'a_kup_pw': 5.754, 'n_noun': 2}\n"
          ]
        }
      ]
    },
    {
      "cell_type": "code",
      "source": [
        "lftk.search_features(family = \"worddiff\")"
      ],
      "metadata": {
        "id": "DHsKE46hWo5D",
        "outputId": "facd5397-6952-4ad3-f2d6-48d208dfbc19",
        "colab": {
          "base_uri": "https://localhost:8080/"
        }
      },
      "id": "DHsKE46hWo5D",
      "execution_count": 27,
      "outputs": [
        {
          "output_type": "execute_result",
          "data": {
            "text/plain": [
              "[{'key': 't_kup',\n",
              "  'name': 'total_kuperman_age_of_acquistion_of_words',\n",
              "  'formulation': 'foundation',\n",
              "  'domain': 'lexico-semantics',\n",
              "  'family': 'worddiff',\n",
              "  'language': 'en'},\n",
              " {'key': 't_bry',\n",
              "  'name': 'total_brysbaert_age_of_acquistion_of_words',\n",
              "  'formulation': 'foundation',\n",
              "  'domain': 'lexico-semantics',\n",
              "  'family': 'worddiff',\n",
              "  'language': 'en'},\n",
              " {'key': 't_subtlex_us_zipf',\n",
              "  'name': 'total_subtlex_us_zipf_of_words',\n",
              "  'formulation': 'foundation',\n",
              "  'domain': 'lexico-semantics',\n",
              "  'family': 'worddiff',\n",
              "  'language': 'en'}]"
            ]
          },
          "metadata": {},
          "execution_count": 27
        }
      ]
    },
    {
      "cell_type": "code",
      "source": [
        "#data[\"rater1_domain1\"]\n",
        "samp_essays[\"rater1_domain1\"]"
      ],
      "metadata": {
        "id": "Pf8agbJMilIQ",
        "outputId": "1f5f46f7-f96d-4a2c-ea15-170d36ada7c4",
        "colab": {
          "base_uri": "https://localhost:8080/"
        }
      },
      "id": "Pf8agbJMilIQ",
      "execution_count": 49,
      "outputs": [
        {
          "output_type": "execute_result",
          "data": {
            "text/plain": [
              "12427    13.0\n",
              "12498    20.0\n",
              "12275    20.0\n",
              "12600    17.0\n",
              "12942    20.0\n",
              "12632    18.0\n",
              "12565    16.0\n",
              "12466    16.0\n",
              "12516    20.0\n",
              "12774    20.0\n",
              "Name: rater1_domain1, dtype: float64"
            ]
          },
          "metadata": {},
          "execution_count": 49
        }
      ]
    },
    {
      "cell_type": "code",
      "source": [
        "############################ MINI TASK ###################################\n",
        "\n",
        "#1. Randomly sample 10 response from out dataset (only the raw responses)\n",
        "\n",
        "samp_essays = data.sample(10).values\n",
        "\n",
        "## sample.values doesn't keep column names, so we need column index locations\n",
        "essay_index = data.columns.get_loc(\"essay\")\n",
        "score_index = data.columns.get_loc(\"rater1_domain1\")\n",
        "\n",
        "#2. Apply the LTFK functions to extract word difficulty related features\n",
        "\n",
        "results = []\n",
        "\n",
        "for i in samp_essays:\n",
        "\n",
        "  samp = i[essay_index]\n",
        "  samp_score = i[score_index]\n",
        "\n",
        "  ## Have to feed raw string responses into nlp() function first\n",
        "  ## nlp = spacy.load(\"en_core_web_sm\") ABOVE\n",
        "  sample = nlp(str(samp))\n",
        "  LFTK_Extract = lftk.Extractor(docs = sample)\n",
        "  features = LFTK_Extract.extract(features = [\"t_kup\", \"t_bry\", \"t_subtlex_us_zipf\"])\n",
        "\n",
        "  t_kup = features[\"t_kup\"]\n",
        "  t_bry = features[\"t_bry\"]\n",
        "  t_sub = features[\"t_subtlex_us_zipf\"]\n",
        "\n",
        "  samp_result = [samp, samp_score, t_kup, t_bry, t_sub]\n",
        "\n",
        "  results.append(samp_result)\n",
        "\n",
        "##########################################################################"
      ],
      "metadata": {
        "id": "ALdaYH8ITR6g"
      },
      "id": "ALdaYH8ITR6g",
      "execution_count": 70,
      "outputs": []
    },
    {
      "cell_type": "code",
      "source": [
        "#3. [ADVANCED] Identify the features that are most highly associated with the essay score\n",
        "results = pd.DataFrame(results)\n",
        "\n",
        "print(results)\n",
        "\n",
        "results.corr()"
      ],
      "metadata": {
        "id": "xU0OMbM7TWQT",
        "outputId": "3bc2efbf-c4a4-4106-b186-863d3247a45f",
        "colab": {
          "base_uri": "https://localhost:8080/",
          "height": 618
        }
      },
      "id": "xU0OMbM7TWQT",
      "execution_count": 72,
      "outputs": [
        {
          "output_type": "stream",
          "name": "stdout",
          "text": [
            "                                                   0     1        2         3  \\\n",
            "0   Softball has to be one of the single most gre...  21.0  3498.10  3139.936   \n",
            "1  Friends are'nt always what we want them to be ...  19.0  2949.26  2554.374   \n",
            "2   Someone once said laughter was the best medic...  15.0  3496.68  3073.133   \n",
            "3   It was a day like any other. I was going to c...  20.0  3222.68  3001.552   \n",
            "4                              Whats Laughter!How...  12.0  2800.93  2453.396   \n",
            "5   Laughter is an essential component to any rel...  20.0  2803.35  2326.045   \n",
            "6     Laughter \"Laughter is the shortest distance...  13.0  1272.56  1070.001   \n",
            "7     I was late like usual for the bus; barley h...  20.0  3559.80  3183.977   \n",
            "8  Have you ever seen the phrase @CAPS1,@CAPS2,La...  15.0  2400.89  2181.310   \n",
            "9  A true story about how two close friends becam...  15.0  3084.81  2798.301   \n",
            "\n",
            "          4  \n",
            "0  4246.797  \n",
            "1  3825.348  \n",
            "2  4568.240  \n",
            "3  4045.915  \n",
            "4  3716.982  \n",
            "5  3230.890  \n",
            "6  1710.804  \n",
            "7  4344.335  \n",
            "8  3173.275  \n",
            "9  4226.026  \n"
          ]
        },
        {
          "output_type": "stream",
          "name": "stderr",
          "text": [
            "<ipython-input-72-231cba7ef0fc>:6: FutureWarning: The default value of numeric_only in DataFrame.corr is deprecated. In a future version, it will default to False. Select only valid columns or specify the value of numeric_only to silence this warning.\n",
            "  results.corr()\n"
          ]
        },
        {
          "output_type": "execute_result",
          "data": {
            "text/plain": [
              "          1         2         3         4\n",
              "1  1.000000  0.565082  0.550965  0.402827\n",
              "2  0.565082  1.000000  0.992160  0.974221\n",
              "3  0.550965  0.992160  1.000000  0.977656\n",
              "4  0.402827  0.974221  0.977656  1.000000"
            ],
            "text/html": [
              "\n",
              "  <div id=\"df-79f12676-0163-4516-bcae-9cc718f4cfb3\" class=\"colab-df-container\">\n",
              "    <div>\n",
              "<style scoped>\n",
              "    .dataframe tbody tr th:only-of-type {\n",
              "        vertical-align: middle;\n",
              "    }\n",
              "\n",
              "    .dataframe tbody tr th {\n",
              "        vertical-align: top;\n",
              "    }\n",
              "\n",
              "    .dataframe thead th {\n",
              "        text-align: right;\n",
              "    }\n",
              "</style>\n",
              "<table border=\"1\" class=\"dataframe\">\n",
              "  <thead>\n",
              "    <tr style=\"text-align: right;\">\n",
              "      <th></th>\n",
              "      <th>1</th>\n",
              "      <th>2</th>\n",
              "      <th>3</th>\n",
              "      <th>4</th>\n",
              "    </tr>\n",
              "  </thead>\n",
              "  <tbody>\n",
              "    <tr>\n",
              "      <th>1</th>\n",
              "      <td>1.000000</td>\n",
              "      <td>0.565082</td>\n",
              "      <td>0.550965</td>\n",
              "      <td>0.402827</td>\n",
              "    </tr>\n",
              "    <tr>\n",
              "      <th>2</th>\n",
              "      <td>0.565082</td>\n",
              "      <td>1.000000</td>\n",
              "      <td>0.992160</td>\n",
              "      <td>0.974221</td>\n",
              "    </tr>\n",
              "    <tr>\n",
              "      <th>3</th>\n",
              "      <td>0.550965</td>\n",
              "      <td>0.992160</td>\n",
              "      <td>1.000000</td>\n",
              "      <td>0.977656</td>\n",
              "    </tr>\n",
              "    <tr>\n",
              "      <th>4</th>\n",
              "      <td>0.402827</td>\n",
              "      <td>0.974221</td>\n",
              "      <td>0.977656</td>\n",
              "      <td>1.000000</td>\n",
              "    </tr>\n",
              "  </tbody>\n",
              "</table>\n",
              "</div>\n",
              "    <div class=\"colab-df-buttons\">\n",
              "\n",
              "  <div class=\"colab-df-container\">\n",
              "    <button class=\"colab-df-convert\" onclick=\"convertToInteractive('df-79f12676-0163-4516-bcae-9cc718f4cfb3')\"\n",
              "            title=\"Convert this dataframe to an interactive table.\"\n",
              "            style=\"display:none;\">\n",
              "\n",
              "  <svg xmlns=\"http://www.w3.org/2000/svg\" height=\"24px\" viewBox=\"0 -960 960 960\">\n",
              "    <path d=\"M120-120v-720h720v720H120Zm60-500h600v-160H180v160Zm220 220h160v-160H400v160Zm0 220h160v-160H400v160ZM180-400h160v-160H180v160Zm440 0h160v-160H620v160ZM180-180h160v-160H180v160Zm440 0h160v-160H620v160Z\"/>\n",
              "  </svg>\n",
              "    </button>\n",
              "\n",
              "  <style>\n",
              "    .colab-df-container {\n",
              "      display:flex;\n",
              "      gap: 12px;\n",
              "    }\n",
              "\n",
              "    .colab-df-convert {\n",
              "      background-color: #E8F0FE;\n",
              "      border: none;\n",
              "      border-radius: 50%;\n",
              "      cursor: pointer;\n",
              "      display: none;\n",
              "      fill: #1967D2;\n",
              "      height: 32px;\n",
              "      padding: 0 0 0 0;\n",
              "      width: 32px;\n",
              "    }\n",
              "\n",
              "    .colab-df-convert:hover {\n",
              "      background-color: #E2EBFA;\n",
              "      box-shadow: 0px 1px 2px rgba(60, 64, 67, 0.3), 0px 1px 3px 1px rgba(60, 64, 67, 0.15);\n",
              "      fill: #174EA6;\n",
              "    }\n",
              "\n",
              "    .colab-df-buttons div {\n",
              "      margin-bottom: 4px;\n",
              "    }\n",
              "\n",
              "    [theme=dark] .colab-df-convert {\n",
              "      background-color: #3B4455;\n",
              "      fill: #D2E3FC;\n",
              "    }\n",
              "\n",
              "    [theme=dark] .colab-df-convert:hover {\n",
              "      background-color: #434B5C;\n",
              "      box-shadow: 0px 1px 3px 1px rgba(0, 0, 0, 0.15);\n",
              "      filter: drop-shadow(0px 1px 2px rgba(0, 0, 0, 0.3));\n",
              "      fill: #FFFFFF;\n",
              "    }\n",
              "  </style>\n",
              "\n",
              "    <script>\n",
              "      const buttonEl =\n",
              "        document.querySelector('#df-79f12676-0163-4516-bcae-9cc718f4cfb3 button.colab-df-convert');\n",
              "      buttonEl.style.display =\n",
              "        google.colab.kernel.accessAllowed ? 'block' : 'none';\n",
              "\n",
              "      async function convertToInteractive(key) {\n",
              "        const element = document.querySelector('#df-79f12676-0163-4516-bcae-9cc718f4cfb3');\n",
              "        const dataTable =\n",
              "          await google.colab.kernel.invokeFunction('convertToInteractive',\n",
              "                                                    [key], {});\n",
              "        if (!dataTable) return;\n",
              "\n",
              "        const docLinkHtml = 'Like what you see? Visit the ' +\n",
              "          '<a target=\"_blank\" href=https://colab.research.google.com/notebooks/data_table.ipynb>data table notebook</a>'\n",
              "          + ' to learn more about interactive tables.';\n",
              "        element.innerHTML = '';\n",
              "        dataTable['output_type'] = 'display_data';\n",
              "        await google.colab.output.renderOutput(dataTable, element);\n",
              "        const docLink = document.createElement('div');\n",
              "        docLink.innerHTML = docLinkHtml;\n",
              "        element.appendChild(docLink);\n",
              "      }\n",
              "    </script>\n",
              "  </div>\n",
              "\n",
              "\n",
              "<div id=\"df-fe2ada3a-7ef4-46d8-a8e1-6942efa40be1\">\n",
              "  <button class=\"colab-df-quickchart\" onclick=\"quickchart('df-fe2ada3a-7ef4-46d8-a8e1-6942efa40be1')\"\n",
              "            title=\"Suggest charts.\"\n",
              "            style=\"display:none;\">\n",
              "\n",
              "<svg xmlns=\"http://www.w3.org/2000/svg\" height=\"24px\"viewBox=\"0 0 24 24\"\n",
              "     width=\"24px\">\n",
              "    <g>\n",
              "        <path d=\"M19 3H5c-1.1 0-2 .9-2 2v14c0 1.1.9 2 2 2h14c1.1 0 2-.9 2-2V5c0-1.1-.9-2-2-2zM9 17H7v-7h2v7zm4 0h-2V7h2v10zm4 0h-2v-4h2v4z\"/>\n",
              "    </g>\n",
              "</svg>\n",
              "  </button>\n",
              "\n",
              "<style>\n",
              "  .colab-df-quickchart {\n",
              "      --bg-color: #E8F0FE;\n",
              "      --fill-color: #1967D2;\n",
              "      --hover-bg-color: #E2EBFA;\n",
              "      --hover-fill-color: #174EA6;\n",
              "      --disabled-fill-color: #AAA;\n",
              "      --disabled-bg-color: #DDD;\n",
              "  }\n",
              "\n",
              "  [theme=dark] .colab-df-quickchart {\n",
              "      --bg-color: #3B4455;\n",
              "      --fill-color: #D2E3FC;\n",
              "      --hover-bg-color: #434B5C;\n",
              "      --hover-fill-color: #FFFFFF;\n",
              "      --disabled-bg-color: #3B4455;\n",
              "      --disabled-fill-color: #666;\n",
              "  }\n",
              "\n",
              "  .colab-df-quickchart {\n",
              "    background-color: var(--bg-color);\n",
              "    border: none;\n",
              "    border-radius: 50%;\n",
              "    cursor: pointer;\n",
              "    display: none;\n",
              "    fill: var(--fill-color);\n",
              "    height: 32px;\n",
              "    padding: 0;\n",
              "    width: 32px;\n",
              "  }\n",
              "\n",
              "  .colab-df-quickchart:hover {\n",
              "    background-color: var(--hover-bg-color);\n",
              "    box-shadow: 0 1px 2px rgba(60, 64, 67, 0.3), 0 1px 3px 1px rgba(60, 64, 67, 0.15);\n",
              "    fill: var(--button-hover-fill-color);\n",
              "  }\n",
              "\n",
              "  .colab-df-quickchart-complete:disabled,\n",
              "  .colab-df-quickchart-complete:disabled:hover {\n",
              "    background-color: var(--disabled-bg-color);\n",
              "    fill: var(--disabled-fill-color);\n",
              "    box-shadow: none;\n",
              "  }\n",
              "\n",
              "  .colab-df-spinner {\n",
              "    border: 2px solid var(--fill-color);\n",
              "    border-color: transparent;\n",
              "    border-bottom-color: var(--fill-color);\n",
              "    animation:\n",
              "      spin 1s steps(1) infinite;\n",
              "  }\n",
              "\n",
              "  @keyframes spin {\n",
              "    0% {\n",
              "      border-color: transparent;\n",
              "      border-bottom-color: var(--fill-color);\n",
              "      border-left-color: var(--fill-color);\n",
              "    }\n",
              "    20% {\n",
              "      border-color: transparent;\n",
              "      border-left-color: var(--fill-color);\n",
              "      border-top-color: var(--fill-color);\n",
              "    }\n",
              "    30% {\n",
              "      border-color: transparent;\n",
              "      border-left-color: var(--fill-color);\n",
              "      border-top-color: var(--fill-color);\n",
              "      border-right-color: var(--fill-color);\n",
              "    }\n",
              "    40% {\n",
              "      border-color: transparent;\n",
              "      border-right-color: var(--fill-color);\n",
              "      border-top-color: var(--fill-color);\n",
              "    }\n",
              "    60% {\n",
              "      border-color: transparent;\n",
              "      border-right-color: var(--fill-color);\n",
              "    }\n",
              "    80% {\n",
              "      border-color: transparent;\n",
              "      border-right-color: var(--fill-color);\n",
              "      border-bottom-color: var(--fill-color);\n",
              "    }\n",
              "    90% {\n",
              "      border-color: transparent;\n",
              "      border-bottom-color: var(--fill-color);\n",
              "    }\n",
              "  }\n",
              "</style>\n",
              "\n",
              "  <script>\n",
              "    async function quickchart(key) {\n",
              "      const quickchartButtonEl =\n",
              "        document.querySelector('#' + key + ' button');\n",
              "      quickchartButtonEl.disabled = true;  // To prevent multiple clicks.\n",
              "      quickchartButtonEl.classList.add('colab-df-spinner');\n",
              "      try {\n",
              "        const charts = await google.colab.kernel.invokeFunction(\n",
              "            'suggestCharts', [key], {});\n",
              "      } catch (error) {\n",
              "        console.error('Error during call to suggestCharts:', error);\n",
              "      }\n",
              "      quickchartButtonEl.classList.remove('colab-df-spinner');\n",
              "      quickchartButtonEl.classList.add('colab-df-quickchart-complete');\n",
              "    }\n",
              "    (() => {\n",
              "      let quickchartButtonEl =\n",
              "        document.querySelector('#df-fe2ada3a-7ef4-46d8-a8e1-6942efa40be1 button');\n",
              "      quickchartButtonEl.style.display =\n",
              "        google.colab.kernel.accessAllowed ? 'block' : 'none';\n",
              "    })();\n",
              "  </script>\n",
              "</div>\n",
              "    </div>\n",
              "  </div>\n"
            ]
          },
          "metadata": {},
          "execution_count": 72
        }
      ]
    }
  ],
  "metadata": {
    "kernelspec": {
      "display_name": "Python 3 (ipykernel)",
      "language": "python",
      "name": "python3"
    },
    "language_info": {
      "codemirror_mode": {
        "name": "ipython",
        "version": 3
      },
      "file_extension": ".py",
      "mimetype": "text/x-python",
      "name": "python",
      "nbconvert_exporter": "python",
      "pygments_lexer": "ipython3",
      "version": "3.9.7"
    },
    "colab": {
      "provenance": []
    }
  },
  "nbformat": 4,
  "nbformat_minor": 5
}