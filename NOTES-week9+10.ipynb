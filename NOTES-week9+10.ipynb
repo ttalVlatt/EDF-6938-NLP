{
  "cells": [
    {
      "cell_type": "markdown",
      "id": "530144c4",
      "metadata": {
        "id": "530144c4"
      },
      "source": [
        "<h1><center>  lab 9 : Text Classification </center>\n",
        "    \n",
        "<img src=\"https://miro.medium.com/max/1200/0*kHsYtU2d9IgyFwet.jpg\" width=\"500\">\n"
      ]
    },
    {
      "cell_type": "markdown",
      "id": "c3c7066e",
      "metadata": {
        "id": "c3c7066e"
      },
      "source": [
        "```Created by Jinnie Shin (jinnie.shin@coe.ufl.edu)```\\\n",
        "\n",
        "<img src=\"https://encrypted-tbn0.gstatic.com/images?q=tbn:ANd9GcQmNf86oJnfhpkPA9LnrFnAbfwF2VywPYpB_w&usqp=CAU\" align=\"left\" width=\"70\" height=\"70\" align=\"left\">\n",
        "\n",
        " ### Required Packages or Dependencies"
      ]
    },
    {
      "cell_type": "code",
      "execution_count": 2,
      "id": "02eac3c7",
      "metadata": {
        "id": "02eac3c7"
      },
      "outputs": [],
      "source": [
        "#!pip install { } ! in case you run into the `package not avaialble` error\n",
        "import pandas as pd\n",
        "import numpy as np"
      ]
    },
    {
      "cell_type": "markdown",
      "id": "e37dfed1",
      "metadata": {
        "id": "e37dfed1"
      },
      "source": [
        "\n",
        "## Dataset\n",
        "#### Essay Set 10\n",
        "---\n",
        "`Prompt`: \\\n",
        "Brandi and Jerry were designing a doghouse. Brandi and Jerry did the following controlled experiment to find out how the color of an object affects its temperature. Use the results from the experiment to describe the best paint color for the doghouse.\n",
        "In your description, be sure to:\\\n",
        "•\tChoose a paint color. \\\n",
        "•\tDescribe how that color might affect the inside of the doghouse. \\\n",
        "•\tUse results from the experiment to support your description.\n",
        "\n",
        "\n",
        "> `1. Question`: What is the effect of different lid colors on the air temperature inside a glass jar exposed to a lamp? \\\n",
        "> `2. Hypothesis`: The darker the lid color, the greater the increase in air temperature in the glass jar, as darker colors absorb more energy. \\\n",
        "> `3. Materials`:\n",
        "glass jar, lamp, four colored lids: {black, dark gray, light gray, and white}, thermometer, meterstick, stopwatch\\\n",
        "> `4. Procedures`:\n",
        ">> 1.\tPut the black lid with the attached thermometer on the glass jar.\n",
        ">> 2.\tMake sure the starting temperature inside the jar is 24° C.\n",
        ">> 3.\tPlace lamp 5 centimeters away from the lid and turn on the lamp.\n",
        ">> 4.\tAfter 10 minutes measure the air temperature inside the glass jar and record as Trial 1.\n",
        ">> 5.\tTurn off lamp and wait until the air in the jar returns to the starting temperature.\n",
        ">> 6.\tRepeat steps 2 through 5 for Trials 2 and 3.\n",
        ">> 7.\tRepeat steps 1 through 6 for the dark gray, light gray, and white lids.\n",
        ">> 8.\tCalculate and record the average air temperature for each lid color.\n",
        "\n",
        "> `5. Results`: Lid Colour vs. Air Temperature (Insides Glass Jar After 10 mins (°C)\n",
        "\n",
        "| Lid Colour |   Trial 1|  Trial 1|   Trial 3| Average|\n",
        "|------------|----------|----------|----------|----------|\n",
        "| Black      | `54°C`   |`52°C`   |`54°C`   |`53°C`   |\n",
        "| Dark gray  | `48°C`   | `48°C`   |`48°C`   | `48°C`   |\n",
        "| Light gray | `44°C`   |`44°C`   |`46°C`   |`45°C`   |\n",
        "| White      | `42°C`   | `43°C`   |`41°C`   | `42°C`   |\n",
        "\n",
        "---\n",
        "#### Essay Set 10 Data Description\n",
        "\n",
        "| Type of response            | Source dependent response |\n",
        "|-----------------------------|---------------------------|\n",
        "| Grade level                 | `8`                       |\n",
        "| Subject                     | `Science`                   |\n",
        "| Total sample size           | `1,640`                     |\n",
        "| Average length of responses | `60 words`                  |\n",
        "| Score range                 | `0-2`                       |\n",
        "\n",
        "\n"
      ]
    },
    {
      "cell_type": "code",
      "execution_count": 3,
      "id": "f03eea15",
      "metadata": {
        "id": "f03eea15",
        "outputId": "a3d408f0-5456-456a-c4cf-bab0e6e9bcae",
        "colab": {
          "base_uri": "https://localhost:8080/",
          "height": 204
        }
      },
      "outputs": [
        {
          "output_type": "execute_result",
          "data": {
            "text/plain": [
              "          Id  EssaySet  Score1  Score2  \\\n",
              "15403  25949        10       2       2   \n",
              "15404  25950        10       1       1   \n",
              "15405  25951        10       2       2   \n",
              "15406  25952        10       1       1   \n",
              "15407  25953        10       2       2   \n",
              "\n",
              "                                               EssayText  \n",
              "15403  black :: black might affect the dog house beca...  \n",
              "15404  white :: White because you wouldn't want the d...  \n",
              "15405  white :: the color white will reflect the suns...  \n",
              "15406  white :: this color will keep the dog house co...  \n",
              "15407  white :: I would use a light color like White ...  "
            ],
            "text/html": [
              "\n",
              "  <div id=\"df-aeb2e669-87e4-4719-9782-85acec698669\" class=\"colab-df-container\">\n",
              "    <div>\n",
              "<style scoped>\n",
              "    .dataframe tbody tr th:only-of-type {\n",
              "        vertical-align: middle;\n",
              "    }\n",
              "\n",
              "    .dataframe tbody tr th {\n",
              "        vertical-align: top;\n",
              "    }\n",
              "\n",
              "    .dataframe thead th {\n",
              "        text-align: right;\n",
              "    }\n",
              "</style>\n",
              "<table border=\"1\" class=\"dataframe\">\n",
              "  <thead>\n",
              "    <tr style=\"text-align: right;\">\n",
              "      <th></th>\n",
              "      <th>Id</th>\n",
              "      <th>EssaySet</th>\n",
              "      <th>Score1</th>\n",
              "      <th>Score2</th>\n",
              "      <th>EssayText</th>\n",
              "    </tr>\n",
              "  </thead>\n",
              "  <tbody>\n",
              "    <tr>\n",
              "      <th>15403</th>\n",
              "      <td>25949</td>\n",
              "      <td>10</td>\n",
              "      <td>2</td>\n",
              "      <td>2</td>\n",
              "      <td>black :: black might affect the dog house beca...</td>\n",
              "    </tr>\n",
              "    <tr>\n",
              "      <th>15404</th>\n",
              "      <td>25950</td>\n",
              "      <td>10</td>\n",
              "      <td>1</td>\n",
              "      <td>1</td>\n",
              "      <td>white :: White because you wouldn't want the d...</td>\n",
              "    </tr>\n",
              "    <tr>\n",
              "      <th>15405</th>\n",
              "      <td>25951</td>\n",
              "      <td>10</td>\n",
              "      <td>2</td>\n",
              "      <td>2</td>\n",
              "      <td>white :: the color white will reflect the suns...</td>\n",
              "    </tr>\n",
              "    <tr>\n",
              "      <th>15406</th>\n",
              "      <td>25952</td>\n",
              "      <td>10</td>\n",
              "      <td>1</td>\n",
              "      <td>1</td>\n",
              "      <td>white :: this color will keep the dog house co...</td>\n",
              "    </tr>\n",
              "    <tr>\n",
              "      <th>15407</th>\n",
              "      <td>25953</td>\n",
              "      <td>10</td>\n",
              "      <td>2</td>\n",
              "      <td>2</td>\n",
              "      <td>white :: I would use a light color like White ...</td>\n",
              "    </tr>\n",
              "  </tbody>\n",
              "</table>\n",
              "</div>\n",
              "    <div class=\"colab-df-buttons\">\n",
              "\n",
              "  <div class=\"colab-df-container\">\n",
              "    <button class=\"colab-df-convert\" onclick=\"convertToInteractive('df-aeb2e669-87e4-4719-9782-85acec698669')\"\n",
              "            title=\"Convert this dataframe to an interactive table.\"\n",
              "            style=\"display:none;\">\n",
              "\n",
              "  <svg xmlns=\"http://www.w3.org/2000/svg\" height=\"24px\" viewBox=\"0 -960 960 960\">\n",
              "    <path d=\"M120-120v-720h720v720H120Zm60-500h600v-160H180v160Zm220 220h160v-160H400v160Zm0 220h160v-160H400v160ZM180-400h160v-160H180v160Zm440 0h160v-160H620v160ZM180-180h160v-160H180v160Zm440 0h160v-160H620v160Z\"/>\n",
              "  </svg>\n",
              "    </button>\n",
              "\n",
              "  <style>\n",
              "    .colab-df-container {\n",
              "      display:flex;\n",
              "      gap: 12px;\n",
              "    }\n",
              "\n",
              "    .colab-df-convert {\n",
              "      background-color: #E8F0FE;\n",
              "      border: none;\n",
              "      border-radius: 50%;\n",
              "      cursor: pointer;\n",
              "      display: none;\n",
              "      fill: #1967D2;\n",
              "      height: 32px;\n",
              "      padding: 0 0 0 0;\n",
              "      width: 32px;\n",
              "    }\n",
              "\n",
              "    .colab-df-convert:hover {\n",
              "      background-color: #E2EBFA;\n",
              "      box-shadow: 0px 1px 2px rgba(60, 64, 67, 0.3), 0px 1px 3px 1px rgba(60, 64, 67, 0.15);\n",
              "      fill: #174EA6;\n",
              "    }\n",
              "\n",
              "    .colab-df-buttons div {\n",
              "      margin-bottom: 4px;\n",
              "    }\n",
              "\n",
              "    [theme=dark] .colab-df-convert {\n",
              "      background-color: #3B4455;\n",
              "      fill: #D2E3FC;\n",
              "    }\n",
              "\n",
              "    [theme=dark] .colab-df-convert:hover {\n",
              "      background-color: #434B5C;\n",
              "      box-shadow: 0px 1px 3px 1px rgba(0, 0, 0, 0.15);\n",
              "      filter: drop-shadow(0px 1px 2px rgba(0, 0, 0, 0.3));\n",
              "      fill: #FFFFFF;\n",
              "    }\n",
              "  </style>\n",
              "\n",
              "    <script>\n",
              "      const buttonEl =\n",
              "        document.querySelector('#df-aeb2e669-87e4-4719-9782-85acec698669 button.colab-df-convert');\n",
              "      buttonEl.style.display =\n",
              "        google.colab.kernel.accessAllowed ? 'block' : 'none';\n",
              "\n",
              "      async function convertToInteractive(key) {\n",
              "        const element = document.querySelector('#df-aeb2e669-87e4-4719-9782-85acec698669');\n",
              "        const dataTable =\n",
              "          await google.colab.kernel.invokeFunction('convertToInteractive',\n",
              "                                                    [key], {});\n",
              "        if (!dataTable) return;\n",
              "\n",
              "        const docLinkHtml = 'Like what you see? Visit the ' +\n",
              "          '<a target=\"_blank\" href=https://colab.research.google.com/notebooks/data_table.ipynb>data table notebook</a>'\n",
              "          + ' to learn more about interactive tables.';\n",
              "        element.innerHTML = '';\n",
              "        dataTable['output_type'] = 'display_data';\n",
              "        await google.colab.output.renderOutput(dataTable, element);\n",
              "        const docLink = document.createElement('div');\n",
              "        docLink.innerHTML = docLinkHtml;\n",
              "        element.appendChild(docLink);\n",
              "      }\n",
              "    </script>\n",
              "  </div>\n",
              "\n",
              "\n",
              "<div id=\"df-0524681a-1996-47b5-9cf1-542caea80239\">\n",
              "  <button class=\"colab-df-quickchart\" onclick=\"quickchart('df-0524681a-1996-47b5-9cf1-542caea80239')\"\n",
              "            title=\"Suggest charts.\"\n",
              "            style=\"display:none;\">\n",
              "\n",
              "<svg xmlns=\"http://www.w3.org/2000/svg\" height=\"24px\"viewBox=\"0 0 24 24\"\n",
              "     width=\"24px\">\n",
              "    <g>\n",
              "        <path d=\"M19 3H5c-1.1 0-2 .9-2 2v14c0 1.1.9 2 2 2h14c1.1 0 2-.9 2-2V5c0-1.1-.9-2-2-2zM9 17H7v-7h2v7zm4 0h-2V7h2v10zm4 0h-2v-4h2v4z\"/>\n",
              "    </g>\n",
              "</svg>\n",
              "  </button>\n",
              "\n",
              "<style>\n",
              "  .colab-df-quickchart {\n",
              "      --bg-color: #E8F0FE;\n",
              "      --fill-color: #1967D2;\n",
              "      --hover-bg-color: #E2EBFA;\n",
              "      --hover-fill-color: #174EA6;\n",
              "      --disabled-fill-color: #AAA;\n",
              "      --disabled-bg-color: #DDD;\n",
              "  }\n",
              "\n",
              "  [theme=dark] .colab-df-quickchart {\n",
              "      --bg-color: #3B4455;\n",
              "      --fill-color: #D2E3FC;\n",
              "      --hover-bg-color: #434B5C;\n",
              "      --hover-fill-color: #FFFFFF;\n",
              "      --disabled-bg-color: #3B4455;\n",
              "      --disabled-fill-color: #666;\n",
              "  }\n",
              "\n",
              "  .colab-df-quickchart {\n",
              "    background-color: var(--bg-color);\n",
              "    border: none;\n",
              "    border-radius: 50%;\n",
              "    cursor: pointer;\n",
              "    display: none;\n",
              "    fill: var(--fill-color);\n",
              "    height: 32px;\n",
              "    padding: 0;\n",
              "    width: 32px;\n",
              "  }\n",
              "\n",
              "  .colab-df-quickchart:hover {\n",
              "    background-color: var(--hover-bg-color);\n",
              "    box-shadow: 0 1px 2px rgba(60, 64, 67, 0.3), 0 1px 3px 1px rgba(60, 64, 67, 0.15);\n",
              "    fill: var(--button-hover-fill-color);\n",
              "  }\n",
              "\n",
              "  .colab-df-quickchart-complete:disabled,\n",
              "  .colab-df-quickchart-complete:disabled:hover {\n",
              "    background-color: var(--disabled-bg-color);\n",
              "    fill: var(--disabled-fill-color);\n",
              "    box-shadow: none;\n",
              "  }\n",
              "\n",
              "  .colab-df-spinner {\n",
              "    border: 2px solid var(--fill-color);\n",
              "    border-color: transparent;\n",
              "    border-bottom-color: var(--fill-color);\n",
              "    animation:\n",
              "      spin 1s steps(1) infinite;\n",
              "  }\n",
              "\n",
              "  @keyframes spin {\n",
              "    0% {\n",
              "      border-color: transparent;\n",
              "      border-bottom-color: var(--fill-color);\n",
              "      border-left-color: var(--fill-color);\n",
              "    }\n",
              "    20% {\n",
              "      border-color: transparent;\n",
              "      border-left-color: var(--fill-color);\n",
              "      border-top-color: var(--fill-color);\n",
              "    }\n",
              "    30% {\n",
              "      border-color: transparent;\n",
              "      border-left-color: var(--fill-color);\n",
              "      border-top-color: var(--fill-color);\n",
              "      border-right-color: var(--fill-color);\n",
              "    }\n",
              "    40% {\n",
              "      border-color: transparent;\n",
              "      border-right-color: var(--fill-color);\n",
              "      border-top-color: var(--fill-color);\n",
              "    }\n",
              "    60% {\n",
              "      border-color: transparent;\n",
              "      border-right-color: var(--fill-color);\n",
              "    }\n",
              "    80% {\n",
              "      border-color: transparent;\n",
              "      border-right-color: var(--fill-color);\n",
              "      border-bottom-color: var(--fill-color);\n",
              "    }\n",
              "    90% {\n",
              "      border-color: transparent;\n",
              "      border-bottom-color: var(--fill-color);\n",
              "    }\n",
              "  }\n",
              "</style>\n",
              "\n",
              "  <script>\n",
              "    async function quickchart(key) {\n",
              "      const quickchartButtonEl =\n",
              "        document.querySelector('#' + key + ' button');\n",
              "      quickchartButtonEl.disabled = true;  // To prevent multiple clicks.\n",
              "      quickchartButtonEl.classList.add('colab-df-spinner');\n",
              "      try {\n",
              "        const charts = await google.colab.kernel.invokeFunction(\n",
              "            'suggestCharts', [key], {});\n",
              "      } catch (error) {\n",
              "        console.error('Error during call to suggestCharts:', error);\n",
              "      }\n",
              "      quickchartButtonEl.classList.remove('colab-df-spinner');\n",
              "      quickchartButtonEl.classList.add('colab-df-quickchart-complete');\n",
              "    }\n",
              "    (() => {\n",
              "      let quickchartButtonEl =\n",
              "        document.querySelector('#df-0524681a-1996-47b5-9cf1-542caea80239 button');\n",
              "      quickchartButtonEl.style.display =\n",
              "        google.colab.kernel.accessAllowed ? 'block' : 'none';\n",
              "    })();\n",
              "  </script>\n",
              "</div>\n",
              "    </div>\n",
              "  </div>\n"
            ]
          },
          "metadata": {},
          "execution_count": 3
        }
      ],
      "source": [
        "df = pd.read_csv('train_rel_2.tsv', sep='\\t')\n",
        "df = df[df['EssaySet'] == 10]\n",
        "df[:5]"
      ]
    },
    {
      "cell_type": "markdown",
      "id": "da6db121",
      "metadata": {
        "id": "da6db121"
      },
      "source": [
        "<img src=\"https://i.pinimg.com/736x/2e/aa/7d/2eaa7d5021ca7c3c98bc93b98b9646fe.jpg\" align=\"left\" width=\"70\" height=\"70\" align=\"left\">\n",
        "\n",
        " ## Task 1: Training data\n",
        ">  Q1. Let's create a new column, called `color`, in the dataframe `df` that only saves the student's reponses regarding the colour choice (e.g., black, white, ... )  \\\n",
        "Hint: You can use the functions `.split()` and `.apply()`\n",
        "\n",
        "> Q2: Remove the colour choice response from the `EssayText` column and save it into a new column `response`  \\\n",
        "(e.g., \"black :: black might affect the dog ~ \" -> \"black might affect the dog~\")"
      ]
    },
    {
      "cell_type": "code",
      "execution_count": 15,
      "id": "b7f0c1da",
      "metadata": {
        "id": "b7f0c1da",
        "outputId": "66f4a860-0be5-4007-cf14-661c5e1cc149",
        "colab": {
          "base_uri": "https://localhost:8080/"
        }
      },
      "outputs": [
        {
          "output_type": "execute_result",
          "data": {
            "text/plain": [
              "white          733\n",
              "black          392\n",
              "light gray     288\n",
              "dark gray      225\n",
              "                 2\n",
              "Name: color, dtype: int64"
            ]
          },
          "metadata": {},
          "execution_count": 15
        }
      ],
      "source": [
        "################################### YOUR CODE HERE for Q1 #############################\n",
        "color = []\n",
        "\n",
        "## Could use .apply(lamba x: x.split(\"::\"))\n",
        "\n",
        "for i in df['EssayText']:\n",
        "  i_color = i.split(\"::\")[0]\n",
        "  color.append(i_color)\n",
        "\n",
        "df['color'] = color\n",
        "#######################################################################################\n",
        "df['color'].value_counts()"
      ]
    },
    {
      "cell_type": "code",
      "execution_count": 20,
      "id": "e2976198",
      "metadata": {
        "id": "e2976198",
        "outputId": "16f8299f-e68a-420f-e817-7f5d6498aa0d",
        "colab": {
          "base_uri": "https://localhost:8080/"
        }
      },
      "outputs": [
        {
          "output_type": "stream",
          "name": "stdout",
          "text": [
            "15403     black might affect the dog house because then...\n",
            "15404     White because you wouldn't want the dog to ge...\n",
            "15405     the color white will reflect the suns rays of...\n",
            "15406     this color will keep the dog house cooler ins...\n",
            "15407     I would use a light color like White in this ...\n",
            "                               ...                        \n",
            "17038     white becuase if you live in a hot place the ...\n",
            "17039     This color will affect the doghouse for the b...\n",
            "17040     i think light gray would work the best becaus...\n",
            "17041      if they painted the doghouse dark gray, then...\n",
            "17042     the black would affect the doghouse because t...\n",
            "Name: response, Length: 1638, dtype: object\n"
          ]
        },
        {
          "output_type": "execute_result",
          "data": {
            "text/plain": [
              "white          733\n",
              "black          392\n",
              "light gray     288\n",
              "dark gray      225\n",
              "Name: color, dtype: int64"
            ]
          },
          "metadata": {},
          "execution_count": 20
        }
      ],
      "source": [
        "################################### YOUR CODE HERE for Q2 #############################\n",
        "response = []\n",
        "\n",
        "for i in df['EssayText']:\n",
        "  i_resp = i.split(\"::\")[1]\n",
        "  response.append(i_resp)\n",
        "\n",
        "df['response'] = response\n",
        "#######################################################################################\n",
        "print(df.response)\n",
        "\n",
        "df = df.query('color != \"\"')\n",
        "\n",
        "df['color'].value_counts()"
      ]
    },
    {
      "cell_type": "markdown",
      "source": [
        "#### 1. Naive Bayes Classifier + BOW"
      ],
      "metadata": {
        "id": "zmk6eH3y-ac6"
      },
      "id": "zmk6eH3y-ac6"
    },
    {
      "cell_type": "code",
      "execution_count": 33,
      "id": "9864bea6",
      "metadata": {
        "id": "9864bea6",
        "outputId": "f13be866-fe7e-48f4-94b6-00df2f534bb7",
        "colab": {
          "base_uri": "https://localhost:8080/"
        }
      },
      "outputs": [
        {
          "output_type": "stream",
          "name": "stdout",
          "text": [
            "(1310, 2479)\n",
            "(328, 2479)\n",
            "Sklearn's score on testing data : 0.7347560975609756\n",
            "Classification report for testing data : \n",
            "              precision    recall  f1-score   support\n",
            "\n",
            "      black        0.80      0.58      0.67        69\n",
            "  dark gray        0.50      0.30      0.37        37\n",
            " light gray        0.57      0.72      0.64        58\n",
            "      white        0.81      0.90      0.86       164\n",
            "\n",
            "    accuracy                           0.73       328\n",
            "   macro avg       0.67      0.63      0.63       328\n",
            "weighted avg       0.73      0.73      0.72       328\n",
            "\n"
          ]
        }
      ],
      "source": [
        "from sklearn.naive_bayes import MultinomialNB\n",
        "from sklearn.metrics import classification_report\n",
        "\n",
        "### Let's create a BOW vector from the 'response' column as an input and call it `X`\n",
        "\n",
        "from sklearn.feature_extraction.text import CountVectorizer\n",
        "bow = CountVectorizer()\n",
        "X = bow.fit_transform(df['response']) ## Can use .values to convert to matrix, but sklearn can take pd\n",
        "\n",
        "# ### Let's set the 'color' column as an input and call it `y`\n",
        "y = df['color']\n",
        "\n",
        "# ### Let's randomly shuffle and use 80% of the data as training and rest of it as testing\n",
        "from sklearn.model_selection import train_test_split\n",
        "X_train, X_test, y_train, y_test = train_test_split(X, y, test_size=0.2)\n",
        "\n",
        "print(X_train.shape)\n",
        "print(X_test.shape)\n",
        "\n",
        "# #############################################################\n",
        "\n",
        "\n",
        "clf_nb = MultinomialNB() # this is your new classifier\n",
        "clf_nb .fit(X_train, y_train) #let's fit the model\n",
        "y_hat = clf_nb.predict(X_test) #predit y_hat\n",
        "\n",
        "# print(y_hat)\n",
        "\n",
        "sklearn_score_test= clf_nb.score(X_test,y_test)\n",
        "print(\"Sklearn's score on testing data :\",sklearn_score_test)\n",
        "\n",
        "print(\"Classification report for testing data : \")\n",
        "print(classification_report(y_test, y_hat))\n"
      ]
    },
    {
      "cell_type": "code",
      "source": [
        "## Re-Do Above but for Score not Color Classification\n",
        "\n",
        "bow = CountVectorizer()\n",
        "X = bow.fit_transform(df['response']) ## Can use .values to convert to matrix, but sklearn can take pd\n",
        "\n",
        "# print(df)\n",
        "\n",
        "# ### Let's set the 'color' column as an input and call it `y`\n",
        "y = df['Score1']\n",
        "\n",
        "# ### Let's randomly shuffle and use 80% of the data as training and rest of it as testing\n",
        "from sklearn.model_selection import train_test_split\n",
        "X_train, X_test, y_train, y_test = train_test_split(X, y, test_size=0.2)\n",
        "\n",
        "print(X_train.shape)\n",
        "print(X_test.shape)\n",
        "\n",
        "# #############################################################\n",
        "\n",
        "\n",
        "clf_nb = MultinomialNB() # this is your new classifier\n",
        "clf_nb .fit(X_train, y_train) #let's fit the model\n",
        "y_hat = clf_nb.predict(X_test) #predit y_hat\n",
        "\n",
        "# print(y_hat)\n",
        "\n",
        "sklearn_score_test= clf_nb.score(X_test,y_test)\n",
        "print(\"Sklearn's score on testing data :\",sklearn_score_test)\n",
        "\n",
        "print(\"Classification report for testing data : \")\n",
        "print(classification_report(y_test, y_hat))"
      ],
      "metadata": {
        "id": "pobB4D_bffmf",
        "outputId": "6c79ae9a-64a4-4575-8bf7-98dc3534911f",
        "colab": {
          "base_uri": "https://localhost:8080/"
        }
      },
      "id": "pobB4D_bffmf",
      "execution_count": 37,
      "outputs": [
        {
          "output_type": "stream",
          "name": "stdout",
          "text": [
            "(1310, 2479)\n",
            "(328, 2479)\n",
            "Sklearn's score on testing data : 0.6798780487804879\n",
            "Classification report for testing data : \n",
            "              precision    recall  f1-score   support\n",
            "\n",
            "           0       0.73      0.12      0.20        68\n",
            "           1       0.66      0.83      0.73       150\n",
            "           2       0.71      0.83      0.76       110\n",
            "\n",
            "    accuracy                           0.68       328\n",
            "   macro avg       0.70      0.59      0.57       328\n",
            "weighted avg       0.69      0.68      0.63       328\n",
            "\n"
          ]
        }
      ]
    },
    {
      "cell_type": "markdown",
      "source": [
        "#### 2.Neural Network Classifier + BOW"
      ],
      "metadata": {
        "id": "09dekJYh_tz7"
      },
      "id": "09dekJYh_tz7"
    },
    {
      "cell_type": "code",
      "execution_count": null,
      "id": "8f3f471d",
      "metadata": {
        "id": "8f3f471d",
        "colab": {
          "base_uri": "https://localhost:8080/"
        },
        "outputId": "4c911ba0-b04d-4d11-94b5-93b52ec4a098"
      },
      "outputs": [
        {
          "output_type": "stream",
          "name": "stdout",
          "text": [
            "Sklearn's score on testing data : 0.7835365853658537\n",
            "Classification report for testing data : \n",
            "              precision    recall  f1-score   support\n",
            "\n",
            "      black        0.81      0.76      0.79        84\n",
            "  dark gray        0.60      0.59      0.59        51\n",
            " light gray        0.70      0.64      0.67        58\n",
            "      white        0.86      0.93      0.90       135\n",
            "\n",
            "    accuracy                           0.78       328\n",
            "   macro avg       0.74      0.73      0.74       328\n",
            "weighted avg       0.78      0.78      0.78       328\n",
            "\n"
          ]
        }
      ],
      "source": [
        "from sklearn.neural_network import MLPClassifier\n",
        "\n",
        "clf_nn = MLPClassifier(random_state=1, max_iter=300) # this is your new classifier\n",
        "clf_nn.fit(X_train,y_train) #let's fit the model\n",
        "y_hat = clf_nn.predict(X_test) #predit y_hat\n",
        "\n",
        "sklearn_score_test= clf_nn.score(X_test,y_test)\n",
        "print(\"Sklearn's score on testing data :\",sklearn_score_test)\n",
        "\n",
        "print(\"Classification report for testing data : \")\n",
        "print(classification_report(y_test, y_hat))"
      ]
    },
    {
      "cell_type": "markdown",
      "source": [
        "#### 3.Support Vector Classifier + BOW"
      ],
      "metadata": {
        "id": "PdbxuMv3BaqK"
      },
      "id": "PdbxuMv3BaqK"
    },
    {
      "cell_type": "code",
      "source": [
        "from sklearn.svm import SVC\n",
        "\n",
        "clf_svm = SVC(random_state=1, max_iter=3000) # this is your new classifier\n",
        "clf_svm.fit(X_train,y_train) #let's fit the model\n",
        "y_hat = clf_svm.predict(X_test) #predit y_hat\n",
        "\n",
        "sklearn_score_test= clf_svm.score(X_test,y_test)\n",
        "print(\"Sklearn's score on testing data :\",sklearn_score_test)\n",
        "\n",
        "print(\"Classification report for testing data : \")\n",
        "print(classification_report(y_test, y_hat))"
      ],
      "metadata": {
        "colab": {
          "base_uri": "https://localhost:8080/"
        },
        "id": "tdDDl3exAMrK",
        "outputId": "b419351f-05cd-4ed4-c08d-774211143d62"
      },
      "id": "tdDDl3exAMrK",
      "execution_count": null,
      "outputs": [
        {
          "output_type": "stream",
          "name": "stdout",
          "text": [
            "Sklearn's score on testing data : 0.7835365853658537\n",
            "Classification report for testing data : \n",
            "              precision    recall  f1-score   support\n",
            "\n",
            "      black        0.78      0.76      0.77        84\n",
            "  dark gray        0.92      0.47      0.62        51\n",
            " light gray        0.71      0.78      0.74        58\n",
            "      white        0.79      0.92      0.85       135\n",
            "\n",
            "    accuracy                           0.78       328\n",
            "   macro avg       0.80      0.73      0.75       328\n",
            "weighted avg       0.79      0.78      0.78       328\n",
            "\n"
          ]
        }
      ]
    },
    {
      "cell_type": "code",
      "source": [],
      "metadata": {
        "id": "9vABVRpNBQlD"
      },
      "id": "9vABVRpNBQlD",
      "execution_count": null,
      "outputs": []
    }
  ],
  "metadata": {
    "colab": {
      "provenance": []
    },
    "kernelspec": {
      "display_name": "Python 3 (ipykernel)",
      "language": "python",
      "name": "python3"
    },
    "language_info": {
      "codemirror_mode": {
        "name": "ipython",
        "version": 3
      },
      "file_extension": ".py",
      "mimetype": "text/x-python",
      "name": "python",
      "nbconvert_exporter": "python",
      "pygments_lexer": "ipython3",
      "version": "3.8.8"
    }
  },
  "nbformat": 4,
  "nbformat_minor": 5
}