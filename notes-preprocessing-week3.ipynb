{
  "cells": [
    {
      "cell_type": "markdown",
      "id": "530144c4",
      "metadata": {
        "id": "530144c4"
      },
      "source": [
        "---\n",
        "<h1><center>  lab 3 : Text Normalziation and Pre-processing </center>\n",
        "<img src=\"https://miro.medium.com/max/1050/1*eH8QZVZtfdquP5ZSkm-xZA.png\" width=\"300\">"
      ]
    },
    {
      "cell_type": "markdown",
      "id": "c3c7066e",
      "metadata": {
        "id": "c3c7066e"
      },
      "source": [
        "> `Created by: Jinnie Shin (jinnie.shin@ualberta.ca)`\\\n",
        "> `Date: `\n",
        "---\n",
        "\n",
        "<img src=\"https://encrypted-tbn0.gstatic.com/images?q=tbn:ANd9GcQmNf86oJnfhpkPA9LnrFnAbfwF2VywPYpB_w&usqp=CAU\" align=\"left\" width=\"70\" height=\"70\" align=\"left\">\n",
        "\n",
        " ### Required Packages or Dependencies"
      ]
    },
    {
      "cell_type": "code",
      "execution_count": 6,
      "id": "02eac3c7",
      "metadata": {
        "id": "02eac3c7",
        "outputId": "781014ac-b929-4663-8f57-6a039779a60e",
        "colab": {
          "base_uri": "https://localhost:8080/"
        }
      },
      "outputs": [
        {
          "output_type": "stream",
          "name": "stdout",
          "text": [
            "Requirement already satisfied: nltk in /usr/local/lib/python3.10/dist-packages (3.8.1)\n",
            "Requirement already satisfied: click in /usr/local/lib/python3.10/dist-packages (from nltk) (8.1.7)\n",
            "Requirement already satisfied: joblib in /usr/local/lib/python3.10/dist-packages (from nltk) (1.3.2)\n",
            "Requirement already satisfied: regex>=2021.8.3 in /usr/local/lib/python3.10/dist-packages (from nltk) (2023.6.3)\n",
            "Requirement already satisfied: tqdm in /usr/local/lib/python3.10/dist-packages (from nltk) (4.66.1)\n"
          ]
        },
        {
          "output_type": "stream",
          "name": "stderr",
          "text": [
            "[nltk_data] Downloading package punkt to /root/nltk_data...\n",
            "[nltk_data]   Package punkt is already up-to-date!\n",
            "[nltk_data] Downloading package wordnet to /root/nltk_data...\n",
            "[nltk_data]   Package wordnet is already up-to-date!\n",
            "[nltk_data] Downloading package omw-1.4 to /root/nltk_data...\n",
            "[nltk_data]   Package omw-1.4 is already up-to-date!\n"
          ]
        }
      ],
      "source": [
        "!pip install nltk\n",
        "import numpy as np\n",
        "import nltk\n",
        "nltk.download(['punkt', 'wordnet', 'omw-1.4'])\n",
        "import pandas as pd"
      ]
    },
    {
      "cell_type": "markdown",
      "id": "98aabe31",
      "metadata": {
        "id": "98aabe31"
      },
      "source": [
        "\n",
        "## 1. A (very) simple tokenizer"
      ]
    },
    {
      "cell_type": "code",
      "execution_count": 7,
      "id": "43509fad",
      "metadata": {
        "id": "43509fad",
        "outputId": "4783da4a-e6a9-47f9-acff-58c2d44bb3e1",
        "colab": {
          "base_uri": "https://localhost:8080/"
        }
      },
      "outputs": [
        {
          "output_type": "stream",
          "name": "stdout",
          "text": [
            "['This', 'is', 'an', 'example,', 'a', 'simple', 'sentence', 'for', 'a', 'mini', 'task.']\n"
          ]
        }
      ],
      "source": [
        "# we will use the tokenization, stemming, and lemmatization functions provided by nltk\n",
        "\n",
        "sentence = 'This is an example, a simple sentence for a mini task.'\n",
        "\n",
        "# Let's build a simple tokenizer to tokenzie the sentence above.\n",
        "# We could do 'This V is V an V example, V a V simple V sentence V for V a V mini V task.'\n",
        "\n",
        "tokens = sentence.split(' ') # Seperate every word based on the white space and name the list, tokens\n",
        "print(tokens) # print the result\n",
        "\n",
        "# What is the potential problems with this approach?\n",
        "\n",
        "# The punctuation is still there\n"
      ]
    },
    {
      "cell_type": "markdown",
      "id": "66fb145d",
      "metadata": {
        "id": "66fb145d"
      },
      "source": [
        "\n",
        "## 2. Preprocessing using ```NLTK```"
      ]
    },
    {
      "cell_type": "code",
      "execution_count": 8,
      "id": "70d8f0e0",
      "metadata": {
        "id": "70d8f0e0",
        "outputId": "a3491806-fa50-4d58-9240-559b3919b9c1",
        "colab": {
          "base_uri": "https://localhost:8080/"
        }
      },
      "outputs": [
        {
          "output_type": "stream",
          "name": "stdout",
          "text": [
            "['This', 'is', 'an', 'example', ',', 'a', 'simple', 'sentence', 'for', 'a', 'mini', 'task', '.']\n",
            "go\n",
            "go\n"
          ]
        }
      ],
      "source": [
        "# Instead, we will use the nltk functions to do more sophisticated processing\n",
        "tokens= nltk.word_tokenize(sentence)  # this functions takes in a string of sentence (text) as an input\n",
        "print(tokens) # outpus is a list of tokens\n",
        "\n",
        "## Number of tokens\n",
        "len(tokens)\n",
        "## Word type (unique words)\n",
        "set(tokens)\n",
        "\n",
        "## Porter stemmer is the most popular stemmer, shortcut to the function\n",
        "stemmer = nltk.stem.PorterStemmer()\n",
        "stems = stemmer.stem('going') # this functions takes in a string of word (term) as an input\n",
        "print(stems) # output is a string\n",
        "\n",
        "## WordNet is the online dictionary used by NLTK to find root time\n",
        "lemmatizer = nltk.stem.WordNetLemmatizer()\n",
        "lemmas = lemmatizer.lemmatize('goes')  # this functions takes in a string of word (term) as an input\n",
        "print(lemmas) # output is a string\n",
        "\n",
        "## If not concerned about accuracy, stemming is MUCH faster"
      ]
    },
    {
      "cell_type": "markdown",
      "id": "1437013c",
      "metadata": {
        "id": "1437013c"
      },
      "source": [
        "<img src=\"https://i.pinimg.com/736x/2e/aa/7d/2eaa7d5021ca7c3c98bc93b98b9646fe.jpg\" align=\"left\" width=\"70\" height=\"70\" align=\"left\">\n",
        "\n",
        "> ## Task 1: Simple Text Normalization\n",
        "\n",
        "\n",
        "> - Q1: Tokenize the following sentence. **\"I saw a kitten eating chicken in the kitchen.\"**\n",
        "> - Q2: Find the stem of the word **\"eating\"**\n",
        "> - Q3: Find the lemma of the word **\"eating\"**\n"
      ]
    },
    {
      "cell_type": "code",
      "execution_count": 9,
      "id": "9e7f06f0",
      "metadata": {
        "id": "9e7f06f0",
        "outputId": "ce5ee17e-985f-4dff-980b-4eee69c37d2c",
        "colab": {
          "base_uri": "https://localhost:8080/"
        }
      },
      "outputs": [
        {
          "output_type": "stream",
          "name": "stdout",
          "text": [
            "['I', 'saw', 'a', 'kitten', 'eating', 'chicken', 'in', 'the', 'kitchen']\n",
            "eat\n",
            "eating\n",
            "This\n",
            "is\n",
            "an\n",
            "example\n",
            ",\n",
            "a\n",
            "simple\n",
            "sentence\n",
            "for\n",
            "a\n",
            "mini\n",
            "task\n",
            ".\n",
            "['This', 'is', 'an', 'example', ',', 'a', 'simple', 'sentence', 'for', 'a', 'mini', 'task', '.']\n"
          ]
        }
      ],
      "source": [
        " #################################### YOUR CODE HERE ###################################\n",
        "sentence = \"I saw a kitten eating chicken in the kitchen\"\n",
        "\n",
        "# Q1\n",
        "print(nltk.word_tokenize(sentence))\n",
        "\n",
        "# Q2\n",
        "print(stemmer.stem(\"eating\"))\n",
        "\n",
        "# Q3\n",
        "print(lemmatizer.lemmatize(\"eating\"))\n",
        "\n",
        "for i in tokens:\n",
        "  print(lemmatizer.lemmatize(i))\n",
        "\n",
        "lemmas = list()\n",
        "for i in tokens:\n",
        "  lemma = lemmatizer.lemmatize(i)\n",
        "  lemmas.append(lemma)\n",
        "\n",
        "print(lemmas)\n",
        "\n",
        "## Note: eating didn't lemmatize, for some reason it gets through the lemma process\n",
        " #######################################################################################"
      ]
    },
    {
      "cell_type": "markdown",
      "id": "91caa77f",
      "metadata": {
        "id": "91caa77f"
      },
      "source": [
        "---\n",
        "## 3. Main Code\n",
        "\n",
        "#### Essay Set 1\n",
        "`Prompt`: A group of students wrote the following procedure for their investigation.\n",
        "`Procedure`:\n",
        "> 1. Determine the mass of four different samples.\n",
        "> 2. Pour vinegar in each of four separate, but identical, containers.\n",
        "> 3. Place a sample of one material into one container and label. Repeat with remaining samples, placing a single sample into a single container.\n",
        "> 4. Allow the samples to sit and dry for 30 minutes.\n",
        "> 5. Determine the mass of each samples.\n",
        "\n",
        "After reading the group's procedure, describe what additional information you would need in order to replicate the experiment. Make sure to include at least three pieces of information.\n",
        "\n",
        "| Type of response            | Source dependent response |\n",
        "|-----------------------------|---------------------------|\n",
        "| Grade level                 | `10`                       |\n",
        "| Subject                     | `Science`                   |\n",
        "| Total sample size           | `1,672`                     |\n",
        "| Average length of responses | `50 words`                  |\n",
        "| Score range                 | `0-3`                       |\n",
        "\n",
        "### 3.1. Import data"
      ]
    },
    {
      "cell_type": "code",
      "execution_count": 10,
      "id": "3dc4f977",
      "metadata": {
        "id": "3dc4f977",
        "outputId": "dddc592f-eee9-49ec-dee0-3d15fb34ad4b",
        "colab": {
          "base_uri": "https://localhost:8080/"
        }
      },
      "outputs": [
        {
          "output_type": "stream",
          "name": "stdout",
          "text": [
            "the total N is:  1783\n",
            "average score is:  8.528323051037576\n",
            "\n",
            "sample response: Dear local newspaper, I think effects computers have on people are great learning skills/affects because they give us time to chat with friends/new people, helps us learn about the globe(astronomy) and keeps us out of troble! Thing about! Dont you think so? How would you feel if your teenager is always on the phone with friends! Do you ever time to chat with your friends or buisness partner about things. Well now - there's a new way to chat the computer, theirs plenty of sites on the internet to do so: @ORGANIZATION1, @ORGANIZATION2, @CAPS1, facebook, myspace ect. Just think now while your setting up meeting with your boss on the computer, your teenager is having fun on the phone not rushing to get off cause you want to use it. How did you learn about other countrys/states outside of yours? Well I have by computer/internet, it's a new way to learn about what going on in our time! You might think your child spends a lot of time on the computer, but ask them so question about the economy, sea floor spreading or even about the @DATE1's you'll be surprise at how much he/she knows. Believe it or not the computer is much interesting then in class all day reading out of books. If your child is home on your computer or at a local library, it's better than being out with friends being fresh, or being perpressured to doing something they know isnt right. You might not know where your child is, @CAPS2 forbidde in a hospital bed because of a drive-by. Rather than your child on the computer learning, chatting or just playing games, safe and sound in your home or community place. Now I hope you have reached a point to understand and agree with me, because computers can have great effects on you or child because it gives us time to chat with friends/new people, helps us learn about the globe and believe or not keeps us out of troble. Thank you for listening.\n"
          ]
        }
      ],
      "source": [
        "# we will define a import_data function, which will extract the designated\n",
        "# essay set and output two lists: the responses, and average score.\n",
        "import pandas as pd\n",
        "\n",
        "def import_data(essay_set=1):\n",
        "    import numpy as np\n",
        "    filename = 'training_set_rel3.xlsx'\n",
        "    data = pd.read_excel(filename)\n",
        "    data_set = data[data['essay_set']==essay_set].essay.values\n",
        "    score_ave = data[data['essay_set']==essay_set].domain1_score.values\n",
        "\n",
        "    print('the total N is: ', len(data_set))\n",
        "    print('average score is: ', np.average(score_ave))\n",
        "    print('\\nsample response:', data_set[0])\n",
        "\n",
        "    return data_set, score_ave\n",
        "\n",
        "example_data, example_score_ave = import_data(essay_set=1)"
      ]
    },
    {
      "cell_type": "code",
      "source": [
        "## Generally good idea to look at the text data to see what kind of preprocessing\n",
        "## you need to do\n",
        "\n",
        "example_data\n",
        "\n",
        "## See there are a lot of typos, abbriviated words with / by python, punctuation"
      ],
      "metadata": {
        "id": "lkVMYtC1NSat",
        "outputId": "fbec5839-9d48-4de9-ee53-c2b98557dfb6",
        "colab": {
          "base_uri": "https://localhost:8080/"
        }
      },
      "id": "lkVMYtC1NSat",
      "execution_count": 11,
      "outputs": [
        {
          "output_type": "execute_result",
          "data": {
            "text/plain": [
              "array([\"Dear local newspaper, I think effects computers have on people are great learning skills/affects because they give us time to chat with friends/new people, helps us learn about the globe(astronomy) and keeps us out of troble! Thing about! Dont you think so? How would you feel if your teenager is always on the phone with friends! Do you ever time to chat with your friends or buisness partner about things. Well now - there's a new way to chat the computer, theirs plenty of sites on the internet to do so: @ORGANIZATION1, @ORGANIZATION2, @CAPS1, facebook, myspace ect. Just think now while your setting up meeting with your boss on the computer, your teenager is having fun on the phone not rushing to get off cause you want to use it. How did you learn about other countrys/states outside of yours? Well I have by computer/internet, it's a new way to learn about what going on in our time! You might think your child spends a lot of time on the computer, but ask them so question about the economy, sea floor spreading or even about the @DATE1's you'll be surprise at how much he/she knows. Believe it or not the computer is much interesting then in class all day reading out of books. If your child is home on your computer or at a local library, it's better than being out with friends being fresh, or being perpressured to doing something they know isnt right. You might not know where your child is, @CAPS2 forbidde in a hospital bed because of a drive-by. Rather than your child on the computer learning, chatting or just playing games, safe and sound in your home or community place. Now I hope you have reached a point to understand and agree with me, because computers can have great effects on you or child because it gives us time to chat with friends/new people, helps us learn about the globe and believe or not keeps us out of troble. Thank you for listening.\",\n",
              "       \"Dear @CAPS1 @CAPS2, I believe that using computers will benefit us in many ways like talking and becoming friends will others through websites like facebook and mysace. Using computers can help us find coordibates, locations, and able ourselfs to millions of information. Also computers will benefit us by helping with jobs as in planning a house plan and typing a @NUM1 page report for one of our jobs in less than writing it. Now lets go into the wonder world of technology. Using a computer will help us in life by talking or making friends on line. Many people have myspace, facebooks, aim, these all benefit us by having conversations with one another. Many people believe computers are bad but how can you make friends if you can never talk to them? I am very fortunate for having a computer that can help with not only school work but my social life and how I make friends. Computers help us with finding our locations, coordibates and millions of information online. If we didn't go on the internet a lot we wouldn't know how to go onto websites that @MONTH1 help us with locations and coordinates like @LOCATION1. Would you rather use a computer or be in @LOCATION3. When your supposed to be vacationing in @LOCATION2. Million of information is found on the internet. You can as almost every question and a computer will have it. Would you rather easily draw up a house plan on the computers or take @NUM1 hours doing one by hand with ugly erazer marks all over it, you are garrenteed that to find a job with a drawing like that. Also when appling for a job many workers must write very long papers like a @NUM3 word essay on why this job fits you the most, and many people I know don't like writing @NUM3 words non-stopp for hours when it could take them I hav an a computer. That is why computers we needed a lot now adays. I hope this essay has impacted your descion on computers because they are great machines to work with. The other day I showed my mom how to use a computer and she said it was the greatest invention sense sliced bread! Now go out and buy a computer to help you chat online with friends, find locations and millions of information on one click of the button and help your self with getting a job with neat, prepared, printed work that your boss will love.\",\n",
              "       \"Dear, @CAPS1 @CAPS2 @CAPS3 More and more people use computers, but not everyone agrees that this benefits society. Those who support advances in technology believe that computers have a positive effect on people. Others have different ideas. A great amount in the world today are using computers, some for work and spme for the fun of it. Computers is one of mans greatest accomplishments. Computers are helpful in so many ways, @CAPS4, news, and live streams. Don't get me wrong way to much people spend time on the computer and they should be out interacting with others but who are we to tell them what to do. When I grow up I want to be a author or a journalist and I know for a fact that both of those jobs involve lots of time on time on the computer, one @MONTH1 spend more time then the other but you know exactly what @CAPS5 getting at. So what if some expert think people are spending to much time on the computer and not exercising, enjoying natures and interacting with family and friends. For all the expert knows that its how must people make a living and we don't know why people choose to use the computer for a great amount of time and to be honest it's non of my concern and it shouldn't be the so called experts concern. People interact a thousand times a day on the computers. Computers keep lots of kids of the streets instead of being out and causing trouble. Computers helps the @ORGANIZATION1 locate most wanted criminals. As you can see computers are more useful to society then you think, computers benefit society.\",\n",
              "       ...,\n",
              "       \"My opinion is that people should have computers in their homes. Computers should be for important things like searching for jobs and other things. People can do their work in the computer. To teach your childrens how to use a computer or let their children go on the internet to they can search kids stuff. People shouldn't all their time on the computers and spend less time with their families and friends. I think people should spend more time with their families and their friends then spending it on the computer. But a lot of people use computers almost everyday. But a lot of people use computers almost everyday. Probably your family are worried about people spending their time everyday in the computer. They their friends how to type in the computer and teach them some stuff about the history. Do you think that people should alot more time with their families and be happy about it the they are spending time with their families. I think people shouldn't use the computer when they have a vistor over their house they don't their vistor think you are attracted to the computer. They should give people the ability to learn about faraway places and to learn things about the internet. But not everyone agree that people shouldn't use computers because people can get attracted to it and people don't want that. To happen. And families are concerned about that a lot of people use this can of stuff. Other people think that this is a great idea to use a lot of computer and spend more on it then their families. So do you think that people should spend more time on their families and friends then picking atention to the computers.\",\n",
              "       'Dear readers, I think that its good and bad to use the computer to much',\n",
              "       'Dear - Local Newspaper I agree thats computers are good for society. Without computers a lot of things couldn’t be done. Computers are sometimes the easy way out. And thats why I love them. Computers almost makes anything possible. Now say if your an elderly person and you cant get up and your bodys really bad. Well all you need is a computer. You can pay your bills online or you can get a job online or even shop online. All you need is a computer. Computers are also good if your lazy. You can just lay in bed all day and go online to work or to the mall and order things all youll have to care about is personal hygenic. Sometimes computers take a lot of stress of you. No more ignorant co-workers or no angry boss everythings a-okay. Computers are also swel because its the eazy way out. But you have to make sure you get a good computer. Not and old one because it can breakdown. Dats one reason why computers arent so good. But as i said computers are very good they might be a little pesky but ones you get the hand of them everything gonna be alright and remember you can do almost anything with a computer.'],\n",
              "      dtype=object)"
            ]
          },
          "metadata": {},
          "execution_count": 11
        }
      ]
    },
    {
      "cell_type": "markdown",
      "id": "4e29a995",
      "metadata": {
        "id": "4e29a995"
      },
      "source": [
        "### 3.2. Define the Text Normalization Functions"
      ]
    },
    {
      "cell_type": "code",
      "execution_count": 12,
      "id": "ef182dc9",
      "metadata": {
        "id": "ef182dc9"
      },
      "outputs": [],
      "source": [
        "# the goal is to preprocess the data using the following three functions (tokenization, stemming, and lemmatization)\n",
        "def tokenize(sentence, sent='True'):\n",
        "    if sent=='True':\n",
        "        return [nltk.word_tokenize(i) for i in nltk.sent_tokenize(sentence)]\n",
        "    elif sent=='False':\n",
        "        return nltk.word_tokenize(sentence)\n",
        "\n",
        "def stemming(token_lst):\n",
        "    stemmer = nltk.stem.PorterStemmer()\n",
        "    return [stemmer.stem(token) for token in token_lst]\n",
        "\n",
        "def lemmatize(token_lst):\n",
        "    lemmatizer = nltk.stem.WordNetLemmatizer()\n",
        "    return [lemmatizer.lemmatize(token) for token in token_lst]\n",
        "\n",
        "## You want to spot check your data to see if there is any consistent issue\n",
        "## that you can fix with regex"
      ]
    },
    {
      "cell_type": "code",
      "source": [
        "## Pull out first student's essay\n",
        "\n",
        "ex_one = example_data[0]\n",
        "print(ex_one)\n",
        "\n",
        "## For now, manually correct typos\n",
        "ex_one = ex_one.replace('troble', 'trouble')\n",
        "\n",
        "print(ex_one)\n",
        "\n",
        "## There are more systematic ways to do this we will learn later...\n",
        "\n",
        "print(tokenize(ex_one))\n",
        "## Creates nested list with tokens grouped by sentance\n",
        "\n",
        "print(tokenize(ex_one, sent = \"False\"))"
      ],
      "metadata": {
        "id": "YfT6waW3ONaH",
        "outputId": "241e276b-23a7-4915-c382-8f6000fd49bf",
        "colab": {
          "base_uri": "https://localhost:8080/"
        }
      },
      "id": "YfT6waW3ONaH",
      "execution_count": 13,
      "outputs": [
        {
          "output_type": "stream",
          "name": "stdout",
          "text": [
            "Dear local newspaper, I think effects computers have on people are great learning skills/affects because they give us time to chat with friends/new people, helps us learn about the globe(astronomy) and keeps us out of troble! Thing about! Dont you think so? How would you feel if your teenager is always on the phone with friends! Do you ever time to chat with your friends or buisness partner about things. Well now - there's a new way to chat the computer, theirs plenty of sites on the internet to do so: @ORGANIZATION1, @ORGANIZATION2, @CAPS1, facebook, myspace ect. Just think now while your setting up meeting with your boss on the computer, your teenager is having fun on the phone not rushing to get off cause you want to use it. How did you learn about other countrys/states outside of yours? Well I have by computer/internet, it's a new way to learn about what going on in our time! You might think your child spends a lot of time on the computer, but ask them so question about the economy, sea floor spreading or even about the @DATE1's you'll be surprise at how much he/she knows. Believe it or not the computer is much interesting then in class all day reading out of books. If your child is home on your computer or at a local library, it's better than being out with friends being fresh, or being perpressured to doing something they know isnt right. You might not know where your child is, @CAPS2 forbidde in a hospital bed because of a drive-by. Rather than your child on the computer learning, chatting or just playing games, safe and sound in your home or community place. Now I hope you have reached a point to understand and agree with me, because computers can have great effects on you or child because it gives us time to chat with friends/new people, helps us learn about the globe and believe or not keeps us out of troble. Thank you for listening.\n",
            "Dear local newspaper, I think effects computers have on people are great learning skills/affects because they give us time to chat with friends/new people, helps us learn about the globe(astronomy) and keeps us out of trouble! Thing about! Dont you think so? How would you feel if your teenager is always on the phone with friends! Do you ever time to chat with your friends or buisness partner about things. Well now - there's a new way to chat the computer, theirs plenty of sites on the internet to do so: @ORGANIZATION1, @ORGANIZATION2, @CAPS1, facebook, myspace ect. Just think now while your setting up meeting with your boss on the computer, your teenager is having fun on the phone not rushing to get off cause you want to use it. How did you learn about other countrys/states outside of yours? Well I have by computer/internet, it's a new way to learn about what going on in our time! You might think your child spends a lot of time on the computer, but ask them so question about the economy, sea floor spreading or even about the @DATE1's you'll be surprise at how much he/she knows. Believe it or not the computer is much interesting then in class all day reading out of books. If your child is home on your computer or at a local library, it's better than being out with friends being fresh, or being perpressured to doing something they know isnt right. You might not know where your child is, @CAPS2 forbidde in a hospital bed because of a drive-by. Rather than your child on the computer learning, chatting or just playing games, safe and sound in your home or community place. Now I hope you have reached a point to understand and agree with me, because computers can have great effects on you or child because it gives us time to chat with friends/new people, helps us learn about the globe and believe or not keeps us out of trouble. Thank you for listening.\n",
            "[['Dear', 'local', 'newspaper', ',', 'I', 'think', 'effects', 'computers', 'have', 'on', 'people', 'are', 'great', 'learning', 'skills/affects', 'because', 'they', 'give', 'us', 'time', 'to', 'chat', 'with', 'friends/new', 'people', ',', 'helps', 'us', 'learn', 'about', 'the', 'globe', '(', 'astronomy', ')', 'and', 'keeps', 'us', 'out', 'of', 'trouble', '!'], ['Thing', 'about', '!'], ['Dont', 'you', 'think', 'so', '?'], ['How', 'would', 'you', 'feel', 'if', 'your', 'teenager', 'is', 'always', 'on', 'the', 'phone', 'with', 'friends', '!'], ['Do', 'you', 'ever', 'time', 'to', 'chat', 'with', 'your', 'friends', 'or', 'buisness', 'partner', 'about', 'things', '.'], ['Well', 'now', '-', 'there', \"'s\", 'a', 'new', 'way', 'to', 'chat', 'the', 'computer', ',', 'theirs', 'plenty', 'of', 'sites', 'on', 'the', 'internet', 'to', 'do', 'so', ':', '@', 'ORGANIZATION1', ',', '@', 'ORGANIZATION2', ',', '@', 'CAPS1', ',', 'facebook', ',', 'myspace', 'ect', '.'], ['Just', 'think', 'now', 'while', 'your', 'setting', 'up', 'meeting', 'with', 'your', 'boss', 'on', 'the', 'computer', ',', 'your', 'teenager', 'is', 'having', 'fun', 'on', 'the', 'phone', 'not', 'rushing', 'to', 'get', 'off', 'cause', 'you', 'want', 'to', 'use', 'it', '.'], ['How', 'did', 'you', 'learn', 'about', 'other', 'countrys/states', 'outside', 'of', 'yours', '?'], ['Well', 'I', 'have', 'by', 'computer/internet', ',', 'it', \"'s\", 'a', 'new', 'way', 'to', 'learn', 'about', 'what', 'going', 'on', 'in', 'our', 'time', '!'], ['You', 'might', 'think', 'your', 'child', 'spends', 'a', 'lot', 'of', 'time', 'on', 'the', 'computer', ',', 'but', 'ask', 'them', 'so', 'question', 'about', 'the', 'economy', ',', 'sea', 'floor', 'spreading', 'or', 'even', 'about', 'the', '@', 'DATE1', \"'s\", 'you', \"'ll\", 'be', 'surprise', 'at', 'how', 'much', 'he/she', 'knows', '.'], ['Believe', 'it', 'or', 'not', 'the', 'computer', 'is', 'much', 'interesting', 'then', 'in', 'class', 'all', 'day', 'reading', 'out', 'of', 'books', '.'], ['If', 'your', 'child', 'is', 'home', 'on', 'your', 'computer', 'or', 'at', 'a', 'local', 'library', ',', 'it', \"'s\", 'better', 'than', 'being', 'out', 'with', 'friends', 'being', 'fresh', ',', 'or', 'being', 'perpressured', 'to', 'doing', 'something', 'they', 'know', 'isnt', 'right', '.'], ['You', 'might', 'not', 'know', 'where', 'your', 'child', 'is', ',', '@', 'CAPS2', 'forbidde', 'in', 'a', 'hospital', 'bed', 'because', 'of', 'a', 'drive-by', '.'], ['Rather', 'than', 'your', 'child', 'on', 'the', 'computer', 'learning', ',', 'chatting', 'or', 'just', 'playing', 'games', ',', 'safe', 'and', 'sound', 'in', 'your', 'home', 'or', 'community', 'place', '.'], ['Now', 'I', 'hope', 'you', 'have', 'reached', 'a', 'point', 'to', 'understand', 'and', 'agree', 'with', 'me', ',', 'because', 'computers', 'can', 'have', 'great', 'effects', 'on', 'you', 'or', 'child', 'because', 'it', 'gives', 'us', 'time', 'to', 'chat', 'with', 'friends/new', 'people', ',', 'helps', 'us', 'learn', 'about', 'the', 'globe', 'and', 'believe', 'or', 'not', 'keeps', 'us', 'out', 'of', 'trouble', '.'], ['Thank', 'you', 'for', 'listening', '.']]\n",
            "['Dear', 'local', 'newspaper', ',', 'I', 'think', 'effects', 'computers', 'have', 'on', 'people', 'are', 'great', 'learning', 'skills/affects', 'because', 'they', 'give', 'us', 'time', 'to', 'chat', 'with', 'friends/new', 'people', ',', 'helps', 'us', 'learn', 'about', 'the', 'globe', '(', 'astronomy', ')', 'and', 'keeps', 'us', 'out', 'of', 'trouble', '!', 'Thing', 'about', '!', 'Dont', 'you', 'think', 'so', '?', 'How', 'would', 'you', 'feel', 'if', 'your', 'teenager', 'is', 'always', 'on', 'the', 'phone', 'with', 'friends', '!', 'Do', 'you', 'ever', 'time', 'to', 'chat', 'with', 'your', 'friends', 'or', 'buisness', 'partner', 'about', 'things', '.', 'Well', 'now', '-', 'there', \"'s\", 'a', 'new', 'way', 'to', 'chat', 'the', 'computer', ',', 'theirs', 'plenty', 'of', 'sites', 'on', 'the', 'internet', 'to', 'do', 'so', ':', '@', 'ORGANIZATION1', ',', '@', 'ORGANIZATION2', ',', '@', 'CAPS1', ',', 'facebook', ',', 'myspace', 'ect', '.', 'Just', 'think', 'now', 'while', 'your', 'setting', 'up', 'meeting', 'with', 'your', 'boss', 'on', 'the', 'computer', ',', 'your', 'teenager', 'is', 'having', 'fun', 'on', 'the', 'phone', 'not', 'rushing', 'to', 'get', 'off', 'cause', 'you', 'want', 'to', 'use', 'it', '.', 'How', 'did', 'you', 'learn', 'about', 'other', 'countrys/states', 'outside', 'of', 'yours', '?', 'Well', 'I', 'have', 'by', 'computer/internet', ',', 'it', \"'s\", 'a', 'new', 'way', 'to', 'learn', 'about', 'what', 'going', 'on', 'in', 'our', 'time', '!', 'You', 'might', 'think', 'your', 'child', 'spends', 'a', 'lot', 'of', 'time', 'on', 'the', 'computer', ',', 'but', 'ask', 'them', 'so', 'question', 'about', 'the', 'economy', ',', 'sea', 'floor', 'spreading', 'or', 'even', 'about', 'the', '@', 'DATE1', \"'s\", 'you', \"'ll\", 'be', 'surprise', 'at', 'how', 'much', 'he/she', 'knows', '.', 'Believe', 'it', 'or', 'not', 'the', 'computer', 'is', 'much', 'interesting', 'then', 'in', 'class', 'all', 'day', 'reading', 'out', 'of', 'books', '.', 'If', 'your', 'child', 'is', 'home', 'on', 'your', 'computer', 'or', 'at', 'a', 'local', 'library', ',', 'it', \"'s\", 'better', 'than', 'being', 'out', 'with', 'friends', 'being', 'fresh', ',', 'or', 'being', 'perpressured', 'to', 'doing', 'something', 'they', 'know', 'isnt', 'right', '.', 'You', 'might', 'not', 'know', 'where', 'your', 'child', 'is', ',', '@', 'CAPS2', 'forbidde', 'in', 'a', 'hospital', 'bed', 'because', 'of', 'a', 'drive-by', '.', 'Rather', 'than', 'your', 'child', 'on', 'the', 'computer', 'learning', ',', 'chatting', 'or', 'just', 'playing', 'games', ',', 'safe', 'and', 'sound', 'in', 'your', 'home', 'or', 'community', 'place', '.', 'Now', 'I', 'hope', 'you', 'have', 'reached', 'a', 'point', 'to', 'understand', 'and', 'agree', 'with', 'me', ',', 'because', 'computers', 'can', 'have', 'great', 'effects', 'on', 'you', 'or', 'child', 'because', 'it', 'gives', 'us', 'time', 'to', 'chat', 'with', 'friends/new', 'people', ',', 'helps', 'us', 'learn', 'about', 'the', 'globe', 'and', 'believe', 'or', 'not', 'keeps', 'us', 'out', 'of', 'trouble', '.', 'Thank', 'you', 'for', 'listening', '.']\n"
          ]
        }
      ]
    },
    {
      "cell_type": "markdown",
      "id": "032733be",
      "metadata": {
        "id": "032733be"
      },
      "source": [
        "<img src=\"https://i.pinimg.com/736x/2e/aa/7d/2eaa7d5021ca7c3c98bc93b98b9646fe.jpg\" align=\"left\" width=\"70\" height=\"70\" align=\"left\">\n",
        "\n",
        "> ## Task 2: Text Normalization\n",
        "\n",
        "> - Q1. The total number of unique tokens (use `tokenize`):\n",
        "> - Q2. The total number of unique tokens after removing stopwords (HINT: A list of stop words can be downloaded from `from nltk.corpus import stopwords` and `stopwords = stopwords.words('english')`):\n",
        "> - Q3. 10 Most frequently used words for the score 3 responses:\n",
        "> - Q4. 10 Most frequently used word for the score 0 responses:\n",
        "\n",
        "\n"
      ]
    },
    {
      "cell_type": "code",
      "execution_count": 14,
      "id": "d5e07bf0",
      "metadata": {
        "id": "d5e07bf0",
        "outputId": "0e0621c5-7e70-473d-f288-e09e72bf7bfb",
        "colab": {
          "base_uri": "https://localhost:8080/"
        }
      },
      "outputs": [
        {
          "output_type": "stream",
          "name": "stdout",
          "text": [
            "the total N is:  1783\n",
            "average score is:  8.528323051037576\n",
            "\n",
            "sample response: Dear local newspaper, I think effects computers have on people are great learning skills/affects because they give us time to chat with friends/new people, helps us learn about the globe(astronomy) and keeps us out of troble! Thing about! Dont you think so? How would you feel if your teenager is always on the phone with friends! Do you ever time to chat with your friends or buisness partner about things. Well now - there's a new way to chat the computer, theirs plenty of sites on the internet to do so: @ORGANIZATION1, @ORGANIZATION2, @CAPS1, facebook, myspace ect. Just think now while your setting up meeting with your boss on the computer, your teenager is having fun on the phone not rushing to get off cause you want to use it. How did you learn about other countrys/states outside of yours? Well I have by computer/internet, it's a new way to learn about what going on in our time! You might think your child spends a lot of time on the computer, but ask them so question about the economy, sea floor spreading or even about the @DATE1's you'll be surprise at how much he/she knows. Believe it or not the computer is much interesting then in class all day reading out of books. If your child is home on your computer or at a local library, it's better than being out with friends being fresh, or being perpressured to doing something they know isnt right. You might not know where your child is, @CAPS2 forbidde in a hospital bed because of a drive-by. Rather than your child on the computer learning, chatting or just playing games, safe and sound in your home or community place. Now I hope you have reached a point to understand and agree with me, because computers can have great effects on you or child because it gives us time to chat with friends/new people, helps us learn about the globe and believe or not keeps us out of troble. Thank you for listening.\n",
            "[['dear', 'local', 'newspap', ',', 'i', 'think', 'effect', 'comput', 'have', 'on', 'peopl', 'are', 'great', 'learn', 'skills/affect', 'becaus', 'they', 'give', 'u', 'time', 'to', 'chat', 'with', 'friends/new', 'peopl', ',', 'help', 'u', 'learn', 'about', 'the', 'globe', '(', 'astronomi', ')', 'and', 'keep', 'u', 'out', 'of', 'trobl', '!', 'thing', 'about', '!', 'dont', 'you', 'think', 'so', '?', 'how', 'would', 'you', 'feel', 'if', 'your', 'teenag', 'is', 'alway', 'on', 'the', 'phone', 'with', 'friend', '!', 'do', 'you', 'ever', 'time', 'to', 'chat', 'with', 'your', 'friend', 'or', 'buis', 'partner', 'about', 'thing', '.', 'well', 'now', '-', 'there', \"'s\", 'a', 'new', 'way', 'to', 'chat', 'the', 'comput', ',', 'their', 'plenti', 'of', 'site', 'on', 'the', 'internet', 'to', 'do', 'so', ':', '@', 'organization1', ',', '@', 'organization2', ',', '@', 'caps1', ',', 'facebook', ',', 'myspac', 'ect', '.', 'just', 'think', 'now', 'while', 'your', 'set', 'up', 'meet', 'with', 'your', 'bos', 'on', 'the', 'comput', ',', 'your', 'teenag', 'is', 'have', 'fun', 'on', 'the', 'phone', 'not', 'rush', 'to', 'get', 'off', 'caus', 'you', 'want', 'to', 'use', 'it', '.', 'how', 'did', 'you', 'learn', 'about', 'other', 'countrys/st', 'outsid', 'of', 'your', '?', 'well', 'i', 'have', 'by', 'computer/internet', ',', 'it', \"'s\", 'a', 'new', 'way', 'to', 'learn', 'about', 'what', 'go', 'on', 'in', 'our', 'time', '!', 'you', 'might', 'think', 'your', 'child', 'spend', 'a', 'lot', 'of', 'time', 'on', 'the', 'comput', ',', 'but', 'ask', 'them', 'so', 'question', 'about', 'the', 'economi', ',', 'sea', 'floor', 'spread', 'or', 'even', 'about', 'the', '@', 'date1', \"'s\", 'you', \"'ll\", 'be', 'surpris', 'at', 'how', 'much', 'he/sh', 'know', '.', 'believ', 'it', 'or', 'not', 'the', 'comput', 'is', 'much', 'interest', 'then', 'in', 'class', 'all', 'day', 'read', 'out', 'of', 'book', '.', 'if', 'your', 'child', 'is', 'home', 'on', 'your', 'comput', 'or', 'at', 'a', 'local', 'librari', ',', 'it', \"'s\", 'better', 'than', 'be', 'out', 'with', 'friend', 'be', 'fresh', ',', 'or', 'be', 'perpressur', 'to', 'do', 'someth', 'they', 'know', 'isnt', 'right', '.', 'you', 'might', 'not', 'know', 'where', 'your', 'child', 'is', ',', '@', 'caps2', 'forbidd', 'in', 'a', 'hospit', 'bed', 'becaus', 'of', 'a', 'drive-bi', '.', 'rather', 'than', 'your', 'child', 'on', 'the', 'comput', 'learn', ',', 'chat', 'or', 'just', 'play', 'game', ',', 'safe', 'and', 'sound', 'in', 'your', 'home', 'or', 'commun', 'place', '.', 'now', 'i', 'hope', 'you', 'have', 'reach', 'a', 'point', 'to', 'understand', 'and', 'agre', 'with', 'me', ',', 'becaus', 'comput', 'can', 'have', 'great', 'effect', 'on', 'you', 'or', 'child', 'becaus', 'it', 'give', 'u', 'time', 'to', 'chat', 'with', 'friends/new', 'peopl', ',', 'help', 'u', 'learn', 'about', 'the', 'globe', 'and', 'believ', 'or', 'not', 'keep', 'u', 'out', 'of', 'trobl', '.', 'thank', 'you', 'for', 'listen', '.'], ['dear', '@', 'caps1', '@', 'caps2', ',', 'i', 'believ', 'that', 'use', 'comput', 'will', 'benefit', 'u', 'in', 'mani', 'way', 'like', 'talk', 'and', 'becom', 'friend', 'will', 'other', 'through', 'websit', 'like', 'facebook', 'and', 'mysac', '.', 'use', 'comput', 'can', 'help', 'u', 'find', 'coordib', ',', 'locat', ',', 'and', 'abl', 'ourself', 'to', 'million', 'of', 'inform', '.', 'also', 'comput', 'will', 'benefit', 'u', 'by', 'help', 'with', 'job', 'a', 'in', 'plan', 'a', 'hous', 'plan', 'and', 'type', 'a', '@', 'num1', 'page', 'report', 'for', 'one', 'of', 'our', 'job', 'in', 'le', 'than', 'write', 'it', '.', 'now', 'let', 'go', 'into', 'the', 'wonder', 'world', 'of', 'technolog', '.', 'use', 'a', 'comput', 'will', 'help', 'u', 'in', 'life', 'by', 'talk', 'or', 'make', 'friend', 'on', 'line', '.', 'mani', 'peopl', 'have', 'myspac', ',', 'facebook', ',', 'aim', ',', 'these', 'all', 'benefit', 'u', 'by', 'have', 'convers', 'with', 'one', 'anoth', '.', 'mani', 'peopl', 'believ', 'comput', 'are', 'bad', 'but', 'how', 'can', 'you', 'make', 'friend', 'if', 'you', 'can', 'never', 'talk', 'to', 'them', '?', 'i', 'am', 'veri', 'fortun', 'for', 'have', 'a', 'comput', 'that', 'can', 'help', 'with', 'not', 'onli', 'school', 'work', 'but', 'my', 'social', 'life', 'and', 'how', 'i', 'make', 'friend', '.', 'comput', 'help', 'u', 'with', 'find', 'our', 'locat', ',', 'coordib', 'and', 'million', 'of', 'inform', 'onlin', '.', 'if', 'we', 'did', \"n't\", 'go', 'on', 'the', 'internet', 'a', 'lot', 'we', 'would', \"n't\", 'know', 'how', 'to', 'go', 'onto', 'websit', 'that', '@', 'month1', 'help', 'u', 'with', 'locat', 'and', 'coordin', 'like', '@', 'location1', '.', 'would', 'you', 'rather', 'use', 'a', 'comput', 'or', 'be', 'in', '@', 'location3', '.', 'when', 'your', 'suppos', 'to', 'be', 'vacat', 'in', '@', 'location2', '.', 'million', 'of', 'inform', 'is', 'found', 'on', 'the', 'internet', '.', 'you', 'can', 'a', 'almost', 'everi', 'question', 'and', 'a', 'comput', 'will', 'have', 'it', '.', 'would', 'you', 'rather', 'easili', 'draw', 'up', 'a', 'hous', 'plan', 'on', 'the', 'comput', 'or', 'take', '@', 'num1', 'hour', 'do', 'one', 'by', 'hand', 'with', 'ugli', 'eraz', 'mark', 'all', 'over', 'it', ',', 'you', 'are', 'garrente', 'that', 'to', 'find', 'a', 'job', 'with', 'a', 'draw', 'like', 'that', '.', 'also', 'when', 'appl', 'for', 'a', 'job', 'mani', 'worker', 'must', 'write', 'veri', 'long', 'paper', 'like', 'a', '@', 'num3', 'word', 'essay', 'on', 'whi', 'thi', 'job', 'fit', 'you', 'the', 'most', ',', 'and', 'mani', 'peopl', 'i', 'know', 'do', \"n't\", 'like', 'write', '@', 'num3', 'word', 'non-stopp', 'for', 'hour', 'when', 'it', 'could', 'take', 'them', 'i', 'hav', 'an', 'a', 'comput', '.', 'that', 'is', 'whi', 'comput', 'we', 'need', 'a', 'lot', 'now', 'aday', '.', 'i', 'hope', 'thi', 'essay', 'ha', 'impact', 'your', 'descion', 'on', 'comput', 'becaus', 'they', 'are', 'great', 'machin', 'to', 'work', 'with', '.', 'the', 'other', 'day', 'i', 'show', 'my', 'mom', 'how', 'to', 'use', 'a', 'comput', 'and', 'she', 'said', 'it', 'wa', 'the', 'greatest', 'invent', 'sen', 'slice', 'bread', '!', 'now', 'go', 'out', 'and', 'buy', 'a', 'comput', 'to', 'help', 'you', 'chat', 'onlin', 'with', 'friend', ',', 'find', 'locat', 'and', 'million', 'of', 'inform', 'on', 'one', 'click', 'of', 'the', 'button', 'and', 'help', 'your', 'self', 'with', 'get', 'a', 'job', 'with', 'neat', ',', 'prepar', ',', 'print', 'work', 'that', 'your', 'bos', 'will', 'love', '.'], ['dear', ',', '@', 'caps1', '@', 'caps2', '@', 'caps3', 'more', 'and', 'more', 'peopl', 'use', 'comput', ',', 'but', 'not', 'everyon', 'agre', 'that', 'thi', 'benefit', 'societi', '.', 'those', 'who', 'support', 'advanc', 'in', 'technolog', 'believ', 'that', 'comput', 'have', 'a', 'posit', 'effect', 'on', 'peopl', '.', 'other', 'have', 'differ', 'idea', '.', 'a', 'great', 'amount', 'in', 'the', 'world', 'today', 'are', 'use', 'comput', ',', 'some', 'for', 'work', 'and', 'spme', 'for', 'the', 'fun', 'of', 'it', '.', 'comput', 'is', 'one', 'of', 'man', 'greatest', 'accomplish', '.', 'comput', 'are', 'help', 'in', 'so', 'mani', 'way', ',', '@', 'caps4', ',', 'news', ',', 'and', 'live', 'stream', '.', 'do', \"n't\", 'get', 'me', 'wrong', 'way', 'to', 'much', 'peopl', 'spend', 'time', 'on', 'the', 'comput', 'and', 'they', 'should', 'be', 'out', 'interact', 'with', 'other', 'but', 'who', 'are', 'we', 'to', 'tell', 'them', 'what', 'to', 'do', '.', 'when', 'i', 'grow', 'up', 'i', 'want', 'to', 'be', 'a', 'author', 'or', 'a', 'journalist', 'and', 'i', 'know', 'for', 'a', 'fact', 'that', 'both', 'of', 'those', 'job', 'involv', 'lot', 'of', 'time', 'on', 'time', 'on', 'the', 'comput', ',', 'one', '@', 'month1', 'spend', 'more', 'time', 'then', 'the', 'other', 'but', 'you', 'know', 'exactli', 'what', '@', 'caps5', 'get', 'at', '.', 'so', 'what', 'if', 'some', 'expert', 'think', 'peopl', 'are', 'spend', 'to', 'much', 'time', 'on', 'the', 'comput', 'and', 'not', 'exercis', ',', 'enjoy', 'natur', 'and', 'interact', 'with', 'famili', 'and', 'friend', '.', 'for', 'all', 'the', 'expert', 'know', 'that', 'it', 'how', 'must', 'peopl', 'make', 'a', 'live', 'and', 'we', 'do', \"n't\", 'know', 'whi', 'peopl', 'choos', 'to', 'use', 'the', 'comput', 'for', 'a', 'great', 'amount', 'of', 'time', 'and', 'to', 'be', 'honest', 'it', \"'s\", 'non', 'of', 'my', 'concern', 'and', 'it', 'should', \"n't\", 'be', 'the', 'so', 'call', 'expert', 'concern', '.', 'peopl', 'interact', 'a', 'thousand', 'time', 'a', 'day', 'on', 'the', 'comput', '.', 'comput', 'keep', 'lot', 'of', 'kid', 'of', 'the', 'street', 'instead', 'of', 'be', 'out', 'and', 'caus', 'troubl', '.', 'comput', 'help', 'the', '@', 'organization1', 'locat', 'most', 'want', 'crimin', '.', 'a', 'you', 'can', 'see', 'comput', 'are', 'more', 'use', 'to', 'societi', 'then', 'you', 'think', ',', 'comput', 'benefit', 'societi', '.'], ['dear', 'local', 'newspap', ',', '@', 'caps1', 'i', 'have', 'found', 'that', 'mani', 'expert', 'say', 'that', 'comput', 'do', 'not', 'benifit', 'our', 'societi', '.', 'in', 'some', 'case', 'thi', 'is', 'true', 'but', 'in', 'most', 'case', 'studdi', 'show', 'that', 'comput', 'can', 'help', 'peopl', '.', 'while', 'noth', 'beat', 'talk', 'in', 'person', 'comput', 'can', 'get', 'realli', 'close', 'such', 'exampl', 'are', 'webcam', 'or', 'e-mail', '.', '@', 'percent1', 'of', 'student', 'who', 'get', 'good', 'grade', 'refer', 'to', 'reliabl', 'websit', 'for', 'reasearch', 'or', 'to', 'help', 'find', 'good', 'book', '.', 'also', 'onlin', 'cataloug', 'or', 'advertis', 'help', 'the', 'economi', 'of', 'store', 'worldwid', '.', '@', 'caps2', 'peopl', 'were', 'not', 'allow', 'to', 'use', 'comput', 'most', 'of', 'the', 'modern', 'would', 'not', 'exist', '.', '@', 'person1', 'said', 'that', 'the', 'best', 'form', 'of', 'modern', 'commun', 'is', 'the', 'comput', 'becaus', 'of', 'the', 'abil', 'to', 'write', ',', 'talk', ',', 'or', 'write', 'back', 'for', 'much', 'cheaper', '!', 'almost', 'everi', 'singl', 'event', 'i', 'go', 'to', 'is', 'plane', 'on', 'a', 'comput', 'by', 'commun', 'such', 'a', 'e-mail', '``', '@', 'caps2', 'a', 'student', 'ever', 'need', 'homework', 'becaus', 'lam', 'out', 'sick', 'or', 'need', 'help', 'studi', 'for', 'a', 'test', 'then', 'contact', 'their', 'teacher', 'through', 'the', 'best', 'form', 'of', 'commun', 'for', 'them', 'alway', 'e-mail', '.', 'even', 'the', 'post', 'offic', 'use', 'comput', 'to', 'get', 'letter', 'and', 'box', 'to', 'peopl', '.', 'the', 'presid', 'of', 'the', 'post', 'offic', ',', '@', 'person2', 'said', '``', '@', 'caps3', 'would', 'be', 'impos', 'to', 'get', 'mail', 'to', 'our', 'coustmer', '@', 'caps2', '@', 'caps3', 'were', 'not', 'for', 'comput', 'tell', 'u', 'where', 'a', 'zip', 'code', 'is', 'or', 'how', 'heavi', 'a', 'box', 'is', '.', \"''\", '@', 'caps4', 'that', 'tell', 'peopl', 'what', 'is', 'happen', 'around', 'the', 'world', 'would', 'not', 'exist', '@', 'caps2', '@', 'caps3', 'were', 'not', 'for', 'the', 'moder', 'commun', 'abil', 'that', 'comput', 'provid', 'u', '.', 'becaus', 'inform', 'can', 'be', 'commuc', 'so', 'quick', '.', 'so', 'can', 'reasearch', '.', 'when', 'the', 'countri', 'of', '@', 'location2', 'took', 'a', 'pole', '@', 'percent2', 'of', 'peopl', 'use', 'comput', 'for', 'ani', 'type', 'of', 'reasearch', ',', 'of', 'those', '@', 'percent3', 'were', 'student', 'current', 'in', 'school', 'and', '@', 'percent4', 'of', 'them', 'have', 'good', 'grade', '.', 'when', 'the', 'same', 'survey', 'wa', 'taken', 'in', 'the', '@', 'location1', '@', 'percent5', 'of', 'peopl', 'use', 'comput', 'fore', 'reason', 'and', '@', 'percent2', 'were', 'student', 'who', 'had', 'good', 'grade', '@', 'caps2', '@', 'caps3', 'were', 'not', 'posibl', 'for', 'me', 'to', 'access', 'document', 'in', 'the', '@', 'caps5', '@', 'caps6', 'onlin', 'i', 'probabl', 'would', 'not', 'have', 'gotten', 'an', 'a+', 'on', 'my', '@', 'caps7', 'assign', '!', 'could', 'you', 'amagin', '@', 'caps2', 'suddenli', 'your', 'newspap', 'report', 'could', \"n't\", 'use', 'the', 'internet', 'to', 'work', 'on', 'their', 'report', '?', 'the', 'articl', 'would', 'probabl', 'be', '@', 'num1', 'after', 'the', 'event', 'occur', '.', 'most', 'buiss', ',', 'includ', 'the', 'newspap', ',', 'use', 'the', 'internet', 'to', 'advertis', ',', 'shop', ',', 'or', 'read', '.', 'the', 'associ', 'of', '@', 'organization1', 'report', 'that', 'in', '@', 'percent1', 'of', '@', 'organization1', 'use', 'a', 'websit', 'and', 'of', 'them', '@', 'percent5', 'were', 'in', 'good', 'posit', '.', 'the', 'presid', 'of', '@', 'caps8', '@', 'num2', 'import', 'said', 'that', 'they', 'use', 'an', 'onlin', 'cataloug', 'becaus', '@', 'caps3', 'is', 'cheaper', ',', 'but', 'they', 'can', 'also', 'promot', 'that', '@', 'caps3', 'is', 'to', 'save', 'tree', ',', 'or', 'for', 'the', 'castom', \"'s\", 'convin', '.', 'small', '@', 'organization1', 'can', 'make', 'websit', 'to', 'promot', 'them', 'selv', 'and', 'explain', 'their', 'star', 'to', 'potenti', 'coustom', '.', '@', 'person3', ',', 'the', 'owner', 'of', '@', 'organization2', \"'s\", 'said', 'that', 'the', 'internet', 'save', 'her', 'restur', '.', '@', 'caps2', '@', 'caps3', 'wer', 'not', 'for', 'the', 'internet', '@', 'num3', 'more', 'peopl', 'would', 'be', 'jobless', 'in', '@', 'location3', '.', 'in', 'conclus', 'comput', 'help', 'everyday', 'peopl', 'and', 'without', 'them', 'most', 'convin', 'would', 'not', 'exist', '.', 'they', 'help', 'commun', 'around', 'the', 'world', '.', 'comput', 'help', 'peopl', 'reaserch', 'subject', 'for', 'school', 'report', ',', 'and', 'they', 'make', 'the', 'current', 'economi', 'get', 'better', 'everyday', '.', 'in', 'moder', 'comput', 'are', 'the', 'most', 'use', 'tool', 'out', 'there', '.'], ['dear', '@', 'location1', ',', 'i', 'know', 'have', 'comput', 'ha', 'a', 'posit', 'effect', 'on', 'peopl', '.', 'the', 'comput', 'connect', 'famili', ',', 'contain', 'inform', 'which', 'is', 'great', 'for', 'peopl', 'educ', ',', 'and', 'are', 'veri', 'conveint', '.', 'computor', 'are', 'a', 'step', 'into', 'the', 'futur', 'and', 'we', 'should', 'take', 'advantag', 'of', 'it', '.', 'first', 'off', 'the', 'internet', 'or', 'e-mail', 'will', 'help', 'famili', 'member', 'connect', '.', 'my', 'famili', ',', 'which', 'live', '@', 'num1', 'hour', 'away', 'by', 'car', ',', 'love', 'to', 'talk', 'with', 'me', 'by', 'e-mail', '.', 'thi', 'help', 'me', 'connect', 'with', 'my', 'famili', 'and', 'is', 'just', 'anoth', 'reason', 'whi', 'we', 'should', 'have', 'computor', '.', 'anoth', 'reason', 'that', 'includ', 'famili', 'is', 'when', 'the', 'famili', 'is', 'just', 'sit', 'around', 'and', 'are', 'call', 'everywher', 'just', 'to', 'find', 'a', 'board', 'game', ',', 'it', 'would', 'just', 'be', 'easier', 'to', 'go', 'onlin', 'to', 'find', 'it', '.', 'thi', 'way', 'it', 'would', 'be', 'quick', 'and', 'easi', 'to', 'find', 'that', 'one', 'board', 'game', '.', 'the', 'last', 'reason', 'whi', 'a', 'comput', 'would', 'help', 'a', 'famili', 'is', 'if', 'a', 'famili', 'want', 'to', 'get', 'in', 'to', 'ani', 'kind', 'of', 'activ', 'and', 'they', 'need', 'the', 'number', 'they', 'could', 'just', 'go', 'onlin', '.', 'on', 'the', 'internet', 'the', 'famili', 'could', 'find', 'the', 'number', ',', 'the', 'and', 'some', 'inform', 'about', 'it', '.', 'thi', 'way', 'more', 'and', 'more', 'famili', 'can', 'do', 'activ', 'togeth', '.', 'a', 'one', 'can', 'see', 'the', 'comput', 'is', 'bring', 'more', 'and', 'more', 'famili', 'togeth', '.', 'an', 'other', 'reason', 'whi', 'the', 'comput', 'are', 'good', 'for', 'societi', 'is', 'educ', '.', 'with', 'inform', 'at', 'the', 'tip', 'of', 'your', 'finger', 'more', 'and', 'more', 'peopl', 'will', 'want', 'to', 'learn', '.', 'now', 'a', 'day', 'peopl', 'tri', 'to', 'find', 'the', 'out', ',', 'but', 'will', 'all', 'the', 'tool', 'on', 'the', 'comput', 'mae', 'peopl', 'get', 'the', 'educ', '.', 'secondli', 'comput', 'are', 'anoth', 'way', 'to', 'go', 'to', 'collag', '.', 'if', 'you', 'ar', \"n't\", 'up', 'to', 'go', 'to', 'school/collag', 'becaus', 'your', 'sick', '.', 'you', 'would', \"n't\", 'have', 'to', 'miss', 'anyth', 'becaus', 'with', 'a', 'click', 'of', 'a', 'button', 'you', 'will', 'have', 'the', 'materi', 'need', 'for', 'what', 'wa', 'miss', '.', 'lastli', 'everyon', 'know', 'that', 'in', '@', 'location2', 'most', 'classroom', 'ca', \"n't\", 'afford', 'one', 'comput', '.', 'the', 'child', 'want', 'computor', 'so', 'hard', '.', 'if', 'they', 'were', 'to', 'get', 'one', 'it', 'would', 'chang', 'so', 'much', '.', 'they', 'would', 'be', 'abl', 'to', 'learn', 'so', 'much', 'more', 'than', 'befor', '.', 'the', 'child', 'could', 'lean', 'about', 'differ', 'countri', 'far', 'away', '.', 'a', 'a', 'result', 'comput', 'would', 'improv', 'the', 'way', 'we', 'learn', '.', 'the', 'last', 'reason', 'whi', 'comput', 'are', 'so', 'help', 'is', 'convienc', '.', 'now', 'a', 'say', 'the', 'world', 'is', 'crazi', ',', 'so', 'if', 'we', 'do', \"n't\", 'have', 'to', 'go', 'out', 'or', 'talk', 'to', 'someon', 'we', 'wo', \"n't\", '.', 'the', 'comput', 'will', 'offer', 'the', 'abil', 'to', 'confrenc', 'will', 'other', 'peopl', 'so', 'that', 'there', 'would', 'be', 'commun', 'between', 'work', 'parttner', '.', 'with', 'the', 'abil', 'to', 'talk', 'with', 'anoth', 'for', 'work', 'would', 'make', 'u', 'a', 'lighter', 'nation', '.', 'thi', 'is', 'onli', 'one', 'of', 'the', 'mani', 'reason', 'comput', 'are', 'veri', 'convient', ',', 'subssiqu', 'comput', 'are', 'convient', 'becaus', 'you', 'could', 'book', 'flight', ',', 'vacat', ',', 'rental', ',', 'and', 'much', 'more', '.', 'with', 'a', 'click', 'of', 'a', 'button', 'you', 'should', 'be', 'go', 'to', '@', 'caps1', 'or', 'a', 'nice', 'vacat', '.'], ['dear', '@', 'location1', ',', 'i', 'think', 'that', 'comput', 'have', 'a', 'neg', 'affect', 'on', 'u', '!', 'how', 'mani', 'peopl', 'have', 'ace', 'to', 'a', 'camput', 'daili', 'in', 'america', '..', '@', 'num1', 'and', 'how', 'mani', 'peopl', 'go', 'on', 'at', 'least', 'an', 'hour', 'a', '@', 'num2', '.', 'that', 'mean', 'that', '@', 'num3', 'peopl', 'cant', 'exercis', 'are', 'wast', 'mani', 'are', 'have', 'the', 'posibl', 'of', 'physic', '@', 'caps1', 'that', 'sound', 'good', 'to', 'you', '?', 'think', 'of', 'everyth', 'you', 'done', 'when', 'you', 'write', 'a', 'letter', '.', 'i', 'got', 'up', 'and', 'got', 'all', 'the', 'materi', 'and', 'sit', 'back', 'down', '.', 'after', 'in', 'done', 'write', 'have', 'to', 'put', 'all', 'the', 'materi', 'away', 'and', 'then', 'put', 'the', 'letter', 'in', 'the', 'mailbox', 'and', 'walk', 'all', 'the', 'way', 'back', '.', 'well', 'thi', 'is', 'what', 'i', 'had', 'to', 'do', '.', 'now', 'think', 'how', 'you', 'write', 'an', 'email', 'sitdown', 'and', 'move', 'your', 'finger', '.', 'do', 'you', 'see', 'the', 'differ', '?', '@', 'caps2', 'instead', 'of', 'get', 'a', 'good', 'walk', 'to', 'your', 'friend', 'hous', 'to', 'talk', 'to', 'you', 'just', 'in', 'him/er', '.', 'did', 'you', 'know', 'that', 'you', 'can', 'liter', 'but', 'from', 'on', 'your', 'comput', '.', 'instead', 'of', 'around', 'with', 'thi', 'that', 'can', 'add', 'anyth', 'you', 'your', 'comput', 'give', 'away', 'inform', 'they', 'inform', 'lead', 'to', 'that', 'and', 'then', 'everth', 'you', 'have', 'wouldb', 'gone', '.', 'all', 'thi', 'so', 'you', 'can', 'go', 'onlin', '.', 'believ', 'it', 'or', 'not', ',', 'you', 'can', 'phisic', 'get', 'hurt', 'for', 'be', 'on', 'the', 'comput', ',', 'to', 'long', '.', '@', 'num4', 'thing', 'is', 'that', 'when', 'you', 'at', 'a', 'comput', '@', 'caps2', 'what', 'happen', 'to', 'my', 'grandpa', 'is', 'that', 'when', 'you', 'are', 'in', 'a', 'wood', 'chair', 'all', 'day', 'you', 'can', 'get', 'ardthriti', 'in', 'your', 'muscl', '@', 'caps3', 'thing', 'th', '.'], ['did', 'you', 'know', 'that', 'more', 'and', 'more', 'peopl', 'these', 'day', 'are', 'depend', 'on', 'comput', 'for', 'their', 'safeti', ',', 'natur', 'educ', ',', 'and', 'their', 'social', 'life', '?', 'in', 'my', 'opinion', ',', 'the', 'increas', 'use', 'of', 'comput', 'is', 'not', 'benefit', 'societi', '.', 'initi', ',', 'one', 'safeti', 'while', 'use', 'a', 'comput', 'is', 'at', 'risk', '.', 'to', 'begin', ',', 'when', 'someon', 'is', 'talk', 'to', 'anoth', 'on', 'a', 'comput', ',', 'they', '@', 'month1', 'never', 'know', 'who', 'is', 'at', 'the', 'other', 'end', 'of', 'it', '.', 'for', 'exampl', ',', '@', 'caps1', 'a', 'small', 'girl', 'wa', 'play', 'a', 'game', 'on', 'the', 'comput', 'and', 'a', 'person', 'began', 'talk', 'to', 'her', ',', 'it', 'could', 'be', 'a', 'predat', '.', 'she', 'will', 'never', 'know', 'unless', 'they', 'meet', 'u', 'somewher', '.', 'at', 'thi', 'point', ',', 'it', 'mayb', 'too', 'late', '.', 'moreov', ',', 'studi', 'show', 'that', '@', 'percent1', 'of', 'peopl', \"'s\", 'inform', 'is', 'more', 'wide', 'expo', 'in', 'the', 'last', '@', 'num1', 'year', 'due', 'to', 'the', 'new', 'chat', 'websit', '.', 'such', 'a', 'myspac', 'and', 'facebook', '.', 'in', 'these', 'websit', ',', 'peopl', 'share', 'their', 'inform', '.', 'with', 'thi', ',', 'their', 'safeti', 'is', 'at', 'risk', '.', 'final', ',', 'peopl', 'should', 'stop', 'use', 'comput', 'a', 'much', 'a', 'they', 'are', 'now', ',', 'in', 'order', 'to', 'keep', 'their', 'safeti', 'safe', '.', 'furthermor', ',', 'enjoy', 'natur', 'is', 'a', 'must', ',', 'in', 'our', 'world', 'full', 'of', 'immens', 'landscap', ',', 'wide', 'water', ',', 'den', 'forest', ',', 'and', 'lush', 'valley', '.', '@', 'caps1', 'you', 'depend', 'on', 'your', 'comput', 'to', 'teach', 'you', 'about', 'the', 'world', ',', 'you', 'should', 'ceas', 'thi', 'use', '.', 'one', 'must', 'actual', 'be', 'outsid', ',', 'experienc', 'the', 'feel', ',', 'the', 'smell', ',', 'and', 'even', 'the', 'tast', 'of', 'natur', '.', 'a', 'recent', 'studi', 'show', 'that', 'peopl', 'who', 'actual', 'went', 'to', 'the', 'grand', 'canyon', 'could', 'write', 'a', '@', 'num1', 'page', 'essay', 'on', 'what', 'they', 'had', 'learn', '.', 'the', 'peopl', 'who', 'did', \"n't\", 'go', 'and', 'simpli', 'read', 'inform', 'off', 'their', 'comput', ',', 'could', 'not', 'write', 'thi', 'much', '.', 'final', ',', 'societi', 'need', 'to', 'back', 'away', 'from', 'their', 'comput', ',', 'and', 'stop', 'into', '.', 'thirdli', ',', 'a', 'person', \"'s\", 'social', 'life', 'could', 'be', 'ruin', 'from', 'the', 'use', 'of', 'comput', 'for', 'mani', 'reason', '.', 'one', 'reason', 'for', 'thi', 'could', 'be', 'that', 'a', 'person', 'spend', 'all', 'their', 'time', 'on', 'their', 'comput', 'instead', 'of', 'spend', 'time', 'with', 'their', 'famili', 'and', 'friend', '.', 'sure', ',', 'you', 'can', 'chat', 'with', 'peopl', 'onlin', ',', 'but', 'that', \"'s\", 'noth', 'like', 'chat', 'in', 'person', '.', 'there', 'is', 'no', 'need', 'to', 'talk', 'to', 'a', 'friend', 'or', 'famili', 'member', 'onlin', ',', 'when', 'you', 'could', 'do', 'it', 'in', 'person', '.', 'final', ',', '@', 'caps1', 'someon', 'take', 'an', 'embarras', 'pictur', 'of', 'you', 'and', 'put', 'it', 'on', 'their', 'comput', ',', 'it', 'is', 'there', 'forev', '.', 'thu', ',', 'you', 'can', 'lose', 'friend', ',', 'whether', 'you', \"'re\", 'the', 'person', 'in', 'the', 'pictur', 'or', 'the', 'addict', 'who', 'put', 'the', 'pictur', 'on', '.', 'with', 'thi', ',', 'you', 'can', 'easili', 'ruin', 'your', 'family/soci', 'life', 'by', 'use', 'your', 'comput', 'too', 'often', '.', 'how', 'would', 'you', 'feel', '@', 'caps1', 'it', 'wa', 'your', 'fault', 'that', 'someon', \"'s\", 'safeti', 'is', 'at', 'risk', '?', 'would', \"n't\", 'you', 'rather', 'enjoy', 'natur', 'in', 'person', 'instead', 'of', 'which', 'it', 'on', 'your', 'comput', 'and', 'not', 'get', 'the', 'fall', 'effect', '?', 'could', \"n't\", 'you', 'talk', 'to', 'your', 'friend', 'and', 'famili', 'in', 'person', 'rather', 'than', 'ignor', 'them', 'to', 'use', 'your', 'comput', '?', 'there', 'are', 'numer', 'way', 'in', 'which', 'the', 'increas', 'rate', 'of', 'comput', 'use', 'doe', 'not', 'benefit', 'societi', '.', 'i', 'encourag', 'you', 'to', 'agre', 'with', 'me', 'that', 'comput', 'can', 'put', 'one', 'safeti', 'at', 'risk', 'decreas', 'their', 'educ', 'of', 'natur', 'and', 'ruin', 'their', 'social', 'life', '.'], ['@', 'percent1', 'of', 'peopl', 'agre', 'that', 'comput', 'make', 'life', 'le', 'complic', '.', 'i', 'also', 'agre', 'with', 'thi', '.', 'use', 'comput', 'teach', 'hand-ey', 'coordin', ',', 'give', 'peopl', 'the', 'abil', 'to', 'learn', 'about', 'faraway', 'place', 'and', 'peopl', ',', 'and', 'let', 'peopl', 'talk', 'onlin', 'with', 'other', 'peopl', '.', 'i', 'think', 'that', 'these', 'are', 'all', 'veri', 'import', '.', 'whi', 'would', \"n't\", 'you', 'want', 'to', 'have', 'strong', 'hand-ey', 'coordin', '?', 'i', 'think', 'thi', 'a', 'veri', 'import', 'skill', '.', 'comput', 'help', 'teach', 'hand-ey', 'coordin', 'and', 'they', 'keep', 'it', 'strong', '.', 'while', 'you', \"'re\", 'look', 'at', 'the', 'screen', 'your', 'hand', 'is', 'move', 'the', 'mous', 'where', 'you', 'want', 'it', 'to', 'go', '.', 'good', 'hand-ey', 'coordin', 'is', 'use', 'for', 'a', 'lot', 'of', 'thing', ';', 'mostli', 'everyth', '.', 'if', 'you', 'play', 'some', 'sport', 'like', 'basebal', ',', 'hand-ey', 'is', 'one', 'of', 'the', 'most', 'import', 'element', '.', 'whi', 'not', 'make', 'that', 'stronger', 'off', 'of', 'the', 'feild', '?', 'also', ',', 'hand-ey', 'can', 'be', 'use', 'to', '@', 'organization1', 'while', 'take', 'note', '.', 'hand-ey', 'is', 'involv', 'with', 'almost', 'everyth', 'you', 'do', '.', 'you', 'ca', \"n't\", 'have', 'a', 'poor', 'hand-ey', 'coordin', 'or', 'el', 'you', 'wo', \"n't\", 'be', 'abl', 'to', 'function', 'properli', '.', '@', 'num1', 'out', 'of', '@', 'num2', 'doctor', 'agre', 'that', 'hand-ey', 'veri', 'import', 'for', 'healthi', 'live', '.', 'i', 'love', 'to', 'travel', ',', 'but', 'i', 'want', 'to', 'know', 'about', 'the', 'place', 'i', \"'m\", 'go', 'to', 'befor', 'i', 'get', 'on', 'the', 'phone', 'to', 'go', 'there', '.', \"''\", 'said', '@', 'person1', ',', 'a', 'scienc', 'teacher', 'at', '@', 'organization1', '.', 'he', 'feel', 'the', 'way', ',', 'i', \"'m\", 'sure', ',', 'a', 'lot', 'of', 'peopl', 'feel', '.', 'they', 'want', 'to', 'know', 'about', 'the', 'place', 'they', 'are', 'go', 'to', 'and', 'they', 'want', 'it', 'to', 'be', 'current', '.', 'the', 'comput', 'ha', 'plenti', 'inform', 'about', 'a', 'lot', 'of', 'differ', 'place', 'in', 'the', 'world', '.', 'some', 'book', 'do', \"n't\", 'offer', 'a', 'much', 'inform', 'or', 'they', 'need', 'to', 'be', 'updat', '.', 'comput', 'are', 'also', 'veri', 'good', 'for', 'learn', 'about', 'other', 'cultur', 'and', 'tradit', '.', 'no', 'one', 'want', 'to', 'be', 'ignor', 'right', '?', 'peopl', 'want', 'to', 'know', 'what', \"'s\", 'go', 'on', 'in', 'the', 'world', 'quick', 'and', 'easi', '.', 'the', 'comput', 'doe', 'thi', '.', 'i', 'rememb', 'when', 'i', 'wa', 'about', '@', 'num2', ',', 'our', 'phone', 'broke', 'in', 'our', 'hous', '.', 'we', 'could', \"n't\", 'go', 'out', 'and', 'get', 'one', 'right', 'away', 'either', '.', 'the', 'onli', 'way', 'we', 'were', 'abl', 'to', 'commun', 'with', 'our', 'famili', 'and', 'friend', 'wa', 'by', 'comput', '.', 'the', 'comput', 'made', 'it', 'easier', 'to', 'e-mail', 'everyon', 'and', 'tell', 'them', 'whi', 'we', 'were', \"n't\", 'answer', 'our', 'hous', 'phone', '.', 'thi', 'happen', 'more', 'often', 'than', 'you', 'think', '.', 'peopl', 'need', 'to', 'commun', 'through', 'comput', 'a', 'lot', '.', 'at', 'work', ',', 'if', 'you', 'need', 'to', 'talk', 'to', 'an', 'employe', 'or', 'co-work', 'and', 'you', 'ca', \"n't\", 'leav', 'your', 'desk', ',', 'you', 'can', 'just', 'e-mail', 'the', 'inform', 'to', 'them', '.', '@', 'num4', 'out', 'of', '@', 'num2', 'employe', 'say', 'that', 'it', 'is', 'much', 'faster', 'and', 'easier', 'to', 'e-mail', 'inform', 'a', 'oppos', 'to', 'talk', 'them', 'on', 'the', 'phone', 'or', 'in', 'person', '.', 'a', 'lot', 'of', 'peopl', 'agre', 'that', 'comput', 'make', 'life', 'a', 'lot', 'easier', '.', 'comput', 'teach', 'hand-ey', 'coordin', 'and', 'they', 'let', 'you', 'commun', 'with', 'other', 'peopl', '.', 'the', 'most', 'critic', 'reason', 'is', 'that', 'comput', 'let', 'peopl', 'learn', 'about', 'faraway', 'place', 'and', 'peopl', '.', 'you', 'can', 'make', 'a', 'differ', 'in', 'the', 'way', 'peopl', 'feel', 'about', 'comput', '.', 'write', 'to', 'your', 'local', 'newspap', '.', 'it', \"'s\", 'now', 'or', 'never', '!', \"''\"], ['dear', 'reader', ',', '@', 'organization1', 'ha', 'had', 'a', 'dramat', 'effect', 'on', 'human', 'life', '.', 'it', 'ha', 'chang', 'the', 'way', 'we', 'do', 'almost', 'everyth', 'today', '.', 'the', 'most', 'well', 'know', ',', 'is', 'the', 'comput', '.', 'thi', 'devic', 'ha', 'allow', 'peopl', 'do', 'buy', 'thing', 'onlin', ',', 'talk', 'to', 'peopl', 'onlin', ',', 'and', 'also', 'provid', 'entertain', 'for', 'some', 'peopl', '.', 'all', 'good', 'qualiti', 'that', 'make', 'everyon', 'live', 'easier', '.', 'imagin', 'you', 'look', 'into', 'your', 'refriger', 'and', 'you', 'notic', 'it', \"'s\", 'almost', 'empti', '.', 'someon', 'is', 'use', 'the', 'car', 'and', 'you', 'need', 'to', 'go', 'groceri', 'shop', 'and', 'the', 'store', 'is', 'too', 'far', '.', 'what', 'do', 'you', 'do', '?', 'well', 'you', 'could', 'go', 'on', 'a', 'comput', 'and', 'look', 'for', 'food', 'onlin', '.', 'ther', 'are', 'mani', 'great', 'deal', 'and', 'some', 'compani', 'even', 'deliv', 'for', 'free', '!', 'the', 'amaz', 'and', 'easi', 'way', 'to', 'buy', 'food', 'without', 'leav', 'your', 'hous', '.', 'but', 'food', 'is', \"n't\", 'all', 'you', 'can', 'purchas', '.', 'mani', 'product', 'are', 'sold', 'through', 'the', 'comput', '.', 'need', 'new', 'toy', 'for', 'kid', '?', 'or', 'how', 'about', 'a', 'new', 'hat', 'for', 'your', 'friend', '?', 'mayb', 'even', 'more', 'curtain', 'for', 'your', 'room', '?', 'well', 'at', 'the', 'easi', 'access', 'of', 'internet', 'on', 'a', 'comput', ',', 'you', 'can', 'buy', 'all', 'those', 'item', 'and', 'more', '.', 'the', 'comput', 'ha', 'also', 'the', 'way', 'of', 'commun', '.', 'let', \"'s\", 'say', 'someon', 'want', 'to', 'talk', 'to', 'a', 'friend', 'or', 'rel', 'that', 'live', 'far', 'away', 'in', 'anoth', 'countri', '.', '@', 'caps1', 'someon', 'dose', \"n't\", 'own', 'a', 'phone', 'or', '@', 'caps1', 'they', 'ca', \"n't\", 'make', 'the', 'call', ',', 'all', 'these', 'is', 'to', 'be', 'in', 'you', 'on', 'the', 'comput', '.', 'you', 'can', 'commun', 'with', 'anyon', 'just', 'by', 'use', 'your', 'email', 'adress', '.', 'now', 'friend', 'and', 'famili', 'can', 'talk', 'to', 'each', 'other', 'over', 'the', 'ea', 'of', 'the', 'comput', '.', 'just', 'type', 'to', 'want', 'to', 'say', 'and', '``', 'boom', ',', \"''\", 'instant', ',', 'on', 'the', 'chat', '.', 'let', \"'s\", 'face', 'it', '.', 'no', 'matter', 'what', 'a', 'child', 'or', 'even', 'teenag', '.', 'but', 'now', 'with', 'a', 'comput', 'all', 'that', 'can', 'chang', '.', 'with', 'just', 'one', 'click', 'you', 'could', 'actual', 'be', 'watch', 'a', 'movi', 'from', 'the', 'comfort', 'of', 'your', 'own', 'home', '.', 'but', 'what', '@', 'caps1', 'you', 'do', \"n't\", 'want', 'a', 'movi', '?', 'no', 'entertain', 'like', 'list', 'to', 'music', ',', 'watch', 'fun', ',', 'and', 'probabl', 'the', 'most', 'popular', 'play', 'game', '.', 'everyon', 'love', 'to', 'play', 'a', 'game', 'everi', 'onc', 'in', 'a', 'while', ',', 'and', 'with', 'the', 'select', 'of', 'thousand', 'of', 'onlin', 'game', ',', 'these', 'is', \"n't\", 'or', 'person', 'who', 'ca', \"n't\", 'fled', 'atleast', 'our', 'game', 'enjoy', '.', 'there', 'are', 'even', 'game', 'for', 'educ', 'fun', 'that', 'mani', 'kid', 'love', '.', 'with', 'all', 'the', 'entertain', 'a', 'comput', 'can', 'produc', ';', 'who', 'could', 'hate', 'it', '?', 'all', 'in', 'all', 'the', 'comput', 'is', 'a', 'revolutin', 'devic', 'that', 'ha', 'chang', 'the', 'way', 'we', 'shop', ',', 'commun', ',', 'and', 'find', 'excit', 'entertain', '.', 'to', 'be', 'abl', 'to', 'do', 'so', 'much', 'with', 'just', 'a', 'coupl', 'click', ';', 'new', 'that', 'i', 'find', 'extravag', '.', 'it', 'blow', 'my', 'mind', 'to', 'see', 'and', 'think', ',', '``', '@', 'caps1', 'we', 'can', 'do', 'thi', 'now', ',', 'i', 'wonder', 'what', 'we', 'can', 'accomplish', 'in', 'the', 'futur', '.'], ['in', 'the', '@', 'location1', 'we', 'have', 'the', 'technolog', 'of', 'a', 'comput', '.', 'some', 'say', 'that', 'the', 'comput', 'are', 'good', 'for', 'the', 'societi', '.', 'i', 'disagre', ',', 'i', 'believ', 'that', 'it', 'is', 'bad', 'for', 'a', 'few', 'reason', '.', 'some', 'of', 'the', 'reason', 'are', 'obes', ',', 'cramp', ',', 'more', 'sexual', 'harrass', 'and', 'even', 'cyber', 'bulli', '.', 'first', 'if', 'peopl', 'do', \"n't\", 'get', 'off', 'the', 'comput', 'and', 'go', 'out', 'to', 'exercis', 'then', 'it', 'will', 'caus', 'obes', '.', 'think', 'of', 'it', 'thi', 'way', ',', 'if', 'you', 'watch', 'a', 'kid', 'that', 'did', \"n't\", 'have', 'to', 'go', 'to', 'school', 'hi', 'entir', 'life', 'and', 'he', 'start', 'off', 'at', '@', 'num1', 'pound', '.', 'the', 'onli', 'thing', 'the', 'kid', 'will', 'want', 'to', 'do', 'is', 'play', 'on', 'the', 'comput', 'and', 'he', 'will', 'gain', 'weight', '.', 'next', ',', 'tip-top-tip-top', ',', 'that', \"'s\", 'all', 'you', 'hear', 'when', 'a', 'kid', 'is', 'on', 'the', 'comput', ',', '@', 'caps1', 'teen', 'come', 'home', 'from', 'school', 'and', 'go', 'straight', 'to', 'the', 'comput', 'and', 'do', \"n't\", 'get', 'off', 'about', 'on', 'a', 'school', 'night', '.', 'these', 'are', 'the', 'kid', 'that', 'are', '@', 'caps1', 'like', 'to', 'get', 'bad', 'cramp', '.', 'they', 'get', 'the', 'cramp', 'form', 'type', 'to', 'fast', ',', 'hard', 'and', 'too', 'long', '.', 'they', 'also', 'can', 'get', 'the', 'cramp', 'from', 'just', 'sit', 'down', 'for', 'to', 'long', 'then', 'tri', 'to', 'get', 'up', 'but', 'ca', \"n't\", 'becaus', 'it', 'hurt', 'to', 'much', 'to', 'decid', 'to', 'move', 'anywher', '.', 'there', \"'s\", 'also', 'a', 'lot', 'more', 'of', 'sexual', 'harass', 'that', 'is', 'go', 'on', 'some', 'kid', 'goin', 'to', 'a', 'chat', 'room', 'to', 'talk', 'to', 'their', 'friend', 'about', 'some', 'great', 'news', ',', 'but', 'when', 'they', 'get', 'out', 'of', 'the', 'chat', 'room', 'they', 'are', 'all', 'mad', 'and', 'piss', 'off', '.', 'the', 'reason', 'is', 'becaus', 'someon', 'wa', 'make', 'fun', 'of', 'them', 'and', 'they', 'did', \"n't\", 'like', 'it', '.', 'thi', 'happen', 'mayb', 'close', 'to', '@', 'percent1', 'of', 'the', 'time', 'that', 'teen', 'and', 'even', 'parent', 'go', 'into', 'chat', 'room', 'onlin', '.', 'thi', 'is', 'the', 'third', 'reason', 'on', 'whi', 'comput', 'have', 'an', 'huge', 'effect', 'on', 'peopl', '.', 'the', 'last', 'reason', 'that', 'comput', 'have', 'a', 'huge', 'effect', 'on', 'peopl', 'is', 'becaus', 'of', 'cyberbulli', '.', 'cyberbulli', 'is', 'when', 'someon', 'bulli', 'you', 'but', 'just', 'onlin', 'instead', '.', 'have', 'you', 'realiz', 'that', 'child', 'becam', 'poor', 'or', 'sick', 'becaus', 'they', 'dont', 'want', 'to', 'be', 'hurt', 'or', 'kill', 'over', 'someth', 'veri', 'stupid', '?', 'well', ',', 'i', 'have', 'and', 'it', \"'s\", 'not', 'nice', ',', 'and', 'now', 'the', 'god', 'thing', 'is', 'if', 'a', 'kid', 'goe', 'to', 'school', 'onlin', 'he/sh', '@', 'month1', 'get', 'cyberbulli', 'becaus', 'he', \"'s\", 'not', 'smart', 'enough', 'or', 'if', 'he/sh', 'do', \"n't\", 'have', 'the', 'money', 'to', 'go', 'to', 'school', '.', 'the', 'cyberbulli', 'normal', 'occur', 'in', 'a', 'chat', 'room', 'onlin', '.', 'there', 'is', 'where', 'all', 'of', 'the', 'famili', 'will', 'either', 'becom', 'broke', 'with', 'no', 'money', 'or', 'food', '.', 'they', '@', 'month1', 'even', 'lose', 'their', 'kid', 'or', 'the', 'hous', 'that', 'they', 'live', 'in', 'becaus', 'someon', 'want', 'to', 'act', 'all', 'big', 'and', 'bad', 'to', 'be', 'popular', 'in', 'school', '.', 'in', 'conclus', ',', 'these', 'are', 'onli', 'a', 'few', 'way', 'that', 'comput', 'effect', 'peopl', '.', 'the', 'obes', ',', 'cramp', ',', 'sexual', 'harrass', 'and', 'cyberbulli', 'are', 'not', 'a', 'joke', 'and', 'it', \"'s\", 'not', 'fun', 'to', 'get', 'done', 'to', 'you', '.', 'now', 'it', \"'s\", 'your', 'turn', 'to', 'tell', 'u', 'what', 'you', 'think', 'about', 'the', 'comput', '.', 'do', 'you', 'think', 'comput', 'are', 'good', 'and', 'benefit', 'societi', 'or', 'is', 'it', 'bad', 'a', 'rot', 'littl', 'kid', 'brain', 'to', 'make', 'their', 'live', 'horribl', 'for', 'them', 'to', 'live', 'with', '?'], ['dear', '@', 'location1', ',', '@', 'caps1', 'peopl', 'acknowledg', 'the', 'great', 'advanc', 'that', 'comput', 'give', 'u', ',', 'but', 'they', 'also', 'put', 'u', 'at', '@', 'caps1', 'disadvantag', '.', 'comput', 'have', 'been', 'known', 'to', 'help', 'develop', 'health', 'issu', '.', 'a', 'peopl', 'becom', 'more', 'intun', 'with', 'the', 'onlin', 'world', ',', 'they', 'tend', 'to', 'interact', 'with', 'their', 'famili', 'le', '.', 'do', \"n't\", 'forget', 'the', 'danger', 'of', 'onlin', 'predat', '-', 'they', \"'re\", 'deadli', '.', '@', 'caps1', 'peopl', 'who', 'do', 'noth', ',', 'but', 'watch', 'televis', 'are', 'often', 'refer', 'to', 'a', 'cauch', 'potato', '.', 'those', 'who', 'are', 'glu', 'to', 'their', 'comput', 'screen', 'are', 'no', 'better', '.', 'it', 'is', 'state', 'by', 'numer', 'of', '@', 'location2', \"'s\", 'top', 'doctor', 'that', 'too', 'much', 'time', 'spent', 'on', 'the', 'comput', 'can', 'caus', 'damag', 'to', 'your', 'health', '.', 'exercis', 'is', 'highli', 'stress', 'by', 'doctor', 'around', 'the', 'globe', 'and', 'the', 'onli', 'exercis', 'a', 'comput', 'addict', 'will', 'be', 'do', 'is', 'type', 'up', 'a', 'storm', '.', 'they', 'can', 'submerg', 'themselv', 'into', 'obes', '.', 'thi', 'often', 'caus', 'depress', 'a', 'it', 'begin', 'to', 'sink', 'in', '.', 'addit', 'itself', 'is', 'a', 'seriou', 'health', 'issu', '.', 'i', 'would', \"n't\", 'be', 'surpris', 'if', 'they', 'add', 'a', 'comput', 'wing', 'to', 'rehab', 'center', 'sometim', 'in', 'the', 'near', 'futur', '.', 'these', 'problem', 'are', 'slowli', 'spread', 'and', 'we', 'must', 'come', 'togeth', 'to', 'abolish', 'them', '!', 'famili', 'time', 'is', 'an', 'treasur', 'valu', ',', 'to', 'the', '@', 'caps2', 'peopl', ',', 'but', 'late', ',', 'comput', 'are', 'ruin', 'thi', 'tradit', '.', 'with', 'so', '@', 'caps1', 'peopl', 'absorb', 'with', 'onlin', 'drama', ',', 'friend', ',', 'and', 'even', 'video', 'game', ',', 'famili', 'interact', 'is', 'declin', '.', 'peopl', 'slowli', 'remov', 'themselv', 'from', 'realiti', 'and', 'enter', 'an', 'altern', 'world', 'of', 'cyberspac', '.', 'they', '@', 'month1', 'onli', 'emerg', 'from', 'their', 'room', 'to', 'use', 'the', 'bathroom', 'and', 'eat', ',', 'scarc', 'rest', '.', 'thi', 'can', 'caus', 'great', 'tension', 'or', 'sorrow', 'in', '@', 'caps1', 'famili', '.', 'who', 'can', 'era', 'the', 'horrifi', 'stori', 'of', 'abduct', 'from', 'their', 'memori', '?', 'onlin', 'predat', 'are', 'highli', 'danger', 'and', 'extrem', 'clever', '.', 'your', 'child', 'could', 'be', 'talk', 'to', 'someon', 'they', 'believ', 'is', 'anoth', 'teenag', 'look', 'for', 'a', 'friend', 'to', 'consol', 'in', 'when', ',', 'realli', ',', 'they', 'are', 'a', 'forty-year-old', 'serial', 'killer', 'wait', 'to', 'find', 'the', 'right', 'time', 'to', 'attack', '.', 'studi', 'show', 'that', 'one', 'fourth', 'of', 'onlin', 'user', 'have', 'had', 'an', 'encount', 'with', 'a', 'danger', 'person', '.'], ['dear', '@', 'caps1', '@', 'caps2', 'i', 'feel', 'that', 'comput', 'do', 'take', 'away', 'from', 'peopl', 'life', 'and', 'aren', '’', 't', 'a', 'import', 'than', 'the', 'other', 'factor', 'of', 'life', '.', 'first', 'of', 'all', 'you', 'know', 'that', 'the', 'world', 'is', 'becom', 'obeas', 'becaus', 'of', 'lack', 'of', 'exercis', '.', 'also', 'peopl', 'do', \"n't\", 'realiz', 'that', '@', 'caps3', 'warm', 'is', 'becom', 'a', 'big', 'problum', '.', 'final', 'famili', 'ar', \"n't\", 'a', 'close', 'a', 'they', 'use', 'to', 'be', '.', 'these', 'are', 'all', 'the', 'reason', 'whi', 'comput', 'ar', \"n't\", 'import', 'to', 'human', 'socioti', '.', 'first', 'of', 'the', 'world', 'is', 'becom', 'obeas', 'and', 'cumput', 'play', 'a', 'huge', 'part', 'in', 'thi', '.', 'comput', 'do', \"n't\", 'make', 'peopl', 'exercis', 'they', 'basicli', 'just', 'sit', 'down', 'on', 'there', 'couch', 'and', 'use', 'the', 'comput', 'thi', 'wo', \"n't\", 'help', 'amarica', 'get', 'back', 'into', 'shape', '.', 'also', 'comput', 'becom', 'a', 'habbit', 'if', 'a', 'person', 'use', 'a', 'comput', 'everyday', 'of', 'there', 'life', 'it', 'will', 'becom', 'an', 'addict', 'then', 'they', 'wo', \"n't\", 'be', 'abl', 'to', 'stop', '.', 'final', 'when', 'peopl', 'use', 'the', 'comput', 'they', 'do', \"n't\", 'realiz', 'the', 'lack', 'exersis', 'there', 'get', '.', 'thi', 'is', 'the', 'first', 'reason', 'whi', 'computer', 'are', 'a', 'bad', 'thing', '.', 'next', '@', 'caps3', 'warm', 'is', 'mealt', 'the', 'polar', 'ice', 'cap', '.', 'comput', 'play', 'a', 'part', 'in', '@', 'caps3', 'warm', 'becaus', 'they', 'use', 'electricti', 'and', 'thjen', 'the', 'electris', 'melt', 'the', 'polar', 'ice', 'cap', '.', 'if', 'thi', 'keep', 'happin', 'then', 'they', 'will', 'all', 'melt', 'and', 'we', 'will', 'not', 'have', 'a', 'shorlin', 'and', 'half', 'of', 'the', 'world', 'will', 'be', 'flude', '.', 'final', 'comput', 'play', 'a', 'huge', 'part', 'in', '@', 'caps3', 'warm', 'becaus', 'of', 'the', 'fact', 'that', 'they', 'are', 'so', 'popular', '.', 'thi', 'is', 'anoth', 'reason', 'whi', 'comput', 'are', 'bad', '.', 'final', 'the', 'last', 'reason', 'whi', 'comput', 'are', 'bad', 'is', 'becaus', 'they', 'take', 'away', 'from', 'your', 'famili', 'life', '.', 'for', 'instanc', 'there', 'are', 'more', 'and', 'more', 'famili', 'split', 'up', 'now', 'and', 'sientest', 'sat', 'that', '@', 'percent1', 'of', 'the', 'time', 'it', \"'s\", 'becaus', 'of', 'technolagi', '.', 'when', 'on', 'peroson', 'is', 'on', 'the', 'comput', 'the', 'other', 'peopl', 'feel', 'that', 'they', 'love', 'the', 'comput', 'more', 'than', 'they', 'love', 'themself', '.', 'then', 'they', 'split', 'up', 'for', 'good', '.', 'thi', 'is', 'the', 'last', 'reason', 'whi', 'i', 'feel', 'comput', 'are', 'bad', '.', 'in', 'conclut', 'you', 'can', 'see', 'that', 'computer', 'are', 'a', 'bad', 'thing', '.', 'first', 'of', 'all', 'you', 'can', 'see', 'that', 'amarica', 'is', 'becom', 'obeas', 'becaus', 'of', 'the', 'comput', '.', 'also', 'comput', 'are', 'caus', '@', 'caps3', 'warm', 'and', 'are', 'eventu', 'goung', 'to', 'flood', 'the', 'earth', '.', 'and', 'last', 'but', 'not', 'least', 'comput', 'take', 'away', 'from', 'peopl', 'famili', 'life', 'and', 'caus', 'them', 'to', 'split', 'up', 'and', 'becom', 'unhappi', '.', 'these', 'are', 'all', 'the', 'reason', 'whi', 'comput', 'are', 'bad', '.'], ['dear', 'local', 'newspap', 'i', 'ra', 'ur', 'argument', 'on', 'the', 'comput', 'and', 'i', 'think', 'they', 'are', 'a', 'posit', 'effect', 'on', 'peopl', '.', 'the', 'first', 'reson', 'i', 'think', 'they', 'are', 'a', 'good', 'effect', 'is', 'becaus', 'you', 'can', 'do', 'so', 'much', 'with', 'them', 'like', 'if', 'you', 'live', 'in', 'mane', 'and', 'ur', 'cuzin', 'live', 'in', 'califan', 'you', 'and', 'him', 'could', 'have', 'a', 'wed', 'chat', '.', 'the', 'second', 'thing', 'you', 'could', 'do', 'is', 'look', 'up', 'news', 'ani', 'were', 'in', 'the', 'world', 'you', 'could', 'be', 'stuck', 'on', 'a', 'plane', 'and', 'it', 'would', 'be', 'vari', 'bore', 'when', 'you', 'can', 'take', 'but', 'ur', 'comput', 'and', 'go', 'on', 'ur', 'comput', 'at', 'work', 'and', 'start', 'do', 'work', '.', 'when', 'you', 'said', 'it', 'take', 'away', 'from', 'exirsi', 'well', 'some', 'peopl', 'use', 'the', 'comput', 'for', 'that', 'too', 'to', 'chart', 'how', 'fast', 'they', 'run', 'or', 'how', 'meni', 'mile', 'they', 'want', 'and', 'sometim', 'what', 'they', 'eat', '.', 'the', 'thrid', 'reson', 'is', 'some', 'peolp', 'job', 'are', 'on', 'the', 'comput', 'or', 'make', 'comput', 'for', 'exmpl', 'when', 'you', 'made', 'thi', 'artic', 'you', 'didnt', 'use', 'a', 'type', 'writer', 'you', 'use', 'a', 'comput', 'and', 'print', 'it', 'out', 'if', 'we', 'didnt', 'have', 'comput', 'it', 'would', 'make', 'ur', '@', 'caps1', 'a', 'lot', 'harder', '.', 'thank', 'you', 'for', 'read', 'and', 'whe', 'you', 'are', 'think', 'adout', 'it', 'agen', 'plea', 'consit', 'my', 'thrie', 'reson', '.'], ['my', 'three', 'detail', 'for', 'thi', 'news', 'paper', 'articl', 'is', 'one', 'state', 'you', 'opinion', 'about', 'the', 'effect', 'of', 'comput', '.', 'second', 'give', 'detail', 'reson', 'that', 'will', 'persuad', 'of', 'the', 'local', 'newspap', 'to', 'agre', 'with', 'yor', 'postit', '.', 'thi', 'are', 'my', 'three', 'idea', 'to', 'the', 'news', 'paper', 'articl', '.', 'to', 'bigin', 'my', 'opinion', 'about', 'the', 'comput', 'effect', 'are', 'wast', 'time', '.', 'mani', 'peopl', 'wast', 'time', 'comput', 'like', 'fat', 'peopl', 'inst', 'by', 'inst', 'by', 'in', 'the', 'comput', 'go', 'and', 'run', 'or', 'exercis', '.', 'inst', 'be', 'comput', 'go', 'out', 'ur', 'girlfriend', 'or', 'famili', 'or', 'famili', 'or', 'friend', 'to', 'have', 'fun', '.', 'so', 'be', 'incomput', 'to', 'long', 'is', 'bad', 'mani', 'kid', 'wach', 'bad', 'stuff', 'like', 'for', 'adult', '.', 'is', 'good', 'to', 'be', 'in', 'comput', 'but', 'not', 'to', 'long', '.', 'to', 'start', 'you', 'shod', 'agre', 'with', 'me', 'becasu', 'my', 'detail', 'and', 'my', 'reason', '.', 'my', 'reson', 'are', 'mani', 'air', 'the', 'ba', 'stuff', 'like', 'porn', '.', 'mani', 'kid', 'wach', 'that', 'it', 'ruin', 'ther', 'mainli', 'and', 'the', 'futur', '.', 'they', 'get', 'addict', 'to', 'that', 'watch', '.', 'so', 'peopl', 'that', 'use', 'comput', 'for', 'good', 'stuff', 'it', 'old', 'for', 'mid', 'for', 'good', 'gane', 'of', 'good', '.', 'thi', 'are', 'my', 'detail', 'and', 'reson', 'for', 'yor', 'with', 'me', '.', 'to', 'bigin', 'and', 'go', 'to', 'organ', 'my', 'idea', 'and', 'well', 'and', 'present', 'them', 'clearli', '.', 'it', 'good', 'to', 'be', 'at', 'the', 'comput', 'but', 'not', 'the', 'long', 'inst', 'go', 'out', 'plat', 'and', 'exersu', '.', 'abd', 'yor', 'can', 'enjoy', 'life', 'inst', 'be', 'in', 'comput', '.', 'the', 'bad', 'thing', 'mani', 'kid', 'wach', 'bad', 'stuff', 'and', 'cmputer', 'ha', 'relli', 'bad', 'staff', '.', 'the', 'comput', 'is', 'use', 'for', 'evry', 'thing', 'thi', 'day', '.', 'thi', 'how', 'organ', 'my', 'idea', '.', 'in', 'conclus', 'thi', 'are', 'my', 'idea', 'for', 'the', 'news', 'papaer', '.', 'ol', 'i', 'state', 'my', 'opinion', 'on', 'comput', 'effect', '.', 'i', 'give', 'detail', 'and', 'reson', 'that', 'will', 'persuad', 'local', 'news', 'paper', 'and', 'to', 'agre', 'with', 'me', '.', 'think', 'i', 'organ', 'my', 'idea', 'a', 'much', 'present', 'them', 'clearli', '.', 'thi', 'are', 'my', 'idea', 'so', 'could', 'new', 'papaer', 'to', 'se', 'comput', 'effect', '.'], ['dear', ',', 'in', 'thi', 'world', 'today', 'we', 'should', 'have', 'everyon', 'use', 'comput', '.', 'comput', 'have', 'a', 'posit', 'effect', 'on', 'peopl', '.', 'they', 'teach', 'hand-ey', 'coordin', ',', 'give', 'peopl', 'the', 'abil', 'to', 'learn', 'about', 'faraway', 'place', 'and', 'peopl', ',', 'and', 'even', 'allow', 'peopl', 'to', 'talk', 'onlin', 'with', 'other', 'peopl', '.', 'today', 'comput', 'are', 'like', 'the', 'world', 'biggest', 'book', 'of', 'knowledg', '.', 'everyth', 'you', 'need', 'to', 'know', 'is', 'in', 'a', 'comput', '.', 'you', 'can', 'look', 'up', 'faraway', 'place', ',', 'and', 'zap', 'there', 'everyth', 'you', 'need', 'to', 'know', 'write', 'in', 'front', 'of', 'you', '.', 'comput', 'are', 'fast', 'and', 'easi', ',', 'everyon', 'can', 'use', 'them', '.', 'today', 'kid', 'are', 'so', 'addict', 'to', 'comput', 'everyday', 'they', 'are', 'on', 'them', '.', 'there', 'are', 'so', 'mani', 'websit', 'that', 'kid', 'and', 'teen', 'go', 'on', ',', 'like', '@', 'caps1', ',', 'and', 'facebook', 'ect', '.', 'on', 'these', 'websit', 'kid', 'a', 'young', 'a', 'ten', 'year', 'old', 'are', 'chat', 'with', 'friend', 'and', 'put', 'up', 'pictur', '.', 'ther', 'is', 'also', 'webchat', 'websit', 'that', 'allow', 'you', 'to', 'use', 'a', 'webcam', 'and', 'talk', 'to', 'peopl', 'anywher', 'in', 'the', 'world', '.', 'comput', 'are', 'a', 'great', 'way', 'to', 'get', 'in', 'touch', 'with', 'peopl', '.', 'everyon', 'should', 'have', 'a', 'comput', 'in', 'there', 'home', 'today', '.'], ['dear', '@', 'organization1', ',', 'the', 'comput', 'blink', 'to', 'life', 'and', 'an', 'imag', 'of', 'a', 'blond', 'hair', 'girl', 'fill', 'the', 'screen', '.', 'it', 'wa', 'easi', 'to', 'find', 'out', 'how', 'life', 'wa', 'in', '@', 'location2', ',', 'thank', 'to', 'the', 'actual', '@', 'caps1', 'girl', 'explain', 'it', '.', 'go', 'to', 'the', 'librari', 'would', \"n't\", 'have', 'fill', 'one', 'with', 'thi', 'priceless', 'inform', 'and', 'human', 'interect', '.', 'comput', 'are', 'a', 'ness', 'of', 'life', 'if', 'soceiti', 'wish', 'to', 'grow', 'and', 'expand', '.', 'they', 'should', 'be', 'support', 'becaus', 'they', 'teach', 'hand', 'eye', 'coordin', ',', 'give', 'peopl', 'the', 'abil', 'to', 'learn', 'about', 'faraway', 'place', ',', 'and', 'allow', 'peopl', 'to', 'talk', 'to', 'other', 'onlin', '.', 'firstli', ',', 'comput', 'help', 'teach', 'hand', 'eye', 'coordin', '.', 'hand-ey', 'coordin', 'is', 'a', 'use', 'abil', 'that', 'is', 'usod', 'to', 'excel', 'in', 'sport', '.', 'in', 'a', 'recent', 'survey', ',', '@', 'percent1', 'of', 'kid', 'felt', 'their', 'hand', 'eye', 'coordin', 'improv', 'after', 'comput', 'use', '.', 'even', 'a', 'simpl', 'thing', 'like', 'tie', 'can', 'build', 'up', 'thi', 'skill', '.', 'famou', 'neurologist', '@', 'caps2', '@', 'person1', 'state', 'in', 'an', 'articl', 'last', 'week', 'that', ',', '``', '@', 'caps3', 'and', 'comput', 'strength', 'the', '@', 'caps2', '.', 'when', 'on', 'the', 'comput', ',', 'you', 'automat', 'process', 'what', 'the', 'eye', 'see', 'into', 'a', 'command', 'for', 'your', 'hand', '.', \"''\", '@', 'caps4', 'hand', 'eye', 'coordin', 'can', 'improv', 'peopl', 'in', 'sport', 'such', 'a', 'basebal', 'and', 'basketbal', '.', 'if', 'someon', 'wa', \"n't\", 'to', 'becom', 'better', 'in', 'these', 'sport', ',', 'all', 'they', \"'d\", 'need', 'to', 'do', 'wa', 'turn', 'on', 'the', 'comput', '.', 'onc', 'peopl', 'becom', 'better', 'at', 'sport', ',', 'they', \"'re\", 'more', 'like', 'to', 'play', 'them', 'and', 'becom', 'more', 'healthi', '.', 'in', 'realiti', ',', 'comput', 'can', 'help', 'with', 'exercis', 'instead', 'of', 'decreas', 'it', '.', 'additionali', ',', 'comput', 'allow', 'peopl', 'to', 'access', 'inform', 'about', 'faraway', 'place', 'and', 'peopl', '.', 'if', 'someon', 'want', 'to', 'reasearch', '@', 'location1', ',', 'all', 'they', \"'d\", 'need', 'to', 'do', 'wa', 'type', 'in', 'a', 'search', 'would', 'be', 'present', 'to', 'them', 'in', 'it', 'would', 'link', 'forev', 'to', 'search', 'through', 'countless', 'thing', '.', 'also', ',', 'have', 'the', 'abil', 'to', 'learn', 'about', 'cultur', 'can', 'make', 'peol', 'peol', 'and', 'their', 'cultur', ',', 'they', 'understand', 'other', 'someth', '.', 'increas', 'toler', 'peopl', 'are', '.', 'comput', 'are', 'a', 'resourc', 'tool', 'that', 'they', 'can', 'help', 'peopl', 'in', 'everi', 'differ', 'aspect', 'of', 'life', '.', 'lastli', ',', 'comput', 'and', 'in', 'technolog', 'can', 'allow', 'peopl', 'to', 'chat', '.', 'comput', 'chat', 'and', 'video', 'chat', 'can', 'help', 'the', 'all', 'differ', 'nation', '.', 'bring', 'on', 'good', 'term', 'place', 'other', 'than', 'can', 'help', 'u', 'understand', 'stori', 'come', 'out', 'about', 'someth', 'that', 'happend', 'in', '@', 'location3', ',', 'peopl', 'can', 'just', 'go', 'on', 'their', 'comput', 'and', 'ask', 'an', 'actual', '@', 'location3', 'citizen', 'their', 'take', 'on', 'the', 'matter', '.', 'also', ',', 'video', 'chat', 'and', 'onlin', 'convers', 'can', 'cut', 'down', 'on', 'expens', 'phone', 'bill', '.', 'no', 'one', 'want', 'to', 'pay', 'more', 'than', 'they', 'have', 'to', 'in', 'thi', 'economi', '.', 'anoth', 'good', 'point', 'is', 'that', 'you', 'can', 'ace', 'famili', 'member', 'you', 'scaresli', 'visit', '.', 'it', 'can', 'help', 'you', 'connect', 'within', 'your', 'own', 'famili', 'more', '.', 'ovious', ',', 'comput', 'are', 'a', 'use', 'aid', 'in', 'today', 'era', '.', 'their', 'advanc', 'push', 'the', 'world', 'foreward', 'to', 'a', 'better', 'place', '.', 'comput', 'can', 'help', 'peopl', 'becaus', 'they', 'help', 'teach', 'handey', 'coordin', ',', 'give', 'peopl', 'the', 'biliti', 'to', 'learn', 'about', 'faraway', 'place', 'and', 'peopl', ',', 'and', 'allow', 'peopl', 'to', 'talk', 'onlin', 'with', 'other', '.', 'think', 'of', 'a', 'world', 'with', 'no', 'comput', 'or', 'technological', 'advanc', '.', 'the', 'world', 'would', 'be', 'sector', 'and', 'unifi', ',', 'contact', 'between', 'peopl', 'scare', ',', 'and', 'inform', 'even', '.', 'the', 'internet', 'is', 'like', 'thousand', 'or', 'librari', 'put', 'togeth', '.', 'nobodi', 'would', 'know', 'much', 'about', 'other', 'nation', 'and', 'news', 'would', 'travel', 'slower', '.', 'is', 'that', 'the', 'kind', 'of', 'palc', 'you', 'want', 'peopl', 'to', 'live', 'in', '?'], ['dear', 'local', 'newspap', ',', 'i', 'beliv', 'that', 'comput', 'have', 'a', 'neg', 'effect', 'on', 'peopl', 'live', '.', 'i', 'beliv', 'thi', 'becaus', 'who', 'spend', 'to', 'much', 'time', 'on', 'the', 'comput', 'do', \"n't\", 'get', 'out', 'a', 'much', 'a', 'they', 'should', ',', 'do', \"n't\", 'spend', 'enough', 'time', 'with', 'their', 'famili', ',', 'and', 'the', 'comput', 'ca', \"n't\", 'do', 'everyth', '.', 'my', 'first', 'reason', 'is', 'i', 'beliv', 'that', 'peopl', 'need', 'to', 'get', 'out', 'more', '.', 'when', 'they', 'do', \"n't\", 'get', 'out', ',', 'they', 'do', \"n't\", 'exersis', 'and', 'that', 'is', 'veri', 'unhealthi', '.', 'instead', 'of', 'watch', 'the', 'game', 'or', 'the', 'score', 'they', 'should', 'get', 'out', 'and', 'play', 'the', 'game', '.', 'i', 'also', 'beliv', 'that', 'they', 'should', 'enjoy', 'natur', 'becaus', 'i', 'feel', 'like', 'they', 'are', 'wast', 'the', 'beauti', 'of', 'natur', 'all', 'around', 'them', '.', 'we', 'would', \"n't\", 'want', 'to', 'wast', 'our', 'abil', 'and', 'privalg', 'would', 'we', '?', 'anoth', 'reason', 'is', 'that', 'they', 'do', 'not', 'spend', 'enough', 'time', 'with', 'famili', '.', 'if', 'you', 'have', 'famili', 'near', 'you', ',', 'then', 'you', 'should', 'take', 'advantag', 'of', 'that', 'and', 'interact', 'with', 'one', 'anoth', '.', 'you', 'can', 'have', 'fun', 'with', 'your', 'famili', 'by', 'play', 'game', '.', 'you', 'can', 'also', 'have', 'fun', 'by', 'just', 'hang', 'out', ',', 'which', 'boost', 'your', 'social', 'skill', 'and', 'the', 'comput', 'ca', \"n't\", 'alway', 'do', 'that', ',', 'which', 'bring', 'me', 'to', 'my', 'next', 'point', '.', 'the', 'comput', 'ca', \"n't\", 'do', 'everyth', ',', 'so', 'take', 'advantag', 'of', 'what', 'you', 'have', 'now', '.', 'some', 'comput', 'time', 'is', 'fine', ',', 'but', 'it', 'can', 'be', 'veri', 'danger', 'by', 'get', 'addict', 'to', 'it', '.', 'the', 'comput', '@', 'month1', 'have', 'lot', 'of', 'inform', ',', 'but', 'there', 'is', 'noth', 'that', 'you', 'ca', \"n't\", 'find', 'in', 'a', 'book', '.', 'your', 'comput', 'ca', \"n't\", 'love', 'your', 'dog', ',', 'so', 'there', 'is', 'a', 'reason', 'whi', 'we', 'should', 'get', 'off', 'the', 'comput', '.', 'there', 'are', 'pleanti', 'of', 'other', 'thing', 'that', 'you', 'can', 'do', 'that', 'you', 'ca', \"n't\", 'do', 'on', 'the', 'comput', ',', 'includ', 'sport', ',', 'take', 'care', 'of', 'famili', ',', 'and', 'ani', 'of', 'your', 'hobbi', '.', 'rememb', 'that', 'the', 'comput', '@', 'month1', 'be', 'great', 'from', 'time', 'to', 'time', ',', 'but', 'it', 'can', 'not', 'live', 'your', 'life', 'for', 'you', '.', 'that', 'is', 'whi', 'i', 'beliv', 'that', 'we', 'should', 'spend', 'le', 'time', 'on', 'the', 'comput', ',', 'and', 'more', 'time', 'get', 'out', ',', 'and', 'have', 'fun', 'with', 'famili', ',', 'and', 'that', 'the', 'the', 'comput', 'ca', \"n't\", 'do', 'everyth', '.'], ['dear', 'local', 'newspap', ',', 'i', 'must', 'admit', 'that', 'the', 'expert', 'are', 'centainli', 'right', 'caus', 'i', 'know', 'peopl', 'that', 'stay', 'on', 'the', 'comput', 'all', 'day', 'and', 'that', '’', 's', 'realli', 'not', 'good', 'if', 'you', 'ask', 'me', '.', 'instead', 'of', 'be', 'on', 'comput', 'learn', 'about', 'faraway', 'place', ',', 'and', 'talk', 'to', 'other', 'peopl', ',', 'you', 'should', 'go', 'exercis', ',', 'you', 'should', 'relax', ',', 'and', 'you', 'should', 'interact', 'with', 'famili', 'and', 'friend', '.', 'exercis', 'is', 'much', 'more', 'better', 'than', 'be', 'on', 'a', 'comput', ',', 'and', 'i', 'say', 'that', 'to', 'say', 'thi', '.', 'when', 'your', 'on', 'a', 'comput', 'just', 'sit', 'there', 'play', 'onlin', 'game', 'and', 'check', 'other', 'thing', 'out', ',', 'or', 'whatev', 'the', 'case', '@', 'month1', 'be', ',', 'you', 'get', 'board', ',', 'and', 'hungri', ',', 'and', 'i', 'know', 'there', 'some', 'snack', 'around', 'you', 'while', 'your', 'do', 'whatev', 'your', 'do', '.', 'instead', 'of', 'be', 'on', 'a', 'comput', 'for', '@', 'num1', 'or', '@', 'num2', 'hour', 'or', 'mayb', 'even', 'all', 'day', 'get', 'fat', '.', 'there', 'are', 'mani', 'way', 'you', 'can', 'exercis', '.', 'you', 'can', 'take', 'walk', ',', 'you', 'can', 'go', 'joggin', ',', 'you', 'could', 'play', 'a', 'sport', ',', 'i', 'mean', 'there', 'are', 'a', 'lot', 'of', 'thing', 'you', 'can', 'do', 'when', 'your', 'not', 'on', 'a', 'comput', '.', 'i', 'know', 'some', 'peopl', 'that', 'could', 'be', 'workin', 'all', 'day', 'and', 'still', 'come', 'home', 'to', 'there', 'comput', '.', 'rest', 'is', 'good', 'also', '.', 'you', 'do', \"n't\", 'alway', 'have', 'to', 'jump', 'on', 'your', 'comput', ',', 'you', 'could', 'just', 'relax', 'watch', 'a', 'movi', ',', 'eat', 'some', 'pop', 'corn', 'and', 'just', 'enjoy', 'yourself', ',', 'you', 'could', 'even', 'take', 'a', 'nap', 'for', 'a', 'littl', 'while', 'or', 'someth', 'but', 'you', 'do', \"n't\", 'alway', 'have', 'to', 'get', 'straight', 'on', 'your', 'comput', 'if', 'you', 'realli', 'do', \"n't\", 'have', 'to', 'use', 'it', '.', 'the', 'way', 'i', 'see', 'it', 'is', 'famili', ',', 'and', 'comput', 'are', 'alway', 'go', 'to', 'be', 'there', 'but', 'at', 'the', 'same', 'time', 'which', 'one', 'is', 'more', 'import', '.', 'friend', 'are', \"n't\", 'alway', 'depend', 'so', 'you', 'realli', 'do', \"n't\", 'need', 'them', 'around', 'onli', 'a', 'select', 'few', ',', 'but', 'that', 'not', 'the', 'point', '.', 'both', 'famili', ',', 'and', 'your', 'true', 'friend', 'have', 'feel', ',', 'and', 'if', 'your', 'not', 'spend', 'time', 'with', 'them', 'over', 'a', 'comput', 'that', 'your', 'gon', 'na', 'have', 'when', 'you', 'leav', ',', 'and', 'come', 'back', 'home', 'too', 'someth', 'is', \"n't\", 'right', '.', 'tomorrow', 'is', \"n't\", 'promis', ',', 'we', 'live', 'for', 'today', '.', 'so', 'enjoy', 'life', 'while', 'you', 'got', 'the', 'chanc', ',', 'and', 'spend', 'time', 'do', 'someth', 'activ', ',', 'with', 'famili', 'and', 'friend', ',', 'and', 'if', 'your', 'realli', 'into', 'comput', ',', 'tri', 'to', 'balanc', 'your', 'time', 'out', '.'], ['i', 'aegr', 'waf', 'the', 'evansm', 'ov', 'tnachnolag', '.', 'the', 'evansm', 'ov', 'tnachnolig', 'is', 'be', 'to', 'halp', 'fine', 'a', 'kohar', 'froi', 'alnsa', '.', 'tnanchnolag', 'waf', 'ont', 'ot', 'we', 'wod', 'not', 'go', 'to', 'the', 'moon', '.', 'tnachnolog', 'evan', 'a', 'we', 'maech', 'at', '.', 'the', 'peopl', 'are', 'in', 'tnacholeg', 'to', 'the', 'frchr', 'fror', 'the', 'good', 'ov', 'live', '.', 'fama', 'invanyor', 'ue', 'tnacholag', 'leki', 'lena', 'ord', 'dvans', 'and', 'hi', 'fling', 'mashin', '.', 'tnacholog', 'is', 'the', 'grat'], ['well', 'comput', 'can', 'be', 'a', 'good', 'or', 'a', 'bad', 'thing', '.', 'i', 'don', \"'\", '@', 'caps1', 'reali', 'see', '@', 'caps2', 'comput', 'can', 'be', 'a', 'bad', 'thing', 'for', 'me', '.', 'i', 'also', 'know', '@', 'caps2', 'comput', 'can', 'or', 'will', 'help', 'peopl', 'all', 'around', 'the', 'world', '.', 'i', 'think', 'comput', 'ha', 'posit', 'effect', 'on', 'peopl', 'like', 'me', '.', 'comput', 'teach', 'hand-ey', 'coordin', '.', 'it', 'can', 'help', 'if', 'you', 'need', 'to', 'find', 'out', 'reasearch', 'for', 'a', 'school', 'project', '.', 'you', 'can', 'creat', 'lot', 'of', 'thing', 'on', 'comput', 'like', 'music', ',', 'desin', '@', 'caps1-shirt', ',', 'logo', ',', 'banner', 'and', 'lot', 'of', 'other', 'creativ', 'thing', '.', 'with', 'comput', 'you', 'can', 'look', 'up', 'avail', 'home', 'and', 'apart', '.', 'you', 'can', 'even', 'go', 'onlin', 'and', 'fill', 'out', 'a', 'job', 'applic', 'and', 'save', 'trip', 'to', 'store', '@', 'caps2', 'cool', 'is', 'that', '!', '!', 'well', 'im', 'a', 'regular', 'person', 'not', 'rich', 'not', 'famou', 'but', 'comput', 'provid', 'lot', 'of', 'inform', 'peopl', 'use', 'today', '.', 'that', 'whi', 'i', 'think', 'that', 'comput', 'ha', 'a', 'posit', 'effect', 'on', 'peopl', 'and', 'you', 'don', \"'\", '@', 'caps1', 'have', 'to', 'be', 'super', 'smart', 'to', 'use', 'one', '.']]\n"
          ]
        }
      ],
      "source": [
        "if __name__ =='__main__':\n",
        "    essay_set = 1\n",
        "    data , score = import_data(essay_set = essay_set)\n",
        "\n",
        "    new_data = []\n",
        "    for response in data:\n",
        "\n",
        "    #################################### YOUR CODE HERE ##########################\n",
        "\n",
        "        tokens =tokenize(response, sent='False')\n",
        "        stemming_result = stemming(tokens)\n",
        "        lemmatization_result = lemmatize(stemming_result)\n",
        "        new_data.append(lemmatization_result)\n",
        "\n",
        "    ##############################################################################\n",
        "\n",
        "    print(new_data[:20])"
      ]
    },
    {
      "cell_type": "markdown",
      "id": "77cf8052",
      "metadata": {
        "id": "77cf8052"
      },
      "source": [
        "<img src=\"https://i.pinimg.com/736x/2e/aa/7d/2eaa7d5021ca7c3c98bc93b98b9646fe.jpg\" align=\"left\" width=\"70\" height=\"70\" align=\"left\">\n",
        "\n",
        "> ## Task 3: Text Cleaning\n",
        "\n",
        "> - Q5. Take a look at response `#8`, `#1300`, and `#400`. Based on theses responses, what are the additional pre-processing required to answer the Q1-Q4 again?\n",
        "\n",
        "\n",
        "\n"
      ]
    },
    {
      "cell_type": "code",
      "source": [
        "#8\n",
        "data[8]\n",
        "\n",
        "#1300\n",
        "data[1300]\n",
        "\n",
        "#400\n",
        "data[400]"
      ],
      "metadata": {
        "id": "d4lUO0hLHV1R",
        "outputId": "b316d75e-f2da-4224-976d-851a0334a347",
        "colab": {
          "base_uri": "https://localhost:8080/",
          "height": 188
        }
      },
      "id": "d4lUO0hLHV1R",
      "execution_count": 18,
      "outputs": [
        {
          "output_type": "execute_result",
          "data": {
            "text/plain": [
              "\"Dear Local @CAPS1, I think that computers have a posotive effect on people. There is many ways computers can have posotive effects on humans, first computers bring people together and let people interact with each other, They let people talk to each other. Computers also let people learn about new things. The internet has so much information. Computers also let people do things that they can't do with out computers. So computers have a positive effect on people. Computers let people interact with each other. The computers bring people together. People can use the internet to send emails to each other. When you need to write a letter to some one it might take days for them to got it. But with email they would get it the second you send it. There is also website like face book that let you talk to your friends websites like that connect people. When you and you freind cant talk together you just have to get on you computer. Computers also have web camera, those let people talk to echother. and you can see them. It lets people see the other persons facial expressions and hear the there voice which is better than on a phone and writing a letter to someone thats why computers are a positive effect on people Computers also let you learn about new things when ever you want to find somthing out or if you have a question you go to the internet. If you someone else they might not know the answer. Computer let people see pictures and videos. If you wanted to see a picture of @CAPS2 are that you are going into a computer and type it in computers let people see pictures that they couldn't see in real life. Vidios let you watch things like something funny to cheer up you day. If you love a show on to, and you missed it you can find it on computer. That is why computer benifit people positively. Computers also let you do things that you couldn't do without. When a teacher asks me to type a paper I always do it on the computer. If there were no computers I would have to use a typewriter and if I made a mistake I would have to type the whole thing again. Computers also alow you to play music. On the computer you can put a cd in and it will play the music. Computers alow you to do things that couldnt do without Computers benifit society an have a positive effect on people, They let people interact with each other and they bring people together. They let people talk to each other. Computers also let you learn about newthings. They also let you do things that you couldnt do without. Computers have many positive effects on people so I hope you agree that computers benifit soctity\""
            ],
            "application/vnd.google.colaboratory.intrinsic+json": {
              "type": "string"
            }
          },
          "metadata": {},
          "execution_count": 18
        }
      ]
    },
    {
      "cell_type": "code",
      "execution_count": 16,
      "id": "bd754226",
      "metadata": {
        "id": "bd754226"
      },
      "outputs": [],
      "source": [
        "### What are the missing processing steps that we need to do?\n",
        "def cleaning(string):\n",
        "\n",
        "    import re\n",
        "    string = string.lower() # step 1. lowercase\n",
        "\n",
        "    punc = '!\"#$%&\\'()*+,-./:;<=>?@[\\\\]^_`{|}~' # step 2. remove punctuations\n",
        "    string = string.strip(punc)\n",
        "\n",
        "    string = string.replace(\"can't\", 'cannot') # step 3. replace abbreviated forms\n",
        "    string = string.replace(\"n't\", ' not')\n",
        "    string = string.replace(\"'ll\", ' will')\n",
        "    string = string.replace(\"'m\", ' am')\n",
        "    string = string.replace(\"he's\", \"he is\")\n",
        "    string = string.replace(\"it's\", 'it is')\n",
        "\n",
        "    string = re.sub(r\"\\d+\", \"<DIGIT>\", string) # step 4. replace all the numbers to <DIGIT>\n",
        "\n",
        "    return string"
      ]
    },
    {
      "cell_type": "code",
      "execution_count": 17,
      "id": "60b89f53",
      "metadata": {
        "id": "60b89f53",
        "outputId": "2698e4e4-1e4b-4951-cd72-32fc0105536e",
        "colab": {
          "base_uri": "https://localhost:8080/"
        }
      },
      "outputs": [
        {
          "output_type": "stream",
          "name": "stdout",
          "text": [
            "the total N is:  1783\n",
            "average score is:  8.528323051037576\n",
            "\n",
            "sample response: Dear local newspaper, I think effects computers have on people are great learning skills/affects because they give us time to chat with friends/new people, helps us learn about the globe(astronomy) and keeps us out of troble! Thing about! Dont you think so? How would you feel if your teenager is always on the phone with friends! Do you ever time to chat with your friends or buisness partner about things. Well now - there's a new way to chat the computer, theirs plenty of sites on the internet to do so: @ORGANIZATION1, @ORGANIZATION2, @CAPS1, facebook, myspace ect. Just think now while your setting up meeting with your boss on the computer, your teenager is having fun on the phone not rushing to get off cause you want to use it. How did you learn about other countrys/states outside of yours? Well I have by computer/internet, it's a new way to learn about what going on in our time! You might think your child spends a lot of time on the computer, but ask them so question about the economy, sea floor spreading or even about the @DATE1's you'll be surprise at how much he/she knows. Believe it or not the computer is much interesting then in class all day reading out of books. If your child is home on your computer or at a local library, it's better than being out with friends being fresh, or being perpressured to doing something they know isnt right. You might not know where your child is, @CAPS2 forbidde in a hospital bed because of a drive-by. Rather than your child on the computer learning, chatting or just playing games, safe and sound in your home or community place. Now I hope you have reached a point to understand and agree with me, because computers can have great effects on you or child because it gives us time to chat with friends/new people, helps us learn about the globe and believe or not keeps us out of troble. Thank you for listening.\n"
          ]
        }
      ],
      "source": [
        "if __name__ =='__main__':\n",
        "    essay_set = 1\n",
        "    data , score = import_data(essay_set = essay_set)\n",
        "\n",
        "    #################################### YOUR CODE HERE ##########################\n",
        "    new_data = []\n",
        "    for response in data:\n",
        "        response = cleaning(response)\n",
        "        tokens =tokenize(response, sent='False')\n",
        "        stemming_result = stemming(tokens)\n",
        "        lemmatization_result = lemmatize(stemming_result)\n",
        "        new_data.append(lemmatization_result)\n",
        "    ##############################################################################\n"
      ]
    },
    {
      "cell_type": "code",
      "source": [
        "## new_data[1]"
      ],
      "metadata": {
        "id": "ZSD-WUOTHdmz"
      },
      "id": "ZSD-WUOTHdmz",
      "execution_count": null,
      "outputs": []
    },
    {
      "cell_type": "markdown",
      "id": "60df8e06",
      "metadata": {
        "id": "60df8e06"
      },
      "source": [
        "### 3.3. Restructure the output into a DataFrame\n",
        "> We learned last time how we could use `pandas.dataframe` to structure a dataset into a dataframe."
      ]
    },
    {
      "cell_type": "code",
      "execution_count": 21,
      "id": "92cc9a16",
      "metadata": {
        "id": "92cc9a16",
        "outputId": "8b4699c2-ec5d-4b51-9977-2aa8bd1f5b91",
        "colab": {
          "base_uri": "https://localhost:8080/"
        }
      },
      "outputs": [
        {
          "output_type": "stream",
          "name": "stdout",
          "text": [
            "(['dear', 'local', 'newspap', ',', 'i', 'think', 'effect', 'comput', 'have', 'on', 'peopl', 'are', 'great', 'learn', 'skills/affect', 'becaus', 'they', 'give', 'u', 'time', 'to', 'chat', 'with', 'friends/new', 'peopl', ',', 'help', 'u', 'learn', 'about', 'the', 'globe', '(', 'astronomi', ')', 'and', 'keep', 'u', 'out', 'of', 'trobl', '!', 'thing', 'about', '!', 'dont', 'you', 'think', 'so', '?', 'how', 'would', 'you', 'feel', 'if', 'your', 'teenag', 'is', 'alway', 'on', 'the', 'phone', 'with', 'friend', '!', 'do', 'you', 'ever', 'time', 'to', 'chat', 'with', 'your', 'friend', 'or', 'buis', 'partner', 'about', 'thing', '.', 'well', 'now', '-', 'there', \"'s\", 'a', 'new', 'way', 'to', 'chat', 'the', 'comput', ',', 'their', 'plenti', 'of', 'site', 'on', 'the', 'internet', 'to', 'do', 'so', ':', '@', 'organ', '<', 'digit', '>', ',', '@', 'organ', '<', 'digit', '>', ',', '@', 'cap', '<', 'digit', '>', ',', 'facebook', ',', 'myspac', 'ect', '.', 'just', 'think', 'now', 'while', 'your', 'set', 'up', 'meet', 'with', 'your', 'bos', 'on', 'the', 'comput', ',', 'your', 'teenag', 'is', 'have', 'fun', 'on', 'the', 'phone', 'not', 'rush', 'to', 'get', 'off', 'caus', 'you', 'want', 'to', 'use', 'it', '.', 'how', 'did', 'you', 'learn', 'about', 'other', 'countrys/st', 'outsid', 'of', 'your', '?', 'well', 'i', 'have', 'by', 'computer/internet', ',', 'it', 'is', 'a', 'new', 'way', 'to', 'learn', 'about', 'what', 'go', 'on', 'in', 'our', 'time', '!', 'you', 'might', 'think', 'your', 'child', 'spend', 'a', 'lot', 'of', 'time', 'on', 'the', 'comput', ',', 'but', 'ask', 'them', 'so', 'question', 'about', 'the', 'economi', ',', 'sea', 'floor', 'spread', 'or', 'even', 'about', 'the', '@', 'date', '<', 'digit', '>', \"'s\", 'you', 'will', 'be', 'surpris', 'at', 'how', 'much', 'he/sh', 'know', '.', 'believ', 'it', 'or', 'not', 'the', 'comput', 'is', 'much', 'interest', 'then', 'in', 'class', 'all', 'day', 'read', 'out', 'of', 'book', '.', 'if', 'your', 'child', 'is', 'home', 'on', 'your', 'comput', 'or', 'at', 'a', 'local', 'librari', ',', 'it', 'is', 'better', 'than', 'be', 'out', 'with', 'friend', 'be', 'fresh', ',', 'or', 'be', 'perpressur', 'to', 'do', 'someth', 'they', 'know', 'isnt', 'right', '.', 'you', 'might', 'not', 'know', 'where', 'your', 'child', 'is', ',', '@', 'cap', '<', 'digit', '>', 'forbidd', 'in', 'a', 'hospit', 'bed', 'becaus', 'of', 'a', 'drive-bi', '.', 'rather', 'than', 'your', 'child', 'on', 'the', 'comput', 'learn', ',', 'chat', 'or', 'just', 'play', 'game', ',', 'safe', 'and', 'sound', 'in', 'your', 'home', 'or', 'commun', 'place', '.', 'now', 'i', 'hope', 'you', 'have', 'reach', 'a', 'point', 'to', 'understand', 'and', 'agre', 'with', 'me', ',', 'becaus', 'comput', 'can', 'have', 'great', 'effect', 'on', 'you', 'or', 'child', 'becaus', 'it', 'give', 'u', 'time', 'to', 'chat', 'with', 'friends/new', 'peopl', ',', 'help', 'u', 'learn', 'about', 'the', 'globe', 'and', 'believ', 'or', 'not', 'keep', 'u', 'out', 'of', 'trobl', '.', 'thank', 'you', 'for', 'listen'], 8.0)\n"
          ]
        }
      ],
      "source": [
        "# we will first have to create a zipped list\n",
        "\n",
        "## Zip attaches paired values from two separate lists\n",
        "\n",
        "zipped_list = list(zip(new_data, score))\n",
        "print(zipped_list[0])"
      ]
    },
    {
      "cell_type": "code",
      "execution_count": 22,
      "id": "17f6e32f",
      "metadata": {
        "id": "17f6e32f",
        "outputId": "b40c2e6c-58dd-4496-b288-dcff57dac887",
        "colab": {
          "base_uri": "https://localhost:8080/",
          "height": 419
        }
      },
      "outputs": [
        {
          "output_type": "execute_result",
          "data": {
            "text/plain": [
              "                                       cleaned_response  score\n",
              "0     [dear, local, newspap, ,, i, think, effect, co...    8.0\n",
              "1     [dear, @, cap, <, digit, >, @, cap, <, digit, ...    9.0\n",
              "2     [dear, ,, @, cap, <, digit, >, @, cap, <, digi...    7.0\n",
              "3     [dear, local, newspap, ,, @, cap, <, digit, >,...   10.0\n",
              "4     [dear, @, locat, <, digit, >, ,, i, know, have...    8.0\n",
              "...                                                 ...    ...\n",
              "1778  [dear, @, cap, <, digit, >, ,, @, cap, <, digi...    8.0\n",
              "1779  [do, a, adult, and, kid, spend, to, much, time...    7.0\n",
              "1780  [my, opinion, is, that, peopl, should, have, c...    8.0\n",
              "1781  [dear, reader, ,, i, think, that, it, good, an...    2.0\n",
              "1782  [dear, -, local, newspap, i, agre, that, compu...    7.0\n",
              "\n",
              "[1783 rows x 2 columns]"
            ],
            "text/html": [
              "\n",
              "  <div id=\"df-7a304ef9-eb16-43b8-9e10-967e6f4759ac\" class=\"colab-df-container\">\n",
              "    <div>\n",
              "<style scoped>\n",
              "    .dataframe tbody tr th:only-of-type {\n",
              "        vertical-align: middle;\n",
              "    }\n",
              "\n",
              "    .dataframe tbody tr th {\n",
              "        vertical-align: top;\n",
              "    }\n",
              "\n",
              "    .dataframe thead th {\n",
              "        text-align: right;\n",
              "    }\n",
              "</style>\n",
              "<table border=\"1\" class=\"dataframe\">\n",
              "  <thead>\n",
              "    <tr style=\"text-align: right;\">\n",
              "      <th></th>\n",
              "      <th>cleaned_response</th>\n",
              "      <th>score</th>\n",
              "    </tr>\n",
              "  </thead>\n",
              "  <tbody>\n",
              "    <tr>\n",
              "      <th>0</th>\n",
              "      <td>[dear, local, newspap, ,, i, think, effect, co...</td>\n",
              "      <td>8.0</td>\n",
              "    </tr>\n",
              "    <tr>\n",
              "      <th>1</th>\n",
              "      <td>[dear, @, cap, &lt;, digit, &gt;, @, cap, &lt;, digit, ...</td>\n",
              "      <td>9.0</td>\n",
              "    </tr>\n",
              "    <tr>\n",
              "      <th>2</th>\n",
              "      <td>[dear, ,, @, cap, &lt;, digit, &gt;, @, cap, &lt;, digi...</td>\n",
              "      <td>7.0</td>\n",
              "    </tr>\n",
              "    <tr>\n",
              "      <th>3</th>\n",
              "      <td>[dear, local, newspap, ,, @, cap, &lt;, digit, &gt;,...</td>\n",
              "      <td>10.0</td>\n",
              "    </tr>\n",
              "    <tr>\n",
              "      <th>4</th>\n",
              "      <td>[dear, @, locat, &lt;, digit, &gt;, ,, i, know, have...</td>\n",
              "      <td>8.0</td>\n",
              "    </tr>\n",
              "    <tr>\n",
              "      <th>...</th>\n",
              "      <td>...</td>\n",
              "      <td>...</td>\n",
              "    </tr>\n",
              "    <tr>\n",
              "      <th>1778</th>\n",
              "      <td>[dear, @, cap, &lt;, digit, &gt;, ,, @, cap, &lt;, digi...</td>\n",
              "      <td>8.0</td>\n",
              "    </tr>\n",
              "    <tr>\n",
              "      <th>1779</th>\n",
              "      <td>[do, a, adult, and, kid, spend, to, much, time...</td>\n",
              "      <td>7.0</td>\n",
              "    </tr>\n",
              "    <tr>\n",
              "      <th>1780</th>\n",
              "      <td>[my, opinion, is, that, peopl, should, have, c...</td>\n",
              "      <td>8.0</td>\n",
              "    </tr>\n",
              "    <tr>\n",
              "      <th>1781</th>\n",
              "      <td>[dear, reader, ,, i, think, that, it, good, an...</td>\n",
              "      <td>2.0</td>\n",
              "    </tr>\n",
              "    <tr>\n",
              "      <th>1782</th>\n",
              "      <td>[dear, -, local, newspap, i, agre, that, compu...</td>\n",
              "      <td>7.0</td>\n",
              "    </tr>\n",
              "  </tbody>\n",
              "</table>\n",
              "<p>1783 rows × 2 columns</p>\n",
              "</div>\n",
              "    <div class=\"colab-df-buttons\">\n",
              "\n",
              "  <div class=\"colab-df-container\">\n",
              "    <button class=\"colab-df-convert\" onclick=\"convertToInteractive('df-7a304ef9-eb16-43b8-9e10-967e6f4759ac')\"\n",
              "            title=\"Convert this dataframe to an interactive table.\"\n",
              "            style=\"display:none;\">\n",
              "\n",
              "  <svg xmlns=\"http://www.w3.org/2000/svg\" height=\"24px\" viewBox=\"0 -960 960 960\">\n",
              "    <path d=\"M120-120v-720h720v720H120Zm60-500h600v-160H180v160Zm220 220h160v-160H400v160Zm0 220h160v-160H400v160ZM180-400h160v-160H180v160Zm440 0h160v-160H620v160ZM180-180h160v-160H180v160Zm440 0h160v-160H620v160Z\"/>\n",
              "  </svg>\n",
              "    </button>\n",
              "\n",
              "  <style>\n",
              "    .colab-df-container {\n",
              "      display:flex;\n",
              "      gap: 12px;\n",
              "    }\n",
              "\n",
              "    .colab-df-convert {\n",
              "      background-color: #E8F0FE;\n",
              "      border: none;\n",
              "      border-radius: 50%;\n",
              "      cursor: pointer;\n",
              "      display: none;\n",
              "      fill: #1967D2;\n",
              "      height: 32px;\n",
              "      padding: 0 0 0 0;\n",
              "      width: 32px;\n",
              "    }\n",
              "\n",
              "    .colab-df-convert:hover {\n",
              "      background-color: #E2EBFA;\n",
              "      box-shadow: 0px 1px 2px rgba(60, 64, 67, 0.3), 0px 1px 3px 1px rgba(60, 64, 67, 0.15);\n",
              "      fill: #174EA6;\n",
              "    }\n",
              "\n",
              "    .colab-df-buttons div {\n",
              "      margin-bottom: 4px;\n",
              "    }\n",
              "\n",
              "    [theme=dark] .colab-df-convert {\n",
              "      background-color: #3B4455;\n",
              "      fill: #D2E3FC;\n",
              "    }\n",
              "\n",
              "    [theme=dark] .colab-df-convert:hover {\n",
              "      background-color: #434B5C;\n",
              "      box-shadow: 0px 1px 3px 1px rgba(0, 0, 0, 0.15);\n",
              "      filter: drop-shadow(0px 1px 2px rgba(0, 0, 0, 0.3));\n",
              "      fill: #FFFFFF;\n",
              "    }\n",
              "  </style>\n",
              "\n",
              "    <script>\n",
              "      const buttonEl =\n",
              "        document.querySelector('#df-7a304ef9-eb16-43b8-9e10-967e6f4759ac button.colab-df-convert');\n",
              "      buttonEl.style.display =\n",
              "        google.colab.kernel.accessAllowed ? 'block' : 'none';\n",
              "\n",
              "      async function convertToInteractive(key) {\n",
              "        const element = document.querySelector('#df-7a304ef9-eb16-43b8-9e10-967e6f4759ac');\n",
              "        const dataTable =\n",
              "          await google.colab.kernel.invokeFunction('convertToInteractive',\n",
              "                                                    [key], {});\n",
              "        if (!dataTable) return;\n",
              "\n",
              "        const docLinkHtml = 'Like what you see? Visit the ' +\n",
              "          '<a target=\"_blank\" href=https://colab.research.google.com/notebooks/data_table.ipynb>data table notebook</a>'\n",
              "          + ' to learn more about interactive tables.';\n",
              "        element.innerHTML = '';\n",
              "        dataTable['output_type'] = 'display_data';\n",
              "        await google.colab.output.renderOutput(dataTable, element);\n",
              "        const docLink = document.createElement('div');\n",
              "        docLink.innerHTML = docLinkHtml;\n",
              "        element.appendChild(docLink);\n",
              "      }\n",
              "    </script>\n",
              "  </div>\n",
              "\n",
              "\n",
              "<div id=\"df-b5dd4c39-3867-4f0c-91b3-1557f060f835\">\n",
              "  <button class=\"colab-df-quickchart\" onclick=\"quickchart('df-b5dd4c39-3867-4f0c-91b3-1557f060f835')\"\n",
              "            title=\"Suggest charts.\"\n",
              "            style=\"display:none;\">\n",
              "\n",
              "<svg xmlns=\"http://www.w3.org/2000/svg\" height=\"24px\"viewBox=\"0 0 24 24\"\n",
              "     width=\"24px\">\n",
              "    <g>\n",
              "        <path d=\"M19 3H5c-1.1 0-2 .9-2 2v14c0 1.1.9 2 2 2h14c1.1 0 2-.9 2-2V5c0-1.1-.9-2-2-2zM9 17H7v-7h2v7zm4 0h-2V7h2v10zm4 0h-2v-4h2v4z\"/>\n",
              "    </g>\n",
              "</svg>\n",
              "  </button>\n",
              "\n",
              "<style>\n",
              "  .colab-df-quickchart {\n",
              "      --bg-color: #E8F0FE;\n",
              "      --fill-color: #1967D2;\n",
              "      --hover-bg-color: #E2EBFA;\n",
              "      --hover-fill-color: #174EA6;\n",
              "      --disabled-fill-color: #AAA;\n",
              "      --disabled-bg-color: #DDD;\n",
              "  }\n",
              "\n",
              "  [theme=dark] .colab-df-quickchart {\n",
              "      --bg-color: #3B4455;\n",
              "      --fill-color: #D2E3FC;\n",
              "      --hover-bg-color: #434B5C;\n",
              "      --hover-fill-color: #FFFFFF;\n",
              "      --disabled-bg-color: #3B4455;\n",
              "      --disabled-fill-color: #666;\n",
              "  }\n",
              "\n",
              "  .colab-df-quickchart {\n",
              "    background-color: var(--bg-color);\n",
              "    border: none;\n",
              "    border-radius: 50%;\n",
              "    cursor: pointer;\n",
              "    display: none;\n",
              "    fill: var(--fill-color);\n",
              "    height: 32px;\n",
              "    padding: 0;\n",
              "    width: 32px;\n",
              "  }\n",
              "\n",
              "  .colab-df-quickchart:hover {\n",
              "    background-color: var(--hover-bg-color);\n",
              "    box-shadow: 0 1px 2px rgba(60, 64, 67, 0.3), 0 1px 3px 1px rgba(60, 64, 67, 0.15);\n",
              "    fill: var(--button-hover-fill-color);\n",
              "  }\n",
              "\n",
              "  .colab-df-quickchart-complete:disabled,\n",
              "  .colab-df-quickchart-complete:disabled:hover {\n",
              "    background-color: var(--disabled-bg-color);\n",
              "    fill: var(--disabled-fill-color);\n",
              "    box-shadow: none;\n",
              "  }\n",
              "\n",
              "  .colab-df-spinner {\n",
              "    border: 2px solid var(--fill-color);\n",
              "    border-color: transparent;\n",
              "    border-bottom-color: var(--fill-color);\n",
              "    animation:\n",
              "      spin 1s steps(1) infinite;\n",
              "  }\n",
              "\n",
              "  @keyframes spin {\n",
              "    0% {\n",
              "      border-color: transparent;\n",
              "      border-bottom-color: var(--fill-color);\n",
              "      border-left-color: var(--fill-color);\n",
              "    }\n",
              "    20% {\n",
              "      border-color: transparent;\n",
              "      border-left-color: var(--fill-color);\n",
              "      border-top-color: var(--fill-color);\n",
              "    }\n",
              "    30% {\n",
              "      border-color: transparent;\n",
              "      border-left-color: var(--fill-color);\n",
              "      border-top-color: var(--fill-color);\n",
              "      border-right-color: var(--fill-color);\n",
              "    }\n",
              "    40% {\n",
              "      border-color: transparent;\n",
              "      border-right-color: var(--fill-color);\n",
              "      border-top-color: var(--fill-color);\n",
              "    }\n",
              "    60% {\n",
              "      border-color: transparent;\n",
              "      border-right-color: var(--fill-color);\n",
              "    }\n",
              "    80% {\n",
              "      border-color: transparent;\n",
              "      border-right-color: var(--fill-color);\n",
              "      border-bottom-color: var(--fill-color);\n",
              "    }\n",
              "    90% {\n",
              "      border-color: transparent;\n",
              "      border-bottom-color: var(--fill-color);\n",
              "    }\n",
              "  }\n",
              "</style>\n",
              "\n",
              "  <script>\n",
              "    async function quickchart(key) {\n",
              "      const quickchartButtonEl =\n",
              "        document.querySelector('#' + key + ' button');\n",
              "      quickchartButtonEl.disabled = true;  // To prevent multiple clicks.\n",
              "      quickchartButtonEl.classList.add('colab-df-spinner');\n",
              "      try {\n",
              "        const charts = await google.colab.kernel.invokeFunction(\n",
              "            'suggestCharts', [key], {});\n",
              "      } catch (error) {\n",
              "        console.error('Error during call to suggestCharts:', error);\n",
              "      }\n",
              "      quickchartButtonEl.classList.remove('colab-df-spinner');\n",
              "      quickchartButtonEl.classList.add('colab-df-quickchart-complete');\n",
              "    }\n",
              "    (() => {\n",
              "      let quickchartButtonEl =\n",
              "        document.querySelector('#df-b5dd4c39-3867-4f0c-91b3-1557f060f835 button');\n",
              "      quickchartButtonEl.style.display =\n",
              "        google.colab.kernel.accessAllowed ? 'block' : 'none';\n",
              "    })();\n",
              "  </script>\n",
              "</div>\n",
              "    </div>\n",
              "  </div>\n"
            ]
          },
          "metadata": {},
          "execution_count": 22
        }
      ],
      "source": [
        "import pandas as pd\n",
        "df = pd.DataFrame(zipped_list, columns=['cleaned_response', 'score'])\n",
        "df"
      ]
    }
  ],
  "metadata": {
    "kernelspec": {
      "display_name": "Python 3 (ipykernel)",
      "language": "python",
      "name": "python3"
    },
    "language_info": {
      "codemirror_mode": {
        "name": "ipython",
        "version": 3
      },
      "file_extension": ".py",
      "mimetype": "text/x-python",
      "name": "python",
      "nbconvert_exporter": "python",
      "pygments_lexer": "ipython3",
      "version": "3.8.8"
    },
    "colab": {
      "provenance": []
    }
  },
  "nbformat": 4,
  "nbformat_minor": 5
}